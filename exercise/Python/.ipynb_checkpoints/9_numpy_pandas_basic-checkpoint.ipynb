{
 "cells": [
  {
   "cell_type": "code",
   "execution_count": 1,
   "metadata": {
    "collapsed": true
   },
   "outputs": [],
   "source": [
    "import numpy as np"
   ]
  },
  {
   "cell_type": "code",
   "execution_count": 2,
   "metadata": {
    "collapsed": false
   },
   "outputs": [
    {
     "name": "stdout",
     "output_type": "stream",
     "text": [
      "[1 2 3]\n"
     ]
    }
   ],
   "source": [
    "arr1 = np.array([1, 2, 3])\n",
    "print arr1"
   ]
  },
  {
   "cell_type": "code",
   "execution_count": 4,
   "metadata": {
    "collapsed": false
   },
   "outputs": [
    {
     "name": "stdout",
     "output_type": "stream",
     "text": [
      "[[1 2]\n",
      " [3 4]]\n"
     ]
    }
   ],
   "source": [
    "arr2 = np.array([[1, 2],[3, 4]])\n",
    "print arr2"
   ]
  },
  {
   "cell_type": "code",
   "execution_count": 5,
   "metadata": {
    "collapsed": false
   },
   "outputs": [
    {
     "name": "stdout",
     "output_type": "stream",
     "text": [
      "[0 1 2]\n"
     ]
    }
   ],
   "source": [
    "arr3 = np.arange(3)\n",
    "print arr3"
   ]
  },
  {
   "cell_type": "code",
   "execution_count": 8,
   "metadata": {
    "collapsed": false
   },
   "outputs": [
    {
     "name": "stdout",
     "output_type": "stream",
     "text": [
      "[ 0.  1.  2.  3.  4.]\n"
     ]
    }
   ],
   "source": [
    "arr4 = np.linspace(0, 4, 5)\n",
    "print arr4"
   ]
  },
  {
   "cell_type": "code",
   "execution_count": 9,
   "metadata": {
    "collapsed": false
   },
   "outputs": [
    {
     "name": "stdout",
     "output_type": "stream",
     "text": [
      "[[ 0.  0.  0.]\n",
      " [ 0.  0.  0.]\n",
      " [ 0.  0.  0.]]\n"
     ]
    }
   ],
   "source": [
    "print np.zeros((3, 3))"
   ]
  },
  {
   "cell_type": "code",
   "execution_count": 10,
   "metadata": {
    "collapsed": false
   },
   "outputs": [
    {
     "name": "stdout",
     "output_type": "stream",
     "text": [
      "[[ 1.  1.]\n",
      " [ 1.  1.]]\n"
     ]
    }
   ],
   "source": [
    "print np.ones((2, 2))"
   ]
  },
  {
   "cell_type": "code",
   "execution_count": 12,
   "metadata": {
    "collapsed": false
   },
   "outputs": [
    {
     "name": "stdout",
     "output_type": "stream",
     "text": [
      "[ 0.49347638  0.22477978  0.64465925]\n",
      "[ 1.71939547  0.86962925  0.16449106]\n"
     ]
    }
   ],
   "source": [
    "print np.random.rand(3)\n",
    "print np.random.randn(3)"
   ]
  },
  {
   "cell_type": "code",
   "execution_count": 13,
   "metadata": {
    "collapsed": false
   },
   "outputs": [
    {
     "name": "stdout",
     "output_type": "stream",
     "text": [
      "[2 3]\n"
     ]
    }
   ],
   "source": [
    "arr1 = np.array([1, 2, 3, 4])\n",
    "print arr1[1:-1]"
   ]
  },
  {
   "cell_type": "code",
   "execution_count": 15,
   "metadata": {
    "collapsed": false
   },
   "outputs": [
    {
     "name": "stdout",
     "output_type": "stream",
     "text": [
      "[2 5]\n"
     ]
    }
   ],
   "source": [
    "arr2 = np.array([[1, 2, 3],[4, 5, 6]])\n",
    "print arr2[:, 1]"
   ]
  },
  {
   "cell_type": "code",
   "execution_count": 24,
   "metadata": {
    "collapsed": false
   },
   "outputs": [
    {
     "name": "stdout",
     "output_type": "stream",
     "text": [
      "[ 2  0 25  2  1]\n",
      "[1, 2, 3, 4, 5]\n"
     ]
    }
   ],
   "source": [
    "arr = np.random.randint(0, 35, 5)\n",
    "print arr\n",
    "arrlist = [1, 2, 3, 4, 5]\n",
    "print arrlist"
   ]
  },
  {
   "cell_type": "code",
   "execution_count": 25,
   "metadata": {
    "collapsed": false
   },
   "outputs": [
    {
     "name": "stdout",
     "output_type": "stream",
     "text": [
      "[ True  True False  True False]\n"
     ]
    },
    {
     "ename": "TypeError",
     "evalue": "unsupported operand type(s) for %: 'list' and 'int'",
     "output_type": "error",
     "traceback": [
      "\u001b[1;31m---------------------------------------------------------------------------\u001b[0m",
      "\u001b[1;31mTypeError\u001b[0m                                 Traceback (most recent call last)",
      "\u001b[1;32m<ipython-input-25-810a32d247e1>\u001b[0m in \u001b[0;36m<module>\u001b[1;34m()\u001b[0m\n\u001b[0;32m      1\u001b[0m \u001b[0meven_mask\u001b[0m \u001b[1;33m=\u001b[0m \u001b[1;33m(\u001b[0m\u001b[0marr\u001b[0m \u001b[1;33m%\u001b[0m \u001b[1;36m2\u001b[0m \u001b[1;33m==\u001b[0m \u001b[1;36m0\u001b[0m\u001b[1;33m)\u001b[0m\u001b[1;33m\u001b[0m\u001b[0m\n\u001b[0;32m      2\u001b[0m \u001b[1;32mprint\u001b[0m \u001b[0meven_mask\u001b[0m\u001b[1;33m\u001b[0m\u001b[0m\n\u001b[1;32m----> 3\u001b[1;33m \u001b[0meven_mask2\u001b[0m \u001b[1;33m=\u001b[0m \u001b[1;33m(\u001b[0m\u001b[0marrlist\u001b[0m \u001b[1;33m%\u001b[0m \u001b[1;36m2\u001b[0m \u001b[1;33m==\u001b[0m\u001b[1;36m0\u001b[0m\u001b[1;33m)\u001b[0m\u001b[1;33m\u001b[0m\u001b[0m\n\u001b[0m\u001b[0;32m      4\u001b[0m \u001b[1;32mprint\u001b[0m \u001b[0meven_mask2\u001b[0m\u001b[1;33m\u001b[0m\u001b[0m\n",
      "\u001b[1;31mTypeError\u001b[0m: unsupported operand type(s) for %: 'list' and 'int'"
     ]
    }
   ],
   "source": [
    "even_mask = (arr % 2 == 0)\n",
    "print even_mask\n",
    "even_mask2 = (arrlist % 2 ==0)\n",
    "print even_mask2"
   ]
  },
  {
   "cell_type": "code",
   "execution_count": 28,
   "metadata": {
    "collapsed": false
   },
   "outputs": [
    {
     "name": "stdout",
     "output_type": "stream",
     "text": [
      "[2 0 2]\n"
     ]
    },
    {
     "ename": "TypeError",
     "evalue": "only integer arrays with one element can be converted to an index",
     "output_type": "error",
     "traceback": [
      "\u001b[1;31m---------------------------------------------------------------------------\u001b[0m",
      "\u001b[1;31mTypeError\u001b[0m                                 Traceback (most recent call last)",
      "\u001b[1;32m<ipython-input-28-ab9058f5c06f>\u001b[0m in \u001b[0;36m<module>\u001b[1;34m()\u001b[0m\n\u001b[0;32m      1\u001b[0m \u001b[1;32mprint\u001b[0m \u001b[0marr\u001b[0m\u001b[1;33m[\u001b[0m\u001b[0meven_mask\u001b[0m\u001b[1;33m]\u001b[0m\u001b[1;33m\u001b[0m\u001b[0m\n\u001b[1;32m----> 2\u001b[1;33m \u001b[1;32mprint\u001b[0m \u001b[0marrlist\u001b[0m\u001b[1;33m[\u001b[0m\u001b[0meven_mask\u001b[0m\u001b[1;33m]\u001b[0m\u001b[1;33m\u001b[0m\u001b[0m\n\u001b[0m",
      "\u001b[1;31mTypeError\u001b[0m: only integer arrays with one element can be converted to an index"
     ]
    }
   ],
   "source": [
    "print arr[even_mask]\n",
    "print arrlist[even_mask]"
   ]
  },
  {
   "cell_type": "code",
   "execution_count": 30,
   "metadata": {
    "collapsed": false
   },
   "outputs": [
    {
     "name": "stdout",
     "output_type": "stream",
     "text": [
      "[2 0 2]\n"
     ]
    }
   ],
   "source": [
    "print arr[arr % 2 == 0]"
   ]
  },
  {
   "cell_type": "code",
   "execution_count": 32,
   "metadata": {
    "collapsed": false
   },
   "outputs": [
    {
     "ename": "TypeError",
     "evalue": "unsupported operand type(s) for %: 'list' and 'int'",
     "output_type": "error",
     "traceback": [
      "\u001b[1;31m---------------------------------------------------------------------------\u001b[0m",
      "\u001b[1;31mTypeError\u001b[0m                                 Traceback (most recent call last)",
      "\u001b[1;32m<ipython-input-32-e9c3648922f2>\u001b[0m in \u001b[0;36m<module>\u001b[1;34m()\u001b[0m\n\u001b[1;32m----> 1\u001b[1;33m \u001b[1;32mprint\u001b[0m \u001b[0marrlist\u001b[0m\u001b[1;33m[\u001b[0m\u001b[0marrlist\u001b[0m \u001b[1;33m%\u001b[0m \u001b[1;36m2\u001b[0m \u001b[1;33m==\u001b[0m \u001b[1;36m0\u001b[0m\u001b[1;33m]\u001b[0m\u001b[1;33m\u001b[0m\u001b[0m\n\u001b[0m",
      "\u001b[1;31mTypeError\u001b[0m: unsupported operand type(s) for %: 'list' and 'int'"
     ]
    }
   ],
   "source": [
    "print arrlist[arrlist % 2 == 0]"
   ]
  },
  {
   "cell_type": "code",
   "execution_count": 37,
   "metadata": {
    "collapsed": false
   },
   "outputs": [
    {
     "name": "stdout",
     "output_type": "stream",
     "text": [
      "[ 2  4  6  8 10 12]\n",
      "[1, 2, 3, 4, 5, 1, 2, 3, 4, 5]\n"
     ]
    }
   ],
   "source": [
    "arr = np.arange(1, 7) * 2\n",
    "print arr\n",
    "arrlist2 = arrlist * 2\n",
    "print arrlist2"
   ]
  },
  {
   "cell_type": "code",
   "execution_count": 42,
   "metadata": {
    "collapsed": false
   },
   "outputs": [
    {
     "name": "stdout",
     "output_type": "stream",
     "text": [
      "[ 3  6  9 12 15 18 21 24 27 30]\n"
     ]
    },
    {
     "ename": "TypeError",
     "evalue": "can only concatenate list (not \"int\") to list",
     "output_type": "error",
     "traceback": [
      "\u001b[1;31m---------------------------------------------------------------------------\u001b[0m",
      "\u001b[1;31mTypeError\u001b[0m                                 Traceback (most recent call last)",
      "\u001b[1;32m<ipython-input-42-233b25ab8fab>\u001b[0m in \u001b[0;36m<module>\u001b[1;34m()\u001b[0m\n\u001b[0;32m      1\u001b[0m \u001b[0marr1\u001b[0m \u001b[1;33m=\u001b[0m \u001b[0mnp\u001b[0m\u001b[1;33m.\u001b[0m\u001b[0marange\u001b[0m\u001b[1;33m(\u001b[0m\u001b[1;36m0\u001b[0m\u001b[1;33m,\u001b[0m \u001b[1;36m30\u001b[0m\u001b[1;33m,\u001b[0m \u001b[1;36m3\u001b[0m\u001b[1;33m)\u001b[0m \u001b[1;33m+\u001b[0m \u001b[1;36m3\u001b[0m\u001b[1;33m\u001b[0m\u001b[0m\n\u001b[0;32m      2\u001b[0m \u001b[1;32mprint\u001b[0m \u001b[0marr1\u001b[0m\u001b[1;33m\u001b[0m\u001b[0m\n\u001b[1;32m----> 3\u001b[1;33m \u001b[1;32mprint\u001b[0m \u001b[0marrlist\u001b[0m \u001b[1;33m+\u001b[0m \u001b[1;36m3\u001b[0m\u001b[1;33m\u001b[0m\u001b[0m\n\u001b[0m",
      "\u001b[1;31mTypeError\u001b[0m: can only concatenate list (not \"int\") to list"
     ]
    }
   ],
   "source": [
    "arr1 = np.arange(0, 30, 3) + 3\n",
    "print arr1\n",
    "print arrlist + 3"
   ]
  },
  {
   "cell_type": "code",
   "execution_count": 45,
   "metadata": {
    "collapsed": false
   },
   "outputs": [
    {
     "name": "stdout",
     "output_type": "stream",
     "text": [
      "[[ 11  44]\n",
      " [ 99 176]]\n",
      "[[ 77 110]\n",
      " [165 242]]\n",
      "[[ 77 110]\n",
      " [165 242]]\n"
     ]
    }
   ],
   "source": [
    "arr1= np.array([[1, 2],[3, 4]])\n",
    "arr2= np.array([[11, 22],[33, 44]])\n",
    "print arr1 * arr2\n",
    "print np.dot(arr1, arr2)\n",
    "print arr1.dot(arr2)"
   ]
  },
  {
   "cell_type": "code",
   "execution_count": 87,
   "metadata": {
    "collapsed": false
   },
   "outputs": [
    {
     "name": "stdout",
     "output_type": "stream",
     "text": [
      "[[4 6 8 1]\n",
      " [2 3 5 9]\n",
      " [5 4 8 6]\n",
      " [2 5 7 1]]\n"
     ]
    }
   ],
   "source": [
    "arr = np.random.randint(1, 10, size=(4, 4))\n",
    "print arr"
   ]
  },
  {
   "cell_type": "code",
   "execution_count": 88,
   "metadata": {
    "collapsed": false
   },
   "outputs": [
    {
     "name": "stdout",
     "output_type": "stream",
     "text": [
      "True\n",
      "True\n",
      "True\n"
     ]
    }
   ],
   "source": [
    "print np.all(arr < 11)\n",
    "#print arr.all < 11\n",
    "#print arr.all\n",
    "#print arr.all()\n",
    "print arr.all() < 11\n",
    "print np.any(arr == 5)\n"
   ]
  },
  {
   "cell_type": "code",
   "execution_count": 60,
   "metadata": {
    "collapsed": false
   },
   "outputs": [
    {
     "name": "stdout",
     "output_type": "stream",
     "text": [
      "[[ 0  1  2  3  4  5]\n",
      " [10 11 12 13 14 15]]\n",
      "[ 0  1  2  3  4  5 10 11 12 13 14 15]\n"
     ]
    }
   ],
   "source": [
    "arr = np.array([np.arange(0,6), np.arange(10,16)])\n",
    "print arr\n",
    "print arr.ravel()"
   ]
  },
  {
   "cell_type": "code",
   "execution_count": 89,
   "metadata": {
    "collapsed": false
   },
   "outputs": [
    {
     "name": "stdout",
     "output_type": "stream",
     "text": [
      "[[ 1  2  3  4  5]\n",
      " [ 6  7  8  9 10]\n",
      " [11 12 13 14 15]]\n"
     ]
    }
   ],
   "source": [
    "arr = np.arange(1, 16)\n",
    "arr2 = arr.reshape(3, 5)\n",
    "print arr2"
   ]
  },
  {
   "cell_type": "code",
   "execution_count": 96,
   "metadata": {
    "collapsed": false
   },
   "outputs": [
    {
     "name": "stdout",
     "output_type": "stream",
     "text": [
      "[ 1  2  3  4  5  6  7  8  9 10 11 12 13 14 15]\n",
      "1\n",
      "1\n",
      "4.32049379894\n",
      "0\n",
      "14\n",
      "14\n",
      "120\n",
      "[ 1.          1.41421356  1.73205081  2.          2.23606798  2.44948974\n",
      "  2.64575131  2.82842712  3.          3.16227766  3.31662479  3.46410162\n",
      "  3.60555128  3.74165739  3.87298335]\n"
     ]
    }
   ],
   "source": [
    "print arr\n",
    "print np.min(arr2)\n",
    "print arr.min()\n",
    "print np.std(arr)\n",
    "print np.argmin(arr)\n",
    "print np.argmax(arr)\n",
    "print arr.argmax()\n",
    "print np.sum(arr)\n",
    "print np.sqrt(arr)\n",
    "#print arr.sqrt()"
   ]
  },
  {
   "cell_type": "code",
   "execution_count": 116,
   "metadata": {
    "collapsed": true
   },
   "outputs": [],
   "source": [
    "import pandas as pd"
   ]
  },
  {
   "cell_type": "code",
   "execution_count": 117,
   "metadata": {
    "collapsed": false
   },
   "outputs": [
    {
     "name": "stdout",
     "output_type": "stream",
     "text": [
      "0    20\n",
      "dtype: int64\n"
     ]
    }
   ],
   "source": [
    "s1 = pd.Series(20)\n",
    "print s1"
   ]
  },
  {
   "cell_type": "code",
   "execution_count": 123,
   "metadata": {
    "collapsed": false
   },
   "outputs": [
    {
     "name": "stdout",
     "output_type": "stream",
     "text": [
      "0    1\n",
      "1    2\n",
      "2    3\n",
      "3    4\n",
      "4    5\n",
      "dtype: int64\n"
     ]
    }
   ],
   "source": [
    "s2 = pd.Series(range(1, 6))\n",
    "print s2"
   ]
  },
  {
   "cell_type": "code",
   "execution_count": 127,
   "metadata": {
    "collapsed": false
   },
   "outputs": [
    {
     "name": "stdout",
     "output_type": "stream",
     "text": [
      "[1 2 3 4 5]\n"
     ]
    }
   ],
   "source": [
    "print s2.values"
   ]
  },
  {
   "cell_type": "code",
   "execution_count": 128,
   "metadata": {
    "collapsed": false
   },
   "outputs": [
    {
     "name": "stdout",
     "output_type": "stream",
     "text": [
      "RangeIndex(start=0, stop=5, step=1)\n"
     ]
    }
   ],
   "source": [
    "print s2.index"
   ]
  },
  {
   "cell_type": "code",
   "execution_count": 132,
   "metadata": {
    "collapsed": false
   },
   "outputs": [
    {
     "name": "stdout",
     "output_type": "stream",
     "text": [
      "a    1\n",
      "b    2\n",
      "c    3\n",
      "dtype: int64\n"
     ]
    }
   ],
   "source": [
    "s3 = pd.Series(range(1,4), index = ['a', 'b', 'c'])\n",
    "print s3"
   ]
  },
  {
   "cell_type": "code",
   "execution_count": 135,
   "metadata": {
    "collapsed": false
   },
   "outputs": [
    {
     "name": "stdout",
     "output_type": "stream",
     "text": [
      "1\n",
      "1\n"
     ]
    }
   ],
   "source": [
    "print s3['a']\n",
    "print s3[0]"
   ]
  },
  {
   "cell_type": "code",
   "execution_count": 138,
   "metadata": {
    "collapsed": false
   },
   "outputs": [
    {
     "name": "stdout",
     "output_type": "stream",
     "text": [
      "a    2\n",
      "b    2\n",
      "c    2\n",
      "dtype: int64\n"
     ]
    }
   ],
   "source": [
    "s4 = pd.Series(2, index = s3.index)\n",
    "print s4"
   ]
  },
  {
   "cell_type": "code",
   "execution_count": 139,
   "metadata": {
    "collapsed": false
   },
   "outputs": [
    {
     "name": "stdout",
     "output_type": "stream",
     "text": [
      "0    1.877717\n",
      "1   -0.194557\n",
      "2   -0.337657\n",
      "dtype: float64\n"
     ]
    }
   ],
   "source": [
    "s5 = pd.Series(np.random.randn(3))\n",
    "print s5"
   ]
  },
  {
   "cell_type": "code",
   "execution_count": 140,
   "metadata": {
    "collapsed": false
   },
   "outputs": [
    {
     "name": "stdout",
     "output_type": "stream",
     "text": [
      "a    1\n",
      "b    2\n",
      "dtype: int64\n"
     ]
    }
   ],
   "source": [
    "s7 = pd.Series({'a' : 1, 'b': 2})\n",
    "print s7"
   ]
  },
  {
   "cell_type": "code",
   "execution_count": 145,
   "metadata": {
    "collapsed": false
   },
   "outputs": [
    {
     "name": "stdout",
     "output_type": "stream",
     "text": [
      "0    1.0\n",
      "1    2.0\n",
      "2    3.0\n",
      "3    NaN\n",
      "dtype: float64\n"
     ]
    }
   ],
   "source": [
    "s = pd.Series([1, 2, 3, np.nan])\n",
    "print s"
   ]
  },
  {
   "cell_type": "code",
   "execution_count": 146,
   "metadata": {
    "collapsed": false
   },
   "outputs": [
    {
     "name": "stdout",
     "output_type": "stream",
     "text": [
      "4\n"
     ]
    }
   ],
   "source": [
    "print len(s)"
   ]
  },
  {
   "cell_type": "code",
   "execution_count": 149,
   "metadata": {
    "collapsed": false
   },
   "outputs": [
    {
     "name": "stdout",
     "output_type": "stream",
     "text": [
      "4\n"
     ]
    }
   ],
   "source": [
    "print s.size"
   ]
  },
  {
   "cell_type": "code",
   "execution_count": 150,
   "metadata": {
    "collapsed": false
   },
   "outputs": [
    {
     "name": "stdout",
     "output_type": "stream",
     "text": [
      "(4L,)\n"
     ]
    }
   ],
   "source": [
    "print s.shape"
   ]
  },
  {
   "cell_type": "code",
   "execution_count": 152,
   "metadata": {
    "collapsed": false
   },
   "outputs": [
    {
     "name": "stdout",
     "output_type": "stream",
     "text": [
      "3\n"
     ]
    }
   ],
   "source": [
    "print s.count()"
   ]
  },
  {
   "cell_type": "code",
   "execution_count": 154,
   "metadata": {
    "collapsed": false
   },
   "outputs": [
    {
     "name": "stdout",
     "output_type": "stream",
     "text": [
      "[  1.   2.   3.  nan]\n"
     ]
    }
   ],
   "source": [
    "print s.unique()"
   ]
  },
  {
   "cell_type": "code",
   "execution_count": 155,
   "metadata": {
    "collapsed": false
   },
   "outputs": [
    {
     "name": "stdout",
     "output_type": "stream",
     "text": [
      "3.0    1\n",
      "2.0    1\n",
      "1.0    1\n",
      "dtype: int64\n"
     ]
    }
   ],
   "source": [
    "print s.value_counts()"
   ]
  },
  {
   "cell_type": "code",
   "execution_count": 157,
   "metadata": {
    "collapsed": false
   },
   "outputs": [
    {
     "data": {
      "text/plain": [
       "0    0\n",
       "1    1\n",
       "2    2\n",
       "3    3\n",
       "4    4\n",
       "dtype: int32"
      ]
     },
     "execution_count": 157,
     "metadata": {},
     "output_type": "execute_result"
    }
   ],
   "source": [
    "s = pd.Series(np.arange(6))\n",
    "s.head()"
   ]
  },
  {
   "cell_type": "code",
   "execution_count": 158,
   "metadata": {
    "collapsed": false
   },
   "outputs": [
    {
     "data": {
      "text/plain": [
       "0    0\n",
       "1    1\n",
       "2    2\n",
       "dtype: int32"
      ]
     },
     "execution_count": 158,
     "metadata": {},
     "output_type": "execute_result"
    }
   ],
   "source": [
    "s.head(n = 3)"
   ]
  },
  {
   "cell_type": "code",
   "execution_count": 159,
   "metadata": {
    "collapsed": false
   },
   "outputs": [
    {
     "data": {
      "text/plain": [
       "1    1\n",
       "2    2\n",
       "3    3\n",
       "4    4\n",
       "5    5\n",
       "dtype: int32"
      ]
     },
     "execution_count": 159,
     "metadata": {},
     "output_type": "execute_result"
    }
   ],
   "source": [
    "s.tail()"
   ]
  },
  {
   "cell_type": "code",
   "execution_count": 160,
   "metadata": {
    "collapsed": false
   },
   "outputs": [
    {
     "name": "stdout",
     "output_type": "stream",
     "text": [
      "0    0\n",
      "1    1\n",
      "2    2\n",
      "3    3\n",
      "4    4\n",
      "dtype: int32\n"
     ]
    }
   ],
   "source": [
    "print s.head()"
   ]
  },
  {
   "cell_type": "code",
   "execution_count": 161,
   "metadata": {
    "collapsed": false
   },
   "outputs": [
    {
     "name": "stdout",
     "output_type": "stream",
     "text": [
      "0    0\n",
      "2    2\n",
      "3    3\n",
      "dtype: int32\n"
     ]
    }
   ],
   "source": [
    "print s.take([0, 2, 3])"
   ]
  },
  {
   "cell_type": "code",
   "execution_count": 165,
   "metadata": {
    "collapsed": false
   },
   "outputs": [
    {
     "name": "stdout",
     "output_type": "stream",
     "text": [
      "a    1\n",
      "dtype: int32\n"
     ]
    }
   ],
   "source": [
    "s = pd.Series(np.arange(1,5), index = ['a', 'b', 'c' ,'d'])\n",
    "print s.take([0])"
   ]
  },
  {
   "cell_type": "code",
   "execution_count": 166,
   "metadata": {
    "collapsed": false
   },
   "outputs": [
    {
     "name": "stdout",
     "output_type": "stream",
     "text": [
      "1\n"
     ]
    }
   ],
   "source": [
    "print s['a']"
   ]
  },
  {
   "cell_type": "code",
   "execution_count": 167,
   "metadata": {
    "collapsed": false
   },
   "outputs": [
    {
     "name": "stdout",
     "output_type": "stream",
     "text": [
      "a    1\n",
      "b    2\n",
      "c    3\n",
      "d    4\n",
      "dtype: int32\n"
     ]
    }
   ],
   "source": [
    "print s"
   ]
  },
  {
   "cell_type": "code",
   "execution_count": 168,
   "metadata": {
    "collapsed": false
   },
   "outputs": [
    {
     "name": "stdout",
     "output_type": "stream",
     "text": [
      "a    1\n",
      "b    2\n",
      "dtype: int32\n"
     ]
    }
   ],
   "source": [
    "print s.take([0, 1])"
   ]
  },
  {
   "cell_type": "code",
   "execution_count": 170,
   "metadata": {
    "collapsed": false
   },
   "outputs": [
    {
     "name": "stdout",
     "output_type": "stream",
     "text": [
      "a    1\n",
      "b    2\n",
      "dtype: int32\n"
     ]
    }
   ],
   "source": [
    "print s[['a', 'b']]"
   ]
  },
  {
   "cell_type": "code",
   "execution_count": 171,
   "metadata": {
    "collapsed": false
   },
   "outputs": [
    {
     "name": "stdout",
     "output_type": "stream",
     "text": [
      "1\n"
     ]
    }
   ],
   "source": [
    "print s.loc['a']"
   ]
  },
  {
   "cell_type": "code",
   "execution_count": 172,
   "metadata": {
    "collapsed": false
   },
   "outputs": [
    {
     "name": "stdout",
     "output_type": "stream",
     "text": [
      "1\n"
     ]
    }
   ],
   "source": [
    "print s.iloc[0]"
   ]
  },
  {
   "cell_type": "code",
   "execution_count": 173,
   "metadata": {
    "collapsed": false
   },
   "outputs": [
    {
     "name": "stdout",
     "output_type": "stream",
     "text": [
      "a    1\n",
      "b    2\n",
      "dtype: int32\n"
     ]
    }
   ],
   "source": [
    "print s.loc[['a', 'b']]"
   ]
  },
  {
   "cell_type": "code",
   "execution_count": 180,
   "metadata": {
    "collapsed": false
   },
   "outputs": [
    {
     "name": "stdout",
     "output_type": "stream",
     "text": [
      "a    1\n",
      "b    2\n",
      "c    3\n",
      "d    4\n",
      "dtype: int32\n"
     ]
    }
   ],
   "source": [
    "print s.iloc[[0, 1, 2, 3]]"
   ]
  },
  {
   "cell_type": "code",
   "execution_count": 183,
   "metadata": {
    "collapsed": false
   },
   "outputs": [
    {
     "data": {
      "text/plain": [
       "a    9\n",
       "b    8\n",
       "c    7\n",
       "d    6\n",
       "dtype: int32"
      ]
     },
     "execution_count": 183,
     "metadata": {},
     "output_type": "execute_result"
    }
   ],
   "source": [
    "s1 = pd.Series(np.arange(1,5), index = ['a', 'b', 'c', 'd'])\n",
    "s2 = pd.Series(np.arange(1, 5) * 2, index = ['d', 'c', 'b', 'a'])\n",
    "\n",
    "s1 + s2"
   ]
  },
  {
   "cell_type": "code",
   "execution_count": 184,
   "metadata": {
    "collapsed": false
   },
   "outputs": [
    {
     "name": "stdout",
     "output_type": "stream",
     "text": [
      "a    1\n",
      "b    2\n",
      "c    3\n",
      "d    4\n",
      "dtype: int32\n",
      "a     1\n",
      "b     4\n",
      "c     9\n",
      "d    16\n",
      "dtype: int32\n"
     ]
    }
   ],
   "source": [
    "print s1\n",
    "print s1 ** 2"
   ]
  },
  {
   "cell_type": "code",
   "execution_count": 186,
   "metadata": {
    "collapsed": false
   },
   "outputs": [
    {
     "name": "stdout",
     "output_type": "stream",
     "text": [
      "a     NaN\n",
      "b     4.0\n",
      "c    27.0\n",
      "d     NaN\n",
      "dtype: float64\n"
     ]
    }
   ],
   "source": [
    "s1 = pd.Series({'b' : 2, 'c' : 3, 'd' : 4})\n",
    "s2 = pd.Series({'a' : 1, 'b' : 2, 'c' : 3})\n",
    "print s1 ** s2"
   ]
  },
  {
   "cell_type": "code",
   "execution_count": 188,
   "metadata": {
    "collapsed": false
   },
   "outputs": [
    {
     "data": {
      "text/plain": [
       "nan"
      ]
     },
     "execution_count": 188,
     "metadata": {},
     "output_type": "execute_result"
    }
   ],
   "source": [
    "np.array([1, 2, np.NaN]).mean()"
   ]
  },
  {
   "cell_type": "code",
   "execution_count": 192,
   "metadata": {
    "collapsed": false
   },
   "outputs": [
    {
     "name": "stdout",
     "output_type": "stream",
     "text": [
      "1.5\n",
      "nan\n"
     ]
    }
   ],
   "source": [
    "s = pd.Series([1, 2, np.NaN])\n",
    "\n",
    "print s.mean()\n",
    "print s.mean(skipna = False)"
   ]
  },
  {
   "cell_type": "code",
   "execution_count": 215,
   "metadata": {
    "collapsed": false
   },
   "outputs": [
    {
     "name": "stdout",
     "output_type": "stream",
     "text": [
      "0    1\n",
      "1    2\n",
      "2    3\n",
      "3    4\n",
      "4    5\n",
      "5    6\n",
      "6    7\n",
      "7    8\n",
      "8    9\n",
      "dtype: int32\n",
      "0    False\n",
      "1    False\n",
      "2    False\n",
      "3    False\n",
      "4    False\n",
      "5     True\n",
      "6     True\n",
      "7     True\n",
      "8     True\n",
      "dtype: bool\n",
      "5    6\n",
      "6    7\n",
      "7    8\n",
      "8    9\n",
      "dtype: int32\n"
     ]
    }
   ],
   "source": [
    "s = pd.Series(np.arange(1,10))\n",
    "print s\n",
    "print s > 5\n",
    "print s[s > 5]"
   ]
  },
  {
   "cell_type": "code",
   "execution_count": 216,
   "metadata": {
    "collapsed": false
   },
   "outputs": [
    {
     "name": "stdout",
     "output_type": "stream",
     "text": [
      "0    False\n",
      "1    False\n",
      "2    False\n",
      "3    False\n",
      "4    False\n",
      "5     True\n",
      "6     True\n",
      "7    False\n",
      "8    False\n",
      "dtype: bool\n"
     ]
    }
   ],
   "source": [
    "print (s>5) & (s<8)"
   ]
  },
  {
   "cell_type": "code",
   "execution_count": 217,
   "metadata": {
    "collapsed": false
   },
   "outputs": [
    {
     "name": "stdout",
     "output_type": "stream",
     "text": [
      "False\n"
     ]
    }
   ],
   "source": [
    "print (s>=3).all()"
   ]
  },
  {
   "cell_type": "code",
   "execution_count": 218,
   "metadata": {
    "collapsed": false
   },
   "outputs": [
    {
     "name": "stdout",
     "output_type": "stream",
     "text": [
      "42\n"
     ]
    }
   ],
   "source": [
    "print s[(s>=3)].sum()"
   ]
  },
  {
   "cell_type": "code",
   "execution_count": 219,
   "metadata": {
    "collapsed": false
   },
   "outputs": [
    {
     "name": "stdout",
     "output_type": "stream",
     "text": [
      "7\n"
     ]
    }
   ],
   "source": [
    "print (s>=3).sum()"
   ]
  },
  {
   "cell_type": "code",
   "execution_count": 220,
   "metadata": {
    "collapsed": false
   },
   "outputs": [],
   "source": [
    "s[\"a\"] = 'a'"
   ]
  },
  {
   "cell_type": "code",
   "execution_count": 221,
   "metadata": {
    "collapsed": false
   },
   "outputs": [
    {
     "name": "stdout",
     "output_type": "stream",
     "text": [
      "0    1\n",
      "1    2\n",
      "2    3\n",
      "3    4\n",
      "4    5\n",
      "5    6\n",
      "6    7\n",
      "7    8\n",
      "8    9\n",
      "a    a\n",
      "dtype: object\n"
     ]
    }
   ],
   "source": [
    "print s"
   ]
  },
  {
   "cell_type": "code",
   "execution_count": 222,
   "metadata": {
    "collapsed": true
   },
   "outputs": [],
   "source": [
    "del s[\"a\"]"
   ]
  },
  {
   "cell_type": "code",
   "execution_count": 223,
   "metadata": {
    "collapsed": false
   },
   "outputs": [
    {
     "name": "stdout",
     "output_type": "stream",
     "text": [
      "0    1\n",
      "1    2\n",
      "2    3\n",
      "3    4\n",
      "4    5\n",
      "5    6\n",
      "6    7\n",
      "7    8\n",
      "8    9\n",
      "dtype: object\n"
     ]
    }
   ],
   "source": [
    "print s"
   ]
  },
  {
   "cell_type": "code",
   "execution_count": 224,
   "metadata": {
    "collapsed": false
   },
   "outputs": [
    {
     "name": "stdout",
     "output_type": "stream",
     "text": [
      "11    1\n",
      "12    2\n",
      "13    3\n",
      "14    4\n",
      "15    5\n",
      "16    6\n",
      "17    7\n",
      "18    8\n",
      "19    9\n",
      "dtype: int32\n"
     ]
    }
   ],
   "source": [
    "s = pd.Series(np.arange(1, 10), index = np.arange(11, 20))\n",
    "print s"
   ]
  },
  {
   "cell_type": "code",
   "execution_count": 232,
   "metadata": {
    "collapsed": false
   },
   "outputs": [
    {
     "name": "stdout",
     "output_type": "stream",
     "text": [
      "11    1\n",
      "12    2\n",
      "13    3\n",
      "14    4\n",
      "15    5\n",
      "dtype: int32\n",
      "11    1\n",
      "12    2\n",
      "13    3\n",
      "14    4\n",
      "15    5\n",
      "dtype: int32\n",
      "17    7\n",
      "18    8\n",
      "19    9\n",
      "dtype: int32\n",
      "11    1\n",
      "12    2\n",
      "13    3\n",
      "14    4\n",
      "15    5\n",
      "16    6\n",
      "dtype: int32\n"
     ]
    }
   ],
   "source": [
    "print s[0:5]\n",
    "print s[:5]\n",
    "print s[-3:]\n",
    "print s[:-3]"
   ]
  },
  {
   "cell_type": "code",
   "execution_count": 236,
   "metadata": {
    "collapsed": false
   },
   "outputs": [
    {
     "name": "stdout",
     "output_type": "stream",
     "text": [
      "[[1 2]\n",
      " [3 4]]\n",
      "   0  1\n",
      "0  1  2\n",
      "1  3  4\n"
     ]
    }
   ],
   "source": [
    "print np.array([[1, 2],[3, 4]])\n",
    "df = pd.DataFrame(np.array([[1, 2], [3, 4]]))\n",
    "print df"
   ]
  },
  {
   "cell_type": "code",
   "execution_count": 240,
   "metadata": {
    "collapsed": false
   },
   "outputs": [
    {
     "name": "stdout",
     "output_type": "stream",
     "text": [
      "   0  1  2  3\n",
      "0  1  2  3  4\n",
      "1  5  6  7  8\n",
      "   0  1\n",
      "0  1  2\n",
      "1  3  4\n"
     ]
    }
   ],
   "source": [
    "df1 = pd.DataFrame([pd.Series(np.arange(1,5)),pd.Series(np.arange(5,9))])\n",
    "print df1\n",
    "print pd.DataFrame([[1, 2],[3, 4]])"
   ]
  },
  {
   "cell_type": "code",
   "execution_count": 244,
   "metadata": {
    "collapsed": false
   },
   "outputs": [
    {
     "name": "stdout",
     "output_type": "stream",
     "text": [
      "(2, 4)\n",
      "<class 'pandas.core.frame.DataFrame'>\n",
      "RangeIndex: 2 entries, 0 to 1\n",
      "Data columns (total 4 columns):\n",
      "0    2 non-null int32\n",
      "1    2 non-null int32\n",
      "2    2 non-null int32\n",
      "3    2 non-null int32\n",
      "dtypes: int32(4)\n",
      "memory usage: 104.0 bytes\n",
      "None\n",
      "              0         1         2         3\n",
      "count  2.000000  2.000000  2.000000  2.000000\n",
      "mean   3.000000  4.000000  5.000000  6.000000\n",
      "std    2.828427  2.828427  2.828427  2.828427\n",
      "min    1.000000  2.000000  3.000000  4.000000\n",
      "25%    2.000000  3.000000  4.000000  5.000000\n",
      "50%    3.000000  4.000000  5.000000  6.000000\n",
      "75%    4.000000  5.000000  6.000000  7.000000\n",
      "max    5.000000  6.000000  7.000000  8.000000\n"
     ]
    }
   ],
   "source": [
    "print df1.shape\n",
    "print df1.info()\n",
    "print df1.describe()"
   ]
  },
  {
   "cell_type": "code",
   "execution_count": 246,
   "metadata": {
    "collapsed": false
   },
   "outputs": [
    {
     "name": "stdout",
     "output_type": "stream",
     "text": [
      "   a  b  c\n",
      "0  1  2  3\n",
      "1  4  5  6\n"
     ]
    }
   ],
   "source": [
    "df = pd.DataFrame(np.array([[1, 2, 3],[4, 5, 6]]), columns = ['a', 'b',  'c'])\n",
    "print df"
   ]
  },
  {
   "cell_type": "code",
   "execution_count": 247,
   "metadata": {
    "collapsed": false
   },
   "outputs": [
    {
     "name": "stdout",
     "output_type": "stream",
     "text": [
      "Index([u'a', u'b', u'c'], dtype='object')\n"
     ]
    }
   ],
   "source": [
    "print df.columns"
   ]
  },
  {
   "cell_type": "code",
   "execution_count": 248,
   "metadata": {
    "collapsed": false
   },
   "outputs": [
    {
     "name": "stdout",
     "output_type": "stream",
     "text": [
      "a\n"
     ]
    }
   ],
   "source": [
    "print df.columns[0]"
   ]
  },
  {
   "cell_type": "code",
   "execution_count": 251,
   "metadata": {
    "collapsed": false
   },
   "outputs": [
    {
     "name": "stdout",
     "output_type": "stream",
     "text": [
      "   c  d  e\n",
      "0  1  2  3\n",
      "1  4  5  6\n"
     ]
    }
   ],
   "source": [
    "df.columns = [\"c\", \"d\", \"e\"]\n",
    "print df"
   ]
  },
  {
   "cell_type": "code",
   "execution_count": 252,
   "metadata": {
    "collapsed": false
   },
   "outputs": [
    {
     "name": "stdout",
     "output_type": "stream",
     "text": [
      "    a  b\n",
      "r1  1  2\n",
      "r2  3  4\n"
     ]
    }
   ],
   "source": [
    "df = pd.DataFrame(np.array([[1, 2],[3, 4]]), columns = ['a', 'b'], index = ['r1', 'r2'])\n",
    "print df"
   ]
  },
  {
   "cell_type": "code",
   "execution_count": 254,
   "metadata": {
    "collapsed": false
   },
   "outputs": [
    {
     "name": "stdout",
     "output_type": "stream",
     "text": [
      "   c1  c2\n",
      "0   1  11\n",
      "1   2  12\n",
      "2   3  13\n",
      "3   4  14\n",
      "4   5  15\n"
     ]
    }
   ],
   "source": [
    "s1 = pd.Series(np.arange(1, 6, 1))\n",
    "s2 = pd.Series(np.arange(11, 16, 1))\n",
    "df = pd.DataFrame({'c1' : s1, 'c2' : s2})\n",
    "print df"
   ]
  },
  {
   "cell_type": "code",
   "execution_count": 262,
   "metadata": {
    "collapsed": false
   },
   "outputs": [
    {
     "name": "stdout",
     "output_type": "stream",
     "text": [
      "                       Name       Sector   Price  Book Value\n",
      "Symbol                                                      \n",
      "MMM              3M Company  Industrials  177.12       19.34\n",
      "ABT     Abbott Laboratories  Health Care   41.89       14.10\n",
      "ABBV                 AbbVie  Health Care   64.16        2.87\n"
     ]
    }
   ],
   "source": [
    "sample_df = pd.read_csv(\"./sample/9_pandas/sample.csv\", index_col = 'Symbol', usecols = [0, 1, 2, 3, 7])\n",
    "print sample_df.head(n=3)"
   ]
  },
  {
   "cell_type": "code",
   "execution_count": 264,
   "metadata": {
    "collapsed": false
   },
   "outputs": [
    {
     "name": "stdout",
     "output_type": "stream",
     "text": [
      "86.0443055556\n",
      "504\n"
     ]
    }
   ],
   "source": [
    "print sample_df['Price'].mean()\n",
    "print len(sample_df)"
   ]
  },
  {
   "cell_type": "code",
   "execution_count": 266,
   "metadata": {
    "collapsed": false
   },
   "outputs": [
    {
     "name": "stdout",
     "output_type": "stream",
     "text": [
      "Index([u'MMM', u'ABT', u'ABBV', u'ACN', u'ATVI', u'AYI', u'ADBE', u'AAP',\n",
      "       u'AES', u'AET',\n",
      "       ...\n",
      "       u'XEL', u'XRX', u'XLNX', u'XL', u'XYL', u'YHOO', u'YUM', u'ZBH',\n",
      "       u'ZION', u'ZTS'],\n",
      "      dtype='object', name=u'Symbol', length=504)\n",
      "Index([u'Name', u'Sector', u'Price', u'Book Value'], dtype='object')\n"
     ]
    }
   ],
   "source": [
    "print sample_df.index\n",
    "print sample_df.columns"
   ]
  },
  {
   "cell_type": "code",
   "execution_count": 273,
   "metadata": {
    "collapsed": false
   },
   "outputs": [
    {
     "name": "stdout",
     "output_type": "stream",
     "text": [
      "        Date    Open    High     Low   Close    Volume\n",
      "0  30-Sep-16  112.46  113.37  111.80  113.05  36379106\n",
      "1  29-Sep-16  113.16  113.80  111.80  112.18  35886990\n",
      "2  28-Sep-16  113.69  114.64  113.43  113.95  29641085\n",
      "3  27-Sep-16  113.00  113.18  112.34  113.09  24607412\n",
      "4  26-Sep-16  111.64  113.39  111.55  112.88  29869442\n",
      "        Date    Open    High    Low   Close    Volume\n",
      "0  30-Sep-16  112.46  113.37  111.8  113.05  36379106\n",
      "1  29-Sep-16  113.16  113.80  111.8  112.18  35886990\n",
      "           0       1       2       3       4         5\n",
      "0       Date    Open    High     Low   Close    Volume\n",
      "1  30-Sep-16  112.46  113.37  111.80  113.05  36379106\n",
      "2  29-Sep-16  113.16  113.80  111.80  112.18  35886990\n",
      "3  28-Sep-16  113.69  114.64  113.43  113.95  29641085\n",
      "4  27-Sep-16  113.00  113.18  112.34  113.09  24607412\n"
     ]
    }
   ],
   "source": [
    "apple_df = pd.read_csv(\"./sample/9_pandas/apple.csv\")\n",
    "print apple_df.head()\n",
    "print apple_df[:2]\n",
    "#print apple_df[0]\n",
    "apple_df2 = pd.read_csv(\"./sample/9_pandas/apple.csv\", header = None)\n",
    "print apple_df2.head()"
   ]
  },
  {
   "cell_type": "code",
   "execution_count": 276,
   "metadata": {
    "collapsed": false
   },
   "outputs": [
    {
     "name": "stdout",
     "output_type": "stream",
     "text": [
      "        Date    Open    High\n",
      "0  30-Sep-16  112.46  113.37\n",
      "1  29-Sep-16  113.16  113.80\n",
      "2  28-Sep-16  113.69  114.64\n",
      "3  27-Sep-16  113.00  113.18\n",
      "4  26-Sep-16  111.64  113.39\n"
     ]
    }
   ],
   "source": [
    "print apple_df[[0, 1, 2]].head()"
   ]
  },
  {
   "cell_type": "code",
   "execution_count": 280,
   "metadata": {
    "collapsed": false
   },
   "outputs": [
    {
     "name": "stdout",
     "output_type": "stream",
     "text": [
      "0    30-Sep-16\n",
      "1    29-Sep-16\n",
      "2    28-Sep-16\n",
      "3    27-Sep-16\n",
      "4    26-Sep-16\n",
      "Name: Date, dtype: object\n",
      "        Date\n",
      "0  30-Sep-16\n",
      "1  29-Sep-16\n",
      "2  28-Sep-16\n",
      "3  27-Sep-16\n",
      "4  26-Sep-16\n",
      "        Date\n",
      "0  30-Sep-16\n",
      "1  29-Sep-16\n",
      "2  28-Sep-16\n",
      "3  27-Sep-16\n",
      "4  26-Sep-16\n"
     ]
    }
   ],
   "source": [
    "print apple_df[\"Date\"].head()\n",
    "print apple_df[[0]].head()\n",
    "print apple_df[[\"Date\"]].head()"
   ]
  },
  {
   "cell_type": "code",
   "execution_count": 282,
   "metadata": {
    "collapsed": false
   },
   "outputs": [
    {
     "name": "stdout",
     "output_type": "stream",
     "text": [
      "0    30-Sep-16\n",
      "1    29-Sep-16\n",
      "2    28-Sep-16\n",
      "3    27-Sep-16\n",
      "4    26-Sep-16\n",
      "Name: Date, dtype: object\n",
      "<class 'pandas.core.series.Series'>\n"
     ]
    }
   ],
   "source": [
    "print apple_df.Date.head()\n",
    "print type(apple_df.Date)"
   ]
  },
  {
   "cell_type": "code",
   "execution_count": 284,
   "metadata": {
    "collapsed": false
   },
   "outputs": [
    {
     "name": "stdout",
     "output_type": "stream",
     "text": [
      "                       Name       Sector   Price  Book Value\n",
      "Symbol                                                      \n",
      "MMM              3M Company  Industrials  177.12       19.34\n",
      "ABT     Abbott Laboratories  Health Care   41.89       14.10\n",
      "ABBV                 AbbVie  Health Care   64.16        2.87\n"
     ]
    }
   ],
   "source": [
    "sample_df = pd.read_csv(\"./sample/9_pandas/sample.csv\", index_col = 'Symbol', usecols = [0, 1, 2, 3, 7])\n",
    "print sample_df['MMM':'ABBV']"
   ]
  },
  {
   "cell_type": "code",
   "execution_count": 285,
   "metadata": {
    "collapsed": false
   },
   "outputs": [
    {
     "name": "stdout",
     "output_type": "stream",
     "text": [
      "Name           3M Company\n",
      "Sector        Industrials\n",
      "Price              177.12\n",
      "Book Value          19.34\n",
      "Name: MMM, dtype: object\n"
     ]
    }
   ],
   "source": [
    "print sample_df.loc[\"MMM\"]"
   ]
  },
  {
   "cell_type": "code",
   "execution_count": 286,
   "metadata": {
    "collapsed": false
   },
   "outputs": [
    {
     "name": "stdout",
     "output_type": "stream",
     "text": [
      "                   Name                  Sector   Price  Book Value\n",
      "Symbol                                                             \n",
      "MMM          3M Company             Industrials  177.12       19.34\n",
      "MSFT    Microsoft Corp.  Information Technology   52.30        9.51\n"
     ]
    }
   ],
   "source": [
    "print sample_df.loc[['MMM', 'MSFT']]"
   ]
  },
  {
   "cell_type": "code",
   "execution_count": 288,
   "metadata": {
    "collapsed": false
   },
   "outputs": [
    {
     "name": "stdout",
     "output_type": "stream",
     "text": [
      "Name           3M Company\n",
      "Sector        Industrials\n",
      "Price              177.12\n",
      "Book Value          19.34\n",
      "Name: MMM, dtype: object\n"
     ]
    }
   ],
   "source": [
    "print sample_df.iloc[0]"
   ]
  },
  {
   "cell_type": "code",
   "execution_count": 290,
   "metadata": {
    "collapsed": false
   },
   "outputs": [
    {
     "name": "stdout",
     "output_type": "stream",
     "text": [
      "                       Name       Sector   Price  Book Value\n",
      "Symbol                                                      \n",
      "MMM              3M Company  Industrials  177.12       19.34\n",
      "ABT     Abbott Laboratories  Health Care   41.89       14.10\n",
      "ABBV                 AbbVie  Health Care   64.16        2.87\n",
      "<class 'pandas.core.frame.DataFrame'>\n"
     ]
    }
   ],
   "source": [
    "print sample_df.iloc[[0, 1, 2]]\n",
    "print type(sample_df.iloc[[0, 1, 2]])"
   ]
  },
  {
   "cell_type": "code",
   "execution_count": 293,
   "metadata": {
    "collapsed": false
   },
   "outputs": [
    {
     "name": "stdout",
     "output_type": "stream",
     "text": [
      "                       Name                  Sector   Price  Book Value\n",
      "Symbol                                                                 \n",
      "MMM              3M Company             Industrials  177.12       19.34\n",
      "ACN           Accenture plc  Information Technology  115.11       11.45\n",
      "ATVI    Activision Blizzard  Information Technology   41.29       11.31\n",
      "                       Name                  Sector   Price  Book Value\n",
      "Symbol                                                                 \n",
      "MMM              3M Company             Industrials  177.12       19.34\n",
      "ACN           Accenture plc  Information Technology  115.11       11.45\n",
      "ATVI    Activision Blizzard  Information Technology   41.29       11.31\n"
     ]
    }
   ],
   "source": [
    "print sample_df.ix[[0, 3, 4]]\n",
    "print sample_df.ix[['MMM', 'ACN', 'ATVI']]"
   ]
  },
  {
   "cell_type": "code",
   "execution_count": 294,
   "metadata": {
    "collapsed": false,
    "scrolled": true
   },
   "outputs": [
    {
     "name": "stdout",
     "output_type": "stream",
     "text": [
      "Symbol\n",
      "MMM       True\n",
      "ABT      False\n",
      "ABBV     False\n",
      "ACN       True\n",
      "ATVI     False\n",
      "AYI       True\n",
      "ADBE     False\n",
      "AAP       True\n",
      "AES      False\n",
      "AET       True\n",
      "AMG       True\n",
      "AFL      False\n",
      "A        False\n",
      "APD       True\n",
      "AKAM     False\n",
      "ALK      False\n",
      "ALB      False\n",
      "AA       False\n",
      "ALXN      True\n",
      "ALLE     False\n",
      "AGN       True\n",
      "ADS       True\n",
      "LNT      False\n",
      "ALL      False\n",
      "GOOGL     True\n",
      "GOOG      True\n",
      "MO       False\n",
      "AMZN      True\n",
      "AEE      False\n",
      "AAL      False\n",
      "         ...  \n",
      "V        False\n",
      "VNO       True\n",
      "VMC       True\n",
      "WMT      False\n",
      "WBA      False\n",
      "WM       False\n",
      "WAT       True\n",
      "WFC      False\n",
      "HCN      False\n",
      "WDC      False\n",
      "WU       False\n",
      "WRK      False\n",
      "WY       False\n",
      "WHR       True\n",
      "WFM      False\n",
      "WMB      False\n",
      "WLTW      True\n",
      "WEC      False\n",
      "WYN      False\n",
      "WYNN     False\n",
      "XEL      False\n",
      "XRX      False\n",
      "XLNX     False\n",
      "XL       False\n",
      "XYL      False\n",
      "YHOO     False\n",
      "YUM      False\n",
      "ZBH       True\n",
      "ZION     False\n",
      "ZTS      False\n",
      "Name: Price, dtype: bool\n"
     ]
    }
   ],
   "source": [
    "print sample_df.Price > 100"
   ]
  },
  {
   "cell_type": "code",
   "execution_count": 295,
   "metadata": {
    "collapsed": false,
    "scrolled": true
   },
   "outputs": [
    {
     "name": "stdout",
     "output_type": "stream",
     "text": [
      "        Price\n",
      "Symbol       \n",
      "MMM      True\n",
      "ABT     False\n",
      "ABBV    False\n",
      "ACN      True\n",
      "ATVI    False\n",
      "AYI      True\n",
      "ADBE    False\n",
      "AAP      True\n",
      "AES     False\n",
      "AET      True\n",
      "AMG      True\n",
      "AFL     False\n",
      "A       False\n",
      "APD      True\n",
      "AKAM    False\n",
      "ALK     False\n",
      "ALB     False\n",
      "AA      False\n",
      "ALXN     True\n",
      "ALLE    False\n",
      "AGN      True\n",
      "ADS      True\n",
      "LNT     False\n",
      "ALL     False\n",
      "GOOGL    True\n",
      "GOOG     True\n",
      "MO      False\n",
      "AMZN     True\n",
      "AEE     False\n",
      "AAL     False\n",
      "...       ...\n",
      "V       False\n",
      "VNO      True\n",
      "VMC      True\n",
      "WMT     False\n",
      "WBA     False\n",
      "WM      False\n",
      "WAT      True\n",
      "WFC     False\n",
      "HCN     False\n",
      "WDC     False\n",
      "WU      False\n",
      "WRK     False\n",
      "WY      False\n",
      "WHR      True\n",
      "WFM     False\n",
      "WMB     False\n",
      "WLTW     True\n",
      "WEC     False\n",
      "WYN     False\n",
      "WYNN    False\n",
      "XEL     False\n",
      "XRX     False\n",
      "XLNX    False\n",
      "XL      False\n",
      "XYL     False\n",
      "YHOO    False\n",
      "YUM     False\n",
      "ZBH      True\n",
      "ZION    False\n",
      "ZTS     False\n",
      "\n",
      "[504 rows x 1 columns]\n"
     ]
    }
   ],
   "source": [
    "print sample_df[[\"Price\"]] > 100"
   ]
  },
  {
   "cell_type": "code",
   "execution_count": 297,
   "metadata": {
    "collapsed": false
   },
   "outputs": [
    {
     "name": "stdout",
     "output_type": "stream",
     "text": [
      "Symbol\n",
      "MMM    177.12\n",
      "ACN    115.11\n",
      "AYI    264.62\n",
      "AAP    164.85\n",
      "AET    117.00\n",
      "Name: Price, dtype: float64\n"
     ]
    }
   ],
   "source": [
    "print sample_df[sample_df.Price > 100][\"Price\"].head()"
   ]
  },
  {
   "cell_type": "code",
   "execution_count": 299,
   "metadata": {
    "collapsed": false
   },
   "outputs": [
    {
     "name": "stdout",
     "output_type": "stream",
     "text": [
      "                       Name       Sector   Price  Book Value\n",
      "Symbol                                                      \n",
      "MMM              3M Company  Industrials  177.12       19.34\n",
      "ABT     Abbott Laboratories  Health Care   41.89       14.10\n",
      "ABBV                 AbbVie  Health Care   64.16        2.87\n"
     ]
    }
   ],
   "source": [
    "copy = sample_df.copy()\n",
    "print copy.head(n =3)"
   ]
  },
  {
   "cell_type": "code",
   "execution_count": 301,
   "metadata": {
    "collapsed": false
   },
   "outputs": [
    {
     "name": "stdout",
     "output_type": "stream",
     "text": [
      "                       Name                  Sector   Price  Book Value  \\\n",
      "Symbol                                                                    \n",
      "MMM              3M Company             Industrials  177.12       19.34   \n",
      "ABT     Abbott Laboratories             Health Care   41.89       14.10   \n",
      "ABBV                 AbbVie             Health Care   64.16        2.87   \n",
      "ACN           Accenture plc  Information Technology  115.11       11.45   \n",
      "ATVI    Activision Blizzard  Information Technology   41.29       11.31   \n",
      "\n",
      "        TwicePrice  \n",
      "Symbol              \n",
      "MMM         354.24  \n",
      "ABT          83.78  \n",
      "ABBV        128.32  \n",
      "ACN         230.22  \n",
      "ATVI         82.58  \n"
     ]
    }
   ],
   "source": [
    "copy[\"TwicePrice\"] = copy[\"Price\"] * 2\n",
    "print copy[:5]"
   ]
  },
  {
   "cell_type": "code",
   "execution_count": 309,
   "metadata": {
    "collapsed": false
   },
   "outputs": [
    {
     "name": "stdout",
     "output_type": "stream",
     "text": [
      "        TriplePrice4  TriplePrice3                 Name  TriplePrice  \\\n",
      "Symbol                                                                 \n",
      "MMM           531.36        531.36           3M Company       531.36   \n",
      "ABT           125.67        125.67  Abbott Laboratories       125.67   \n",
      "ABBV          192.48        192.48               AbbVie       192.48   \n",
      "ACN           345.33        345.33        Accenture plc       345.33   \n",
      "ATVI          123.87        123.87  Activision Blizzard       123.87   \n",
      "\n",
      "        TriplePrice2                  Sector   Price  Book Value  TwicePrice  \n",
      "Symbol                                                                        \n",
      "MMM           531.36             Industrials  177.12       19.34      354.24  \n",
      "ABT           125.67             Health Care   41.89       14.10       83.78  \n",
      "ABBV          192.48             Health Care   64.16        2.87      128.32  \n",
      "ACN           345.33  Information Technology  115.11       11.45      230.22  \n",
      "ATVI          123.87  Information Technology   41.29       11.31       82.58  \n"
     ]
    }
   ],
   "source": [
    "copy.insert(0, 'TriplePrice4', copy['Price'] * 3)\n",
    "print copy[:5]"
   ]
  },
  {
   "cell_type": "code",
   "execution_count": 310,
   "metadata": {
    "collapsed": false
   },
   "outputs": [
    {
     "name": "stdout",
     "output_type": "stream",
     "text": [
      "        TriplePrice3                 Name  TriplePrice  TriplePrice2  \\\n",
      "Symbol                                                                 \n",
      "MMM           531.36           3M Company       531.36        531.36   \n",
      "ABT           125.67  Abbott Laboratories       125.67        125.67   \n",
      "ABBV          192.48               AbbVie       192.48        192.48   \n",
      "\n",
      "             Sector   Price  Book Value  TwicePrice  \n",
      "Symbol                                               \n",
      "MMM     Industrials  177.12       19.34      354.24  \n",
      "ABT     Health Care   41.89       14.10       83.78  \n",
      "ABBV    Health Care   64.16        2.87      128.32  \n"
     ]
    }
   ],
   "source": [
    "del copy['TriplePrice4']\n",
    "print copy[:3]"
   ]
  },
  {
   "cell_type": "code",
   "execution_count": 311,
   "metadata": {
    "collapsed": false
   },
   "outputs": [
    {
     "name": "stdout",
     "output_type": "stream",
     "text": [
      "                       Name       Sector   Price  Book Value\n",
      "Symbol                                                      \n",
      "MMM              3M Company  Industrials  177.12       19.34\n",
      "ABT     Abbott Laboratories  Health Care   41.89       14.10\n",
      "ABBV                 AbbVie  Health Care   64.16        2.87\n"
     ]
    }
   ],
   "source": [
    "df1 = sample_df.iloc[0:3].copy()\n",
    "print df1"
   ]
  },
  {
   "cell_type": "code",
   "execution_count": 312,
   "metadata": {
    "collapsed": false
   },
   "outputs": [
    {
     "name": "stdout",
     "output_type": "stream",
     "text": [
      "                       Name                  Sector   Price  Book Value\n",
      "Symbol                                                                 \n",
      "ATVI    Activision Blizzard  Information Technology   41.29       11.31\n",
      "AYI       Acuity Brands Inc             Industrials  264.62       36.50\n"
     ]
    }
   ],
   "source": [
    "df2 = sample_df.iloc[4:6]\n",
    "print df2"
   ]
  },
  {
   "cell_type": "code",
   "execution_count": 313,
   "metadata": {
    "collapsed": false
   },
   "outputs": [
    {
     "name": "stdout",
     "output_type": "stream",
     "text": [
      "                       Name                  Sector   Price  Book Value\n",
      "Symbol                                                                 \n",
      "ATVI    Activision Blizzard  Information Technology   41.29       11.31\n",
      "AYI       Acuity Brands Inc             Industrials  264.62       36.50\n",
      "MMM              3M Company             Industrials  177.12       19.34\n",
      "ABT     Abbott Laboratories             Health Care   41.89       14.10\n",
      "ABBV                 AbbVie             Health Care   64.16        2.87\n"
     ]
    }
   ],
   "source": [
    "coc = df2.append(df1)\n",
    "print coc"
   ]
  },
  {
   "cell_type": "code",
   "execution_count": 314,
   "metadata": {
    "collapsed": false
   },
   "outputs": [
    {
     "name": "stdout",
     "output_type": "stream",
     "text": [
      "                       Name                  Sector   Price  Book Value\n",
      "Symbol                                                                 \n",
      "ATVI    Activision Blizzard  Information Technology   41.29       11.31\n",
      "AYI       Acuity Brands Inc             Industrials  264.62       36.50\n",
      "MMM              3M Company             Industrials  177.12       19.34\n",
      "ABT     Abbott Laboratories             Health Care   41.89       14.10\n",
      "ABBV                 AbbVie             Health Care   64.16        2.87\n",
      "DEA                       a                       b    1.00        1.00\n"
     ]
    }
   ],
   "source": [
    "coc.loc[\"DEA\"] = ['a', 'b', 1, 1]\n",
    "print coc"
   ]
  },
  {
   "cell_type": "code",
   "execution_count": 317,
   "metadata": {
    "collapsed": false
   },
   "outputs": [
    {
     "name": "stdout",
     "output_type": "stream",
     "text": [
      "                       Name                  Sector   Price  Book Value\n",
      "Symbol                                                                 \n",
      "ATVI    Activision Blizzard  Information Technology   41.29       11.31\n",
      "AYI       Acuity Brands Inc             Industrials  264.62       36.50\n",
      "MMM              3M Company             Industrials  177.12       19.34\n",
      "ABT     Abbott Laboratories             Health Care   41.89       14.10\n",
      "ABBV                 AbbVie             Health Care   64.16        2.87\n"
     ]
    }
   ],
   "source": [
    "coc2 = coc.drop([\"DEA\"])\n",
    "print coc2"
   ]
  },
  {
   "cell_type": "code",
   "execution_count": 321,
   "metadata": {
    "collapsed": false
   },
   "outputs": [
    {
     "name": "stdout",
     "output_type": "stream",
     "text": [
      "                       Name                  Sector   Price  Book Value\n",
      "Symbol                                                                 \n",
      "MMM              3M Company             Industrials  177.12       19.34\n",
      "ABT     Abbott Laboratories             Health Care   41.89       14.10\n",
      "ABBV                 AbbVie             Health Care   64.16        2.87\n",
      "ACN           Accenture plc  Information Technology  115.11       11.45\n",
      "ATVI    Activision Blizzard  Information Technology   41.29       11.31\n",
      "Symbol\n",
      "MMM     True\n",
      "ABT     True\n",
      "ABBV    True\n",
      "ACN     True\n",
      "ATVI    True\n",
      "Name: Price, dtype: bool\n"
     ]
    }
   ],
   "source": [
    "selection = sample_df.Price > 200\n",
    "lessthan200 = sample_df[-selection]\n",
    "print lessthan200.head()\n",
    "print -selection.head()"
   ]
  },
  {
   "cell_type": "code",
   "execution_count": 347,
   "metadata": {
    "collapsed": false
   },
   "outputs": [
    {
     "data": {
      "text/html": [
       "<div>\n",
       "<table border=\"1\" class=\"dataframe\">\n",
       "  <thead>\n",
       "    <tr style=\"text-align: right;\">\n",
       "      <th></th>\n",
       "      <th>label</th>\n",
       "      <th>pixel0</th>\n",
       "      <th>pixel1</th>\n",
       "      <th>pixel2</th>\n",
       "      <th>pixel3</th>\n",
       "      <th>pixel4</th>\n",
       "      <th>pixel5</th>\n",
       "      <th>pixel6</th>\n",
       "      <th>pixel7</th>\n",
       "      <th>pixel8</th>\n",
       "      <th>...</th>\n",
       "      <th>pixel774</th>\n",
       "      <th>pixel775</th>\n",
       "      <th>pixel776</th>\n",
       "      <th>pixel777</th>\n",
       "      <th>pixel778</th>\n",
       "      <th>pixel779</th>\n",
       "      <th>pixel780</th>\n",
       "      <th>pixel781</th>\n",
       "      <th>pixel782</th>\n",
       "      <th>pixel783</th>\n",
       "    </tr>\n",
       "  </thead>\n",
       "  <tbody>\n",
       "    <tr>\n",
       "      <th>0</th>\n",
       "      <td>1</td>\n",
       "      <td>0</td>\n",
       "      <td>0</td>\n",
       "      <td>0</td>\n",
       "      <td>0</td>\n",
       "      <td>0</td>\n",
       "      <td>0</td>\n",
       "      <td>0</td>\n",
       "      <td>0</td>\n",
       "      <td>0</td>\n",
       "      <td>...</td>\n",
       "      <td>0</td>\n",
       "      <td>0</td>\n",
       "      <td>0</td>\n",
       "      <td>0</td>\n",
       "      <td>0</td>\n",
       "      <td>0</td>\n",
       "      <td>0</td>\n",
       "      <td>0</td>\n",
       "      <td>0</td>\n",
       "      <td>0</td>\n",
       "    </tr>\n",
       "    <tr>\n",
       "      <th>1</th>\n",
       "      <td>0</td>\n",
       "      <td>0</td>\n",
       "      <td>0</td>\n",
       "      <td>0</td>\n",
       "      <td>0</td>\n",
       "      <td>0</td>\n",
       "      <td>0</td>\n",
       "      <td>0</td>\n",
       "      <td>0</td>\n",
       "      <td>0</td>\n",
       "      <td>...</td>\n",
       "      <td>0</td>\n",
       "      <td>0</td>\n",
       "      <td>0</td>\n",
       "      <td>0</td>\n",
       "      <td>0</td>\n",
       "      <td>0</td>\n",
       "      <td>0</td>\n",
       "      <td>0</td>\n",
       "      <td>0</td>\n",
       "      <td>0</td>\n",
       "    </tr>\n",
       "    <tr>\n",
       "      <th>2</th>\n",
       "      <td>1</td>\n",
       "      <td>0</td>\n",
       "      <td>0</td>\n",
       "      <td>0</td>\n",
       "      <td>0</td>\n",
       "      <td>0</td>\n",
       "      <td>0</td>\n",
       "      <td>0</td>\n",
       "      <td>0</td>\n",
       "      <td>0</td>\n",
       "      <td>...</td>\n",
       "      <td>0</td>\n",
       "      <td>0</td>\n",
       "      <td>0</td>\n",
       "      <td>0</td>\n",
       "      <td>0</td>\n",
       "      <td>0</td>\n",
       "      <td>0</td>\n",
       "      <td>0</td>\n",
       "      <td>0</td>\n",
       "      <td>0</td>\n",
       "    </tr>\n",
       "    <tr>\n",
       "      <th>3</th>\n",
       "      <td>4</td>\n",
       "      <td>0</td>\n",
       "      <td>0</td>\n",
       "      <td>0</td>\n",
       "      <td>0</td>\n",
       "      <td>0</td>\n",
       "      <td>0</td>\n",
       "      <td>0</td>\n",
       "      <td>0</td>\n",
       "      <td>0</td>\n",
       "      <td>...</td>\n",
       "      <td>0</td>\n",
       "      <td>0</td>\n",
       "      <td>0</td>\n",
       "      <td>0</td>\n",
       "      <td>0</td>\n",
       "      <td>0</td>\n",
       "      <td>0</td>\n",
       "      <td>0</td>\n",
       "      <td>0</td>\n",
       "      <td>0</td>\n",
       "    </tr>\n",
       "    <tr>\n",
       "      <th>4</th>\n",
       "      <td>0</td>\n",
       "      <td>0</td>\n",
       "      <td>0</td>\n",
       "      <td>0</td>\n",
       "      <td>0</td>\n",
       "      <td>0</td>\n",
       "      <td>0</td>\n",
       "      <td>0</td>\n",
       "      <td>0</td>\n",
       "      <td>0</td>\n",
       "      <td>...</td>\n",
       "      <td>0</td>\n",
       "      <td>0</td>\n",
       "      <td>0</td>\n",
       "      <td>0</td>\n",
       "      <td>0</td>\n",
       "      <td>0</td>\n",
       "      <td>0</td>\n",
       "      <td>0</td>\n",
       "      <td>0</td>\n",
       "      <td>0</td>\n",
       "    </tr>\n",
       "  </tbody>\n",
       "</table>\n",
       "<p>5 rows × 785 columns</p>\n",
       "</div>"
      ],
      "text/plain": [
       "   label  pixel0  pixel1  pixel2  pixel3  pixel4  pixel5  pixel6  pixel7  \\\n",
       "0      1       0       0       0       0       0       0       0       0   \n",
       "1      0       0       0       0       0       0       0       0       0   \n",
       "2      1       0       0       0       0       0       0       0       0   \n",
       "3      4       0       0       0       0       0       0       0       0   \n",
       "4      0       0       0       0       0       0       0       0       0   \n",
       "\n",
       "   pixel8    ...     pixel774  pixel775  pixel776  pixel777  pixel778  \\\n",
       "0       0    ...            0         0         0         0         0   \n",
       "1       0    ...            0         0         0         0         0   \n",
       "2       0    ...            0         0         0         0         0   \n",
       "3       0    ...            0         0         0         0         0   \n",
       "4       0    ...            0         0         0         0         0   \n",
       "\n",
       "   pixel779  pixel780  pixel781  pixel782  pixel783  \n",
       "0         0         0         0         0         0  \n",
       "1         0         0         0         0         0  \n",
       "2         0         0         0         0         0  \n",
       "3         0         0         0         0         0  \n",
       "4         0         0         0         0         0  \n",
       "\n",
       "[5 rows x 785 columns]"
      ]
     },
     "execution_count": 347,
     "metadata": {},
     "output_type": "execute_result"
    }
   ],
   "source": [
    "import numpy as np\n",
    "import pandas as pd\n",
    "import matplotlib.pyplot as plt\n",
    "import matplotlib.cm as cm\n",
    "from sklearn import neighbors\n",
    "from sklearn import linear_model\n",
    "\n",
    "df = pd.read_csv(\"./sample/9_pandas/data.csv\", header = 0)\n",
    "df.head()"
   ]
  },
  {
   "cell_type": "code",
   "execution_count": 348,
   "metadata": {
    "collapsed": false,
    "scrolled": true
   },
   "outputs": [
    {
     "name": "stdout",
     "output_type": "stream",
     "text": [
      "   pixel0  pixel1  pixel2  pixel3  pixel4  pixel5  pixel6  pixel7  pixel8  \\\n",
      "0       0       0       0       0       0       0       0       0       0   \n",
      "1       0       0       0       0       0       0       0       0       0   \n",
      "2       0       0       0       0       0       0       0       0       0   \n",
      "3       0       0       0       0       0       0       0       0       0   \n",
      "4       0       0       0       0       0       0       0       0       0   \n",
      "\n",
      "   pixel9    ...     pixel774  pixel775  pixel776  pixel777  pixel778  \\\n",
      "0       0    ...            0         0         0         0         0   \n",
      "1       0    ...            0         0         0         0         0   \n",
      "2       0    ...            0         0         0         0         0   \n",
      "3       0    ...            0         0         0         0         0   \n",
      "4       0    ...            0         0         0         0         0   \n",
      "\n",
      "   pixel779  pixel780  pixel781  pixel782  pixel783  \n",
      "0         0         0         0         0         0  \n",
      "1         0         0         0         0         0  \n",
      "2         0         0         0         0         0  \n",
      "3         0         0         0         0         0  \n",
      "4         0         0         0         0         0  \n",
      "\n",
      "[5 rows x 784 columns]\n"
     ]
    }
   ],
   "source": [
    "y = df[\"label\"]\n",
    "x = df.drop(['label'], axis = 1)\n",
    "print x.head()"
   ]
  },
  {
   "cell_type": "code",
   "execution_count": 349,
   "metadata": {
    "collapsed": false
   },
   "outputs": [
    {
     "name": "stdout",
     "output_type": "stream",
     "text": [
      "[1 0 1 ..., 7 6 9] 42000\n"
     ]
    }
   ],
   "source": [
    "y = np.array(y)\n",
    "print y, len(y)"
   ]
  },
  {
   "cell_type": "code",
   "execution_count": 350,
   "metadata": {
    "collapsed": false
   },
   "outputs": [
    {
     "name": "stdout",
     "output_type": "stream",
     "text": [
      "[[0 0 0 ..., 0 0 0]\n",
      " [0 0 0 ..., 0 0 0]\n",
      " [0 0 0 ..., 0 0 0]\n",
      " ..., \n",
      " [0 0 0 ..., 0 0 0]\n",
      " [0 0 0 ..., 0 0 0]\n",
      " [0 0 0 ..., 0 0 0]] 42000\n"
     ]
    }
   ],
   "source": [
    "x = np.array(x)\n",
    "print x, len(x)"
   ]
  },
  {
   "cell_type": "code",
   "execution_count": 351,
   "metadata": {
    "collapsed": false
   },
   "outputs": [
    {
     "name": "stdout",
     "output_type": "stream",
     "text": [
      "999 999 200 200\n"
     ]
    }
   ],
   "source": [
    "y_train = y[:999]\n",
    "x_train = x[:999]\n",
    "\n",
    "y_test = y[1000:1200]\n",
    "x_test = x[1000:1200]\n",
    "\n",
    "print len(y_train), len(x_train), len(y_test), len(x_test)"
   ]
  },
  {
   "cell_type": "code",
   "execution_count": 352,
   "metadata": {
    "collapsed": false
   },
   "outputs": [
    {
     "name": "stdout",
     "output_type": "stream",
     "text": [
      "1\n"
     ]
    }
   ],
   "source": [
    "print y[0]"
   ]
  },
  {
   "cell_type": "code",
   "execution_count": 353,
   "metadata": {
    "collapsed": false
   },
   "outputs": [],
   "source": [
    "reshaped_example = x[0].reshape(28, 28)\n",
    "plt.imshow(reshaped_example, cmap = cm.Greys_r)\n",
    "plt.show()"
   ]
  },
  {
   "cell_type": "code",
   "execution_count": 354,
   "metadata": {
    "collapsed": true
   },
   "outputs": [],
   "source": [
    "classifier = neighbors.KNeighborsClassifier()"
   ]
  },
  {
   "cell_type": "code",
   "execution_count": 355,
   "metadata": {
    "collapsed": false
   },
   "outputs": [
    {
     "name": "stdout",
     "output_type": "stream",
     "text": [
      "about to fit\n"
     ]
    },
    {
     "data": {
      "text/plain": [
       "KNeighborsClassifier(algorithm='auto', leaf_size=30, metric='minkowski',\n",
       "           metric_params=None, n_jobs=1, n_neighbors=5, p=2,\n",
       "           weights='uniform')"
      ]
     },
     "execution_count": 355,
     "metadata": {},
     "output_type": "execute_result"
    }
   ],
   "source": [
    "print 'about to fit'\n",
    "classifier.fit(x_train, y_train)"
   ]
  },
  {
   "cell_type": "code",
   "execution_count": 356,
   "metadata": {
    "collapsed": false
   },
   "outputs": [
    {
     "name": "stdout",
     "output_type": "stream",
     "text": [
      "score:  0.845\n"
     ]
    }
   ],
   "source": [
    "score = classifier.score(x_test, y_test)\n",
    "print 'score: ', score"
   ]
  },
  {
   "cell_type": "code",
   "execution_count": 358,
   "metadata": {
    "collapsed": false
   },
   "outputs": [
    {
     "name": "stderr",
     "output_type": "stream",
     "text": [
      "C:\\Users\\alexmoon\\Anaconda2\\lib\\site-packages\\sklearn\\utils\\validation.py:386: DeprecationWarning: Passing 1d arrays as data is deprecated in 0.17 and willraise ValueError in 0.19. Reshape your data either using X.reshape(-1, 1) if your data has a single feature or X.reshape(1, -1) if it contains a single sample.\n",
      "  DeprecationWarning)\n"
     ]
    },
    {
     "name": "stdout",
     "output_type": "stream",
     "text": [
      "[1]\n"
     ]
    }
   ],
   "source": [
    "print classifier.predict(x_test[0])\n",
    "reshaped_example = x_test[0].reshape(28, 28)\n",
    "plt.imshow(reshaped_example, cmap = cm.Greys_r)\n",
    "plt.show()"
   ]
  },
  {
   "cell_type": "code",
   "execution_count": 359,
   "metadata": {
    "collapsed": false
   },
   "outputs": [
    {
     "name": "stdout",
     "output_type": "stream",
     "text": [
      "0.13\n"
     ]
    }
   ],
   "source": [
    "import numpy as np\n",
    "import pandas as pd\n",
    "import matplotlib.pyplot as plt\n",
    "import matplotlib.cm as cm\n",
    "from sklearn import svm\n",
    "\n",
    "df = pd.read_csv(\"./sample/9_pandas/data.csv\", header = 0)\n",
    "\n",
    "y = df[\"label\"]\n",
    "x = df.drop([\"label\"], axis = 1)\n",
    "\n",
    "x = np.array(x)\n",
    "y = np.array(y)\n",
    "\n",
    "x_train = x[:999]\n",
    "y_train = y[:999]\n",
    "\n",
    "x_test = x[1000:1200]\n",
    "y_test = y[1000:1200]\n",
    "\n",
    "classifier = svm.SVC(gamma = 0.001, C=100.)\n",
    "\n",
    "classifier.fit(x_train, y_train)\n",
    "\n",
    "print classifier.score(x_test, y_test)\n",
    "\n"
   ]
  },
  {
   "cell_type": "code",
   "execution_count": 361,
   "metadata": {
    "collapsed": false
   },
   "outputs": [
    {
     "name": "stderr",
     "output_type": "stream",
     "text": [
      "C:\\Users\\alexmoon\\Anaconda2\\lib\\site-packages\\sklearn\\utils\\validation.py:386: DeprecationWarning: Passing 1d arrays as data is deprecated in 0.17 and willraise ValueError in 0.19. Reshape your data either using X.reshape(-1, 1) if your data has a single feature or X.reshape(1, -1) if it contains a single sample.\n",
      "  DeprecationWarning)\n"
     ]
    },
    {
     "name": "stdout",
     "output_type": "stream",
     "text": [
      "[2]\n"
     ]
    }
   ],
   "source": [
    "print classifier.predict(x_test[1])\n",
    "reshaped_example = x_test[1].reshape(28, 28)\n",
    "plt.imshow(reshaped_example, cmap = cm.Greys_r)\n",
    "plt.show()"
   ]
  },
  {
   "cell_type": "code",
   "execution_count": null,
   "metadata": {
    "collapsed": true
   },
   "outputs": [],
   "source": []
  },
  {
   "cell_type": "code",
   "execution_count": null,
   "metadata": {
    "collapsed": true
   },
   "outputs": [],
   "source": []
  }
 ],
 "metadata": {
  "anaconda-cloud": {},
  "kernelspec": {
   "display_name": "Python [Root]",
   "language": "python",
   "name": "Python [Root]"
  },
  "language_info": {
   "codemirror_mode": {
    "name": "ipython",
    "version": 2
   },
   "file_extension": ".py",
   "mimetype": "text/x-python",
   "name": "python",
   "nbconvert_exporter": "python",
   "pygments_lexer": "ipython2",
   "version": "2.7.12"
  }
 },
 "nbformat": 4,
 "nbformat_minor": 0
}
