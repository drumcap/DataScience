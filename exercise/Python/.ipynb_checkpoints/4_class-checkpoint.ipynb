{
 "cells": [
  {
   "cell_type": "code",
   "execution_count": 1,
   "metadata": {
    "collapsed": false
   },
   "outputs": [
    {
     "data": {
      "text/plain": [
       "['__abs__',\n",
       " '__add__',\n",
       " '__and__',\n",
       " '__class__',\n",
       " '__cmp__',\n",
       " '__coerce__',\n",
       " '__delattr__',\n",
       " '__div__',\n",
       " '__divmod__',\n",
       " '__doc__',\n",
       " '__float__',\n",
       " '__floordiv__',\n",
       " '__format__',\n",
       " '__getattribute__',\n",
       " '__getnewargs__',\n",
       " '__hash__',\n",
       " '__hex__',\n",
       " '__index__',\n",
       " '__init__',\n",
       " '__int__',\n",
       " '__invert__',\n",
       " '__long__',\n",
       " '__lshift__',\n",
       " '__mod__',\n",
       " '__mul__',\n",
       " '__neg__',\n",
       " '__new__',\n",
       " '__nonzero__',\n",
       " '__oct__',\n",
       " '__or__',\n",
       " '__pos__',\n",
       " '__pow__',\n",
       " '__radd__',\n",
       " '__rand__',\n",
       " '__rdiv__',\n",
       " '__rdivmod__',\n",
       " '__reduce__',\n",
       " '__reduce_ex__',\n",
       " '__repr__',\n",
       " '__rfloordiv__',\n",
       " '__rlshift__',\n",
       " '__rmod__',\n",
       " '__rmul__',\n",
       " '__ror__',\n",
       " '__rpow__',\n",
       " '__rrshift__',\n",
       " '__rshift__',\n",
       " '__rsub__',\n",
       " '__rtruediv__',\n",
       " '__rxor__',\n",
       " '__setattr__',\n",
       " '__sizeof__',\n",
       " '__str__',\n",
       " '__sub__',\n",
       " '__subclasshook__',\n",
       " '__truediv__',\n",
       " '__trunc__',\n",
       " '__xor__',\n",
       " 'bit_length',\n",
       " 'conjugate',\n",
       " 'denominator',\n",
       " 'imag',\n",
       " 'numerator',\n",
       " 'real']"
      ]
     },
     "execution_count": 1,
     "metadata": {},
     "output_type": "execute_result"
    }
   ],
   "source": [
    "num = 100\n",
    "dir(num)"
   ]
  },
  {
   "cell_type": "code",
   "execution_count": 17,
   "metadata": {
    "collapsed": false
   },
   "outputs": [
    {
     "name": "stdout",
     "output_type": "stream",
     "text": [
      "__main__.Person\n",
      "<__main__.Person instance at 0x00000000042CDA48>\n",
      "<class '__main__.Person2'>\n",
      "<__main__.Person2 object at 0x00000000042D3BE0>\n",
      "__main__.Person3\n",
      "<__main__.Person3 instance at 0x00000000042CD488>\n"
     ]
    }
   ],
   "source": [
    "class Person:\n",
    "    pass\n",
    "class Person2(object):\n",
    "    pass\n",
    "class Person3():\n",
    "    pass\n",
    "\n",
    "p1 = Person\n",
    "p2 = Person()\n",
    "p3 = Person2\n",
    "p4 = Person2()\n",
    "p5 = Person3\n",
    "p6 = Person3()\n",
    "\n",
    "print p1\n",
    "print p2\n",
    "print p3\n",
    "print p4\n",
    "print p5\n",
    "print p6"
   ]
  },
  {
   "cell_type": "code",
   "execution_count": 21,
   "metadata": {
    "collapsed": false
   },
   "outputs": [
    {
     "name": "stdout",
     "output_type": "stream",
     "text": [
      "alex\n",
      "<bound method Student.__init__ of <__main__.Student object at 0x0000000004216D68>>\n"
     ]
    }
   ],
   "source": [
    "class Student(object):\n",
    "    def __init__(self, name):\n",
    "        self.nami = name\n",
    "\n",
    "s1 = Student('alex')\n",
    "print s1.nami\n",
    "print s1.__init__"
   ]
  },
  {
   "cell_type": "code",
   "execution_count": 31,
   "metadata": {
    "collapsed": false
   },
   "outputs": [
    {
     "name": "stdout",
     "output_type": "stream",
     "text": [
      "alex is work hard\n",
      "james\n",
      "james is work hard\n"
     ]
    }
   ],
   "source": [
    "class Person(object):\n",
    "    def __init__(self, name):\n",
    "        self.name = name\n",
    "    def work(self):\n",
    "        return '{} is work hard'.format(self.name)\n",
    "    \n",
    "c1 = Person('alex')\n",
    "c2 = Person('james')\n",
    "\n",
    "print c1.work()\n",
    "print c2.name\n",
    "print c2.work()"
   ]
  },
  {
   "cell_type": "code",
   "execution_count": 37,
   "metadata": {
    "collapsed": false
   },
   "outputs": [
    {
     "name": "stdout",
     "output_type": "stream",
     "text": [
      "work hard\n",
      "work too hard\n",
      "study hard\n"
     ]
    }
   ],
   "source": [
    "class Person(object):\n",
    "    def work(self):\n",
    "        return \"work hard\"\n",
    "    \n",
    "class Student(Person):\n",
    "    def work(self):\n",
    "        return \"work too hard\"\n",
    "    \n",
    "    def study(self):\n",
    "        return \"study hard\"\n",
    "    \n",
    "p1 = Person()\n",
    "s1 = Student()\n",
    "\n",
    "print p1.work()\n",
    "print s1.work()\n",
    "print s1.study()\n"
   ]
  },
  {
   "cell_type": "code",
   "execution_count": 60,
   "metadata": {
    "collapsed": false
   },
   "outputs": [
    {
     "name": "stdout",
     "output_type": "stream",
     "text": [
      "ch2\n",
      "work hard\n",
      "ff.cc\n"
     ]
    }
   ],
   "source": [
    "class Person(object):\n",
    "    def __init__(self, name, channel):\n",
    "        self.name = name\n",
    "        self.channel = channel\n",
    "        \n",
    "class Student(Person):\n",
    "    def __init__(self, channelee, names, email):\n",
    "        super(Student, self).__init__(names, channelee)\n",
    "        self.email = email\n",
    "        \n",
    "    def work(self):\n",
    "        return \"work hard\"\n",
    "    \n",
    "p1 = Person(\"alex\", \"ch1\")\n",
    "s1 = Student(\"james\", \"ch2\", \"ff.cc\")\n",
    "\n",
    "print s1.name\n",
    "print s1.work()\n",
    "print s1.email"
   ]
  },
  {
   "cell_type": "code",
   "execution_count": 65,
   "metadata": {
    "collapsed": false
   },
   "outputs": [
    {
     "name": "stdout",
     "output_type": "stream",
     "text": [
      "bob is sleepin for 12\n"
     ]
    }
   ],
   "source": [
    "class Person(object):\n",
    "    def __init__(self, name):\n",
    "        self.name = name\n",
    "        \n",
    "    def sleep(self, hour):\n",
    "        print self.name, \"is sleepin for\", hour\n",
    "        \n",
    "p1 = Person(\"bob\")\n",
    "p1.sleep(12)"
   ]
  },
  {
   "cell_type": "code",
   "execution_count": 82,
   "metadata": {
    "collapsed": false
   },
   "outputs": [
    {
     "name": "stdout",
     "output_type": "stream",
     "text": [
      "1\n",
      "2\n",
      "3\n",
      "3\n",
      "gg\n",
      "gg\n"
     ]
    }
   ],
   "source": [
    "class Person(object):\n",
    "    count = 0\n",
    "    def __init__(self, num):\n",
    "        Person.count += 1\n",
    "        self.num = num\n",
    "    \n",
    "    def print_num(self):\n",
    "        return self.num\n",
    "    \n",
    "    @classmethod\n",
    "    def print_num2(self):\n",
    "        return \"gg\"\n",
    "    \n",
    "a = Person(1)\n",
    "b = Person(2)\n",
    "c = Person(3)\n",
    "print a.print_num()\n",
    "print b.print_num()\n",
    "print a.count\n",
    "print Person.count\n",
    "print a.print_num2()\n",
    "print Person.print_num2()"
   ]
  },
  {
   "cell_type": "code",
   "execution_count": 113,
   "metadata": {
    "collapsed": false
   },
   "outputs": [
    {
     "name": "stdout",
     "output_type": "stream",
     "text": [
      "alex\n",
      "False\n",
      "True\n",
      "True\n",
      "<type 'str'>\n",
      "alex\n",
      "alexjames\n"
     ]
    },
    {
     "data": {
      "text/plain": [
       "Word('alexjames')"
      ]
     },
     "execution_count": 113,
     "metadata": {},
     "output_type": "execute_result"
    }
   ],
   "source": [
    "class Word(object):\n",
    "    def __init__(self, text):\n",
    "        self.text = text\n",
    "    \n",
    "    def is_equal(self, w2):\n",
    "        return self.text.lower() == w2.text.lower()\n",
    "    \n",
    "    def __eq__(self, w2):\n",
    "        return self.text.lower() == w2.lower()\n",
    "    \n",
    "    def is_equal2(self, w3):\n",
    "        return self.text.lower() == w3.lower()\n",
    "    \n",
    "    def __add__(self, w4):\n",
    "        return Word(self.text + w4.text)\n",
    "    \n",
    "    def __repr__(self):\n",
    "        return \"Word('\" + self.text + \"')\"\n",
    "    \n",
    "    def __str__(self):\n",
    "        return self.text\n",
    "    \n",
    "w1 = Word('alex')\n",
    "w2 = Word('james')\n",
    "w3 = 'Alex'\n",
    "\n",
    "print w1.text\n",
    "print w1.is_equal(w2)\n",
    "print w1.is_equal2(w3)\n",
    "print w3 == w1\n",
    "\n",
    "print type(w3)\n",
    "\n",
    "w4 = w1 + w2\n",
    "print w1\n",
    "print w4\n",
    "w4"
   ]
  },
  {
   "cell_type": "code",
   "execution_count": 120,
   "metadata": {
    "collapsed": false
   },
   "outputs": [
    {
     "name": "stdout",
     "output_type": "stream",
     "text": [
      "True\n",
      "aaronAaron\n",
      "<class '__main__.Word'>\n",
      "5\n",
      "aaron\n"
     ]
    },
    {
     "data": {
      "text/plain": [
       "Word(\"aaron\")"
      ]
     },
     "execution_count": 120,
     "metadata": {},
     "output_type": "execute_result"
    }
   ],
   "source": [
    "class Word(object):\n",
    "    def __init__(self, text):\n",
    "        self.text = text\n",
    "        \n",
    "    def __eq__(self, word2):\n",
    "        return self.text.lower() == word2.text.lower() #A==B로 바로 직관적으로 확인 가능. \n",
    "    \n",
    "    def __add__(self, word2):\n",
    "        return Word(self.text + word2.text)\n",
    "    \n",
    "    def __repr__(self):\n",
    "        return 'Word(\"' + self.text + '\")'\n",
    "    \n",
    "    def __str__(self):\n",
    "        return self.text\n",
    "\n",
    "    def __len__(self):\n",
    "        return len(self.text)\n",
    "    \n",
    "w1 = Word('aaron')\n",
    "w2 = Word('Aaron')\n",
    "w3 = Word('Bob')\n",
    "\n",
    "print w1 == w2\n",
    "\n",
    "w4 = w1 + w2\n",
    "print w4\n",
    "print type(w4)\n",
    "print len(w1)\n",
    "print w1\n",
    "w1"
   ]
  },
  {
   "cell_type": "code",
   "execution_count": 115,
   "metadata": {
    "collapsed": false
   },
   "outputs": [
    {
     "name": "stdout",
     "output_type": "stream",
     "text": [
      "4\n"
     ]
    }
   ],
   "source": [
    "w1 = Word(\"a\")\n",
    "w2 = Word(\"b\")\n",
    "w3 = Word(\"c\")\n",
    "w4 = Word(\"d\")\n",
    "\n",
    "words = [w1, w2, w3, w4]\n",
    "print len(words)"
   ]
  },
  {
   "cell_type": "code",
   "execution_count": 116,
   "metadata": {
    "collapsed": false
   },
   "outputs": [
    {
     "ename": "TypeError",
     "evalue": "object of type 'Word' has no len()",
     "output_type": "error",
     "traceback": [
      "\u001b[1;31m---------------------------------------------------------------------------\u001b[0m",
      "\u001b[1;31mTypeError\u001b[0m                                 Traceback (most recent call last)",
      "\u001b[1;32m<ipython-input-116-bc789f753f82>\u001b[0m in \u001b[0;36m<module>\u001b[1;34m()\u001b[0m\n\u001b[1;32m----> 1\u001b[1;33m \u001b[0mlen\u001b[0m\u001b[1;33m(\u001b[0m\u001b[0mw1\u001b[0m\u001b[1;33m)\u001b[0m\u001b[1;33m\u001b[0m\u001b[0m\n\u001b[0m",
      "\u001b[1;31mTypeError\u001b[0m: object of type 'Word' has no len()"
     ]
    }
   ],
   "source": []
  },
  {
   "cell_type": "code",
   "execution_count": 147,
   "metadata": {
    "collapsed": false
   },
   "outputs": [
    {
     "name": "stdout",
     "output_type": "stream",
     "text": [
      "<class '__main__.Bill'>\n",
      "alex has a bill and it is very nice and a tail length is 5\n",
      "alex has a bill and it is very nice and a tail length is 5\n"
     ]
    },
    {
     "ename": "AttributeError",
     "evalue": "'Duck3' object has no attribute 'length'",
     "output_type": "error",
     "traceback": [
      "\u001b[1;31m---------------------------------------------------------------------------\u001b[0m",
      "\u001b[1;31mAttributeError\u001b[0m                            Traceback (most recent call last)",
      "\u001b[1;32m<ipython-input-147-f47918809ca5>\u001b[0m in \u001b[0;36m<module>\u001b[1;34m()\u001b[0m\n\u001b[0;32m     44\u001b[0m \u001b[1;32mprint\u001b[0m \u001b[0mb_duck\u001b[0m\u001b[1;33m.\u001b[0m\u001b[0mdescribe\u001b[0m\u001b[1;33m(\u001b[0m\u001b[1;33m)\u001b[0m\u001b[1;33m\u001b[0m\u001b[0m\n\u001b[0;32m     45\u001b[0m \u001b[0mc_duck\u001b[0m \u001b[1;33m=\u001b[0m \u001b[0mDuck3\u001b[0m\u001b[1;33m(\u001b[0m\u001b[1;34m\"very nice\"\u001b[0m\u001b[1;33m,\u001b[0m \u001b[1;34m\"5\"\u001b[0m\u001b[1;33m,\u001b[0m \u001b[1;34m\"alex\"\u001b[0m\u001b[1;33m)\u001b[0m\u001b[1;33m\u001b[0m\u001b[0m\n\u001b[1;32m---> 46\u001b[1;33m \u001b[1;32mprint\u001b[0m \u001b[0mc_duck\u001b[0m\u001b[1;33m.\u001b[0m\u001b[0mdescribe\u001b[0m\u001b[1;33m(\u001b[0m\u001b[1;33m)\u001b[0m\u001b[1;33m\u001b[0m\u001b[0m\n\u001b[0m",
      "\u001b[1;32m<ipython-input-147-f47918809ca5>\u001b[0m in \u001b[0;36mdescribe\u001b[1;34m(self)\u001b[0m\n\u001b[0;32m     32\u001b[0m \u001b[1;33m\u001b[0m\u001b[0m\n\u001b[0;32m     33\u001b[0m     \u001b[1;32mdef\u001b[0m \u001b[0mdescribe\u001b[0m\u001b[1;33m(\u001b[0m\u001b[0mself\u001b[0m\u001b[1;33m)\u001b[0m\u001b[1;33m:\u001b[0m\u001b[1;33m\u001b[0m\u001b[0m\n\u001b[1;32m---> 34\u001b[1;33m         \u001b[1;32mreturn\u001b[0m \u001b[0mself\u001b[0m\u001b[1;33m.\u001b[0m\u001b[0mname\u001b[0m \u001b[1;33m+\u001b[0m \u001b[1;34m' has a bill and it is '\u001b[0m \u001b[1;33m+\u001b[0m \u001b[0mself\u001b[0m\u001b[1;33m.\u001b[0m\u001b[0mdesc\u001b[0m \u001b[1;33m+\u001b[0m \u001b[1;34m' and a tail length is '\u001b[0m \u001b[1;33m+\u001b[0m \u001b[0mself\u001b[0m\u001b[1;33m.\u001b[0m\u001b[0mlength\u001b[0m\u001b[1;33m\u001b[0m\u001b[0m\n\u001b[0m\u001b[0;32m     35\u001b[0m \u001b[1;33m\u001b[0m\u001b[0m\n\u001b[0;32m     36\u001b[0m \u001b[1;33m\u001b[0m\u001b[0m\n",
      "\u001b[1;31mAttributeError\u001b[0m: 'Duck3' object has no attribute 'length'"
     ]
    }
   ],
   "source": [
    "class Bill(object):\n",
    "    def __init__(self, desc):\n",
    "        self.desc = desc\n",
    "\n",
    "class Tail(object):\n",
    "    def __init__(self, length):\n",
    "        self.length = str(length)\n",
    "    \n",
    "class Duck(object):\n",
    "    def __init__(self, bb, tt, name):\n",
    "        self.name = name\n",
    "        self.b = bb\n",
    "        self.t = tt\n",
    "    \n",
    "    def describe(self):\n",
    "        return self.name + ' has a bill and it is ' + self.b.desc + ' and a tail length is ' + self.t.length\n",
    "\n",
    "class Duck2(Bill):\n",
    "    def __init__(self, bb, tt, name):\n",
    "        self.name = name\n",
    "        self.t = tt\n",
    "        super(Duck2, self).__init__(bb)\n",
    "    \n",
    "    def describe(self):\n",
    "        return self.name + ' has a bill and it is ' + self.desc + ' and a tail length is ' + self.t.length\n",
    "    \n",
    "class Duck3(Bill, Tail):\n",
    "    def __init__(self, bb, tt, name):\n",
    "        self.name = name\n",
    "        super(Duck3, self).__init__(bb)\n",
    "        super(Duck3, self).__init__(tt)\n",
    "    \n",
    "    def describe(self):\n",
    "        return self.name + ' has a bill and it is ' + self.desc + ' and a tail length is ' + self.length\n",
    "\n",
    "    \n",
    "    \n",
    "bill = Bill(\"very nice\")    \n",
    "print type(bill)\n",
    "tail = Tail(5)\n",
    "a_duck = Duck(bill, tail, \"alex\")\n",
    "print a_duck.describe()\n",
    "b_duck = Duck2(\"very nice\", tail, \"alex\")\n",
    "print b_duck.describe()\n",
    "c_duck = Duck3(\"very nice\", \"5\", \"alex\")\n",
    "print c_duck.describe()"
   ]
  },
  {
   "cell_type": "code",
   "execution_count": 144,
   "metadata": {
    "collapsed": false
   },
   "outputs": [
    {
     "data": {
      "text/plain": [
       "0"
      ]
     },
     "execution_count": 144,
     "metadata": {},
     "output_type": "execute_result"
    }
   ],
   "source": [
    "num = [1, 2, 3, 4]\n",
    "sum(num[2:1])"
   ]
  },
  {
   "cell_type": "code",
   "execution_count": 141,
   "metadata": {
    "collapsed": false
   },
   "outputs": [
    {
     "name": "stdout",
     "output_type": "stream",
     "text": [
      "1 + 4 * 6\n"
     ]
    }
   ],
   "source": [
    "class StrCalculate(object):\n",
    "    def __init__(self, formula):\n",
    "        self.formula = formula.replace('x', '*')\n",
    "        self.bracket = \n",
    "    #def get_value(self):\n",
    "        #return\n",
    "\n",
    "f1 = StrCalculate(\"1 + 4 x 6\")\n",
    "print f1.formula"
   ]
  },
  {
   "cell_type": "code",
   "execution_count": 152,
   "metadata": {
    "collapsed": false
   },
   "outputs": [
    {
     "name": "stdout",
     "output_type": "stream",
     "text": [
      "Car2(engine='super', door='smooth')\n",
      "Car2(engine='hihi', door='he')\n",
      "hihi\n"
     ]
    }
   ],
   "source": [
    "from collections import namedtuple\n",
    "Car = namedtuple('Car2', 'engine door')\n",
    "Car2 = 'a'\n",
    "\n",
    "car1 = Car('super', 'smooth')\n",
    "print car1\n",
    "\n",
    "car2 = Car(engine = 'hihi', door = 'he')\n",
    "print car2\n",
    "print car2[0]"
   ]
  },
  {
   "cell_type": "code",
   "execution_count": 153,
   "metadata": {
    "collapsed": false
   },
   "outputs": [
    {
     "name": "stdout",
     "output_type": "stream",
     "text": [
      "bet(name='kate', age=14)\n"
     ]
    }
   ],
   "source": [
    "aet = namedtuple('bet', ['name', 'age'])\n",
    "\n",
    "cat = aet('kate', 14)\n",
    "print cat"
   ]
  },
  {
   "cell_type": "code",
   "execution_count": null,
   "metadata": {
    "collapsed": true
   },
   "outputs": [],
   "source": []
  }
 ],
 "metadata": {
  "anaconda-cloud": {},
  "kernelspec": {
   "display_name": "Python [Root]",
   "language": "python",
   "name": "Python [Root]"
  },
  "language_info": {
   "codemirror_mode": {
    "name": "ipython",
    "version": 2
   },
   "file_extension": ".py",
   "mimetype": "text/x-python",
   "name": "python",
   "nbconvert_exporter": "python",
   "pygments_lexer": "ipython2",
   "version": "2.7.12"
  }
 },
 "nbformat": 4,
 "nbformat_minor": 0
}
