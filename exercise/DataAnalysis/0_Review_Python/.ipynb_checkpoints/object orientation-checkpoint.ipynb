{
 "cells": [
  {
   "cell_type": "code",
   "execution_count": 2,
   "metadata": {
    "collapsed": false
   },
   "outputs": [
    {
     "name": "stdout",
     "output_type": "stream",
     "text": [
      "100\n"
     ]
    }
   ],
   "source": [
    "class triangle(object):\n",
    "    def __init__(self, b, h):\n",
    "        self.b = b\n",
    "        self.h = h\n",
    "    \n",
    "    def area(self):\n",
    "        return self.b * self.h / 2\n",
    "\n",
    "tt = triangle(10, 20)\n",
    "print tt.area()"
   ]
  },
  {
   "cell_type": "code",
   "execution_count": 6,
   "metadata": {
    "collapsed": false
   },
   "outputs": [
    {
     "name": "stdout",
     "output_type": "stream",
     "text": [
      "6\n",
      "22\n"
     ]
    }
   ],
   "source": [
    "class squarepillar(object):\n",
    "    def __init__(self, a, b, h):\n",
    "        self.a = a\n",
    "        self.b = b\n",
    "        self.h = h\n",
    "    \n",
    "    def volume(self):\n",
    "        return self.a * self.b * self.h\n",
    "    \n",
    "    def surface(self):\n",
    "        return (self.a * self.b + self.b * self.h + self.a * self.h) * 2\n",
    "    \n",
    "rr = squarepillar(1, 2, 3)\n",
    "print rr.volume()\n",
    "print rr.surface()"
   ]
  },
  {
   "cell_type": "code",
   "execution_count": 7,
   "metadata": {
    "collapsed": true
   },
   "outputs": [],
   "source": [
    "class Character(object):\n",
    "    \n",
    "    def __init__(self):\n",
    "        self.life = 1000\n",
    "        \n",
    "    def attacked(self):\n",
    "        self.life -= 10\n",
    "        print '공격받음! 생명력 : {}'.format(self.life)"
   ]
  },
  {
   "cell_type": "code",
   "execution_count": 8,
   "metadata": {
    "collapsed": true
   },
   "outputs": [],
   "source": [
    "a = Character()\n",
    "b = Character()\n",
    "c = Character()"
   ]
  },
  {
   "cell_type": "code",
   "execution_count": 9,
   "metadata": {
    "collapsed": false
   },
   "outputs": [
    {
     "name": "stdout",
     "output_type": "stream",
     "text": [
      "1000\n"
     ]
    }
   ],
   "source": [
    "print a.life"
   ]
  },
  {
   "cell_type": "code",
   "execution_count": 10,
   "metadata": {
    "collapsed": false
   },
   "outputs": [
    {
     "name": "stdout",
     "output_type": "stream",
     "text": [
      "공격받음! 생명력 : 990\n"
     ]
    }
   ],
   "source": [
    "a.attacked()"
   ]
  },
  {
   "cell_type": "code",
   "execution_count": 11,
   "metadata": {
    "collapsed": false
   },
   "outputs": [
    {
     "name": "stdout",
     "output_type": "stream",
     "text": [
      "990\n"
     ]
    }
   ],
   "source": [
    "print a.life"
   ]
  },
  {
   "cell_type": "code",
   "execution_count": 19,
   "metadata": {
    "collapsed": false
   },
   "outputs": [],
   "source": [
    "class Warrior(Character):\n",
    "    def __init__(self):\n",
    "        super(Warrior, self).__init__()\n",
    "        self.strength = 15\n",
    "        self.intelligence = 5\n",
    "        \n",
    "    def attacked(self):\n",
    "        self.life -= 5\n",
    "        print '공격받음! 생명력 : {}'.format(self.life)"
   ]
  },
  {
   "cell_type": "code",
   "execution_count": 20,
   "metadata": {
    "collapsed": false
   },
   "outputs": [],
   "source": [
    "class Wizard(Character):\n",
    "    def __init__(self):\n",
    "        super(Wizard, self).__init__()\n",
    "        self.strength = 5\n",
    "        self.intelligence = 15"
   ]
  },
  {
   "cell_type": "code",
   "execution_count": 21,
   "metadata": {
    "collapsed": true
   },
   "outputs": [],
   "source": [
    "d = Warrior()\n",
    "e = Wizard()"
   ]
  },
  {
   "cell_type": "code",
   "execution_count": 22,
   "metadata": {
    "collapsed": false
   },
   "outputs": [
    {
     "name": "stdout",
     "output_type": "stream",
     "text": [
      "공격받음! 생명력 : 995\n"
     ]
    }
   ],
   "source": [
    "d.attacked()"
   ]
  },
  {
   "cell_type": "code",
   "execution_count": 37,
   "metadata": {
    "collapsed": true
   },
   "outputs": [],
   "source": [
    "class Car(object):\n",
    "    def __init__(self):\n",
    "        self.max_speed = 160\n",
    "        self.speed = 0\n",
    "        \n",
    "    def speed_up(self):\n",
    "        self.speed += 20\n",
    "        self.get_speed()\n",
    "            \n",
    "    def speed_down(self):\n",
    "        self.speed -= 20\n",
    "        self.get_speed()\n",
    "        \n",
    "    def get_speed(self):\n",
    "        \n",
    "        if self.speed >= self.max_speed:\n",
    "            self.speed = self.max_speed\n",
    "        \n",
    "        if self.speed <= 0:\n",
    "            self.speed = 0\n",
    "        "
   ]
  },
  {
   "cell_type": "code",
   "execution_count": 38,
   "metadata": {
    "collapsed": false
   },
   "outputs": [
    {
     "name": "stdout",
     "output_type": "stream",
     "text": [
      "160\n"
     ]
    }
   ],
   "source": [
    "a = Car()\n",
    "a.speed_up()\n",
    "a.speed_up()\n",
    "a.speed_up()\n",
    "a.speed_up()\n",
    "a.speed_up()\n",
    "a.speed_up()\n",
    "a.speed_up()\n",
    "a.speed_up()\n",
    "a.speed_up()\n",
    "a.speed_up()\n",
    "a.speed_up()\n",
    "\n",
    "print a.speed"
   ]
  },
  {
   "cell_type": "code",
   "execution_count": 39,
   "metadata": {
    "collapsed": true
   },
   "outputs": [],
   "source": [
    "class SportCar(Car):\n",
    "    def __init__(self):\n",
    "        super(SportCar, self).__init__()\n",
    "        self.max_speed = 200\n",
    "    def speed_up(self):\n",
    "        self.speed += 40\n",
    "        self.get_speed()\n",
    "    def speed_down(self):\n",
    "        self.speed -= 40\n",
    "        self.get_speed()"
   ]
  },
  {
   "cell_type": "code",
   "execution_count": 40,
   "metadata": {
    "collapsed": true
   },
   "outputs": [],
   "source": [
    "class Truck(Car):\n",
    "    def __init__(self):\n",
    "        super(Truck, self).__init__()\n",
    "        self.max_speed = 100\n",
    "    def speed_up(self):\n",
    "        self.speed += 10\n",
    "        self.get_speed()\n",
    "    def speed_down(self):\n",
    "        self.speed -= 10\n",
    "        self.get_speed()"
   ]
  },
  {
   "cell_type": "code",
   "execution_count": 41,
   "metadata": {
    "collapsed": false
   },
   "outputs": [
    {
     "name": "stdout",
     "output_type": "stream",
     "text": [
      "200\n"
     ]
    }
   ],
   "source": [
    "b = SportCar()\n",
    "b.speed_up()\n",
    "b.speed_up()\n",
    "b.speed_up()\n",
    "b.speed_up()\n",
    "b.speed_up()\n",
    "b.speed_up()\n",
    "print b.speed"
   ]
  },
  {
   "cell_type": "code",
   "execution_count": 43,
   "metadata": {
    "collapsed": true
   },
   "outputs": [],
   "source": [
    "class Complex(object):\n",
    "    def __init__(self, r, i):\n",
    "        self.r = r\n",
    "        self.i = i"
   ]
  },
  {
   "cell_type": "code",
   "execution_count": 44,
   "metadata": {
    "collapsed": false
   },
   "outputs": [
    {
     "name": "stdout",
     "output_type": "stream",
     "text": [
      "<__main__.Complex object at 0x0000000003D44208>\n"
     ]
    }
   ],
   "source": [
    "c = Complex(1, 2)\n",
    "print c"
   ]
  },
  {
   "cell_type": "code",
   "execution_count": 45,
   "metadata": {
    "collapsed": false
   },
   "outputs": [
    {
     "name": "stdout",
     "output_type": "stream",
     "text": [
      "<__main__.Complex object at 0x0000000003D44208>\n"
     ]
    }
   ],
   "source": [
    "print str(c)"
   ]
  },
  {
   "cell_type": "code",
   "execution_count": 46,
   "metadata": {
    "collapsed": false
   },
   "outputs": [
    {
     "data": {
      "text/plain": [
       "<__main__.Complex at 0x3d44208>"
      ]
     },
     "execution_count": 46,
     "metadata": {},
     "output_type": "execute_result"
    }
   ],
   "source": [
    "c"
   ]
  },
  {
   "cell_type": "code",
   "execution_count": 66,
   "metadata": {
    "collapsed": false
   },
   "outputs": [],
   "source": [
    "class Complex2(Complex):\n",
    "    \n",
    "    def __repr__(self):\n",
    "        if self.i < 0:\n",
    "            return \"{} - {}j\".format(self.r, self.i)\n",
    "        elif self.i == 0:\n",
    "            return \"{}\".format(self.r)\n",
    "        else:\n",
    "            return \"{} + {}j\".format(self.r, self.i)\n",
    "    def __str__(self):\n",
    "        return '{}{}'.format(self.r, self.i)"
   ]
  },
  {
   "cell_type": "code",
   "execution_count": 67,
   "metadata": {
    "collapsed": false
   },
   "outputs": [],
   "source": [
    "d = Complex2(2,3)"
   ]
  },
  {
   "cell_type": "code",
   "execution_count": 68,
   "metadata": {
    "collapsed": false
   },
   "outputs": [
    {
     "data": {
      "text/plain": [
       "2 + 3j"
      ]
     },
     "execution_count": 68,
     "metadata": {},
     "output_type": "execute_result"
    }
   ],
   "source": [
    "d"
   ]
  },
  {
   "cell_type": "code",
   "execution_count": 69,
   "metadata": {
    "collapsed": false
   },
   "outputs": [
    {
     "data": {
      "text/plain": [
       "'23'"
      ]
     },
     "execution_count": 69,
     "metadata": {},
     "output_type": "execute_result"
    }
   ],
   "source": [
    "str(d)"
   ]
  },
  {
   "cell_type": "code",
   "execution_count": 71,
   "metadata": {
    "collapsed": false
   },
   "outputs": [],
   "source": [
    "class Complex3(Complex2):\n",
    "    \n",
    "    def __getitem__(self, key):\n",
    "        if key == 'r':\n",
    "            return self.r\n",
    "        elif key == 'i':\n",
    "            return self.i\n",
    "        \n",
    "        "
   ]
  },
  {
   "cell_type": "code",
   "execution_count": 72,
   "metadata": {
    "collapsed": true
   },
   "outputs": [],
   "source": [
    "e = Complex3(4, 5)"
   ]
  },
  {
   "cell_type": "code",
   "execution_count": 73,
   "metadata": {
    "collapsed": false
   },
   "outputs": [
    {
     "name": "stdout",
     "output_type": "stream",
     "text": [
      "4\n"
     ]
    }
   ],
   "source": [
    "print e['r']"
   ]
  },
  {
   "cell_type": "code",
   "execution_count": 75,
   "metadata": {
    "collapsed": false
   },
   "outputs": [],
   "source": [
    "class stuinfo(object):\n",
    "    def __init__(self, stunum, name, math, eng):\n",
    "        self.stunum = stunum\n",
    "        self.name = name\n",
    "        self.math = math\n",
    "        self.eng = eng\n",
    "    \n",
    "    def get_avg(self):\n",
    "        return (self.math + self.eng) / 2\n",
    "    \n",
    "    def __repr__(self):\n",
    "        return 'stunum is {}, name is {}'.format(self.stunum, self.name)\n",
    "    \n",
    "    def __str__(self):\n",
    "        return self.name\n",
    "    \n",
    "    def __getitem__(self, key):\n",
    "        if key == 'math':\n",
    "            return self.math\n",
    "        \n",
    "        if key == 'english':\n",
    "            return self.eng\n",
    "        "
   ]
  },
  {
   "cell_type": "code",
   "execution_count": 76,
   "metadata": {
    "collapsed": true
   },
   "outputs": [],
   "source": [
    "a = stuinfo(2009145093, 'alex', 95, 95)"
   ]
  },
  {
   "cell_type": "code",
   "execution_count": 77,
   "metadata": {
    "collapsed": false
   },
   "outputs": [
    {
     "data": {
      "text/plain": [
       "stunum is 2009145093, name is alex"
      ]
     },
     "execution_count": 77,
     "metadata": {},
     "output_type": "execute_result"
    }
   ],
   "source": [
    "a"
   ]
  },
  {
   "cell_type": "code",
   "execution_count": 80,
   "metadata": {
    "collapsed": false
   },
   "outputs": [
    {
     "name": "stdout",
     "output_type": "stream",
     "text": [
      "95\n"
     ]
    }
   ],
   "source": [
    "print a.get_avg()"
   ]
  },
  {
   "cell_type": "code",
   "execution_count": 81,
   "metadata": {
    "collapsed": false
   },
   "outputs": [
    {
     "data": {
      "text/plain": [
       "'alex'"
      ]
     },
     "execution_count": 81,
     "metadata": {},
     "output_type": "execute_result"
    }
   ],
   "source": [
    "str(a)"
   ]
  },
  {
   "cell_type": "code",
   "execution_count": 82,
   "metadata": {
    "collapsed": false
   },
   "outputs": [
    {
     "name": "stdout",
     "output_type": "stream",
     "text": [
      "95 95\n"
     ]
    }
   ],
   "source": [
    "print a['math'], \n",
    "print a['english']"
   ]
  },
  {
   "cell_type": "code",
   "execution_count": null,
   "metadata": {
    "collapsed": true
   },
   "outputs": [],
   "source": []
  }
 ],
 "metadata": {
  "anaconda-cloud": {},
  "kernelspec": {
   "display_name": "Python [Root]",
   "language": "python",
   "name": "Python [Root]"
  },
  "language_info": {
   "codemirror_mode": {
    "name": "ipython",
    "version": 2
   },
   "file_extension": ".py",
   "mimetype": "text/x-python",
   "name": "python",
   "nbconvert_exporter": "python",
   "pygments_lexer": "ipython2",
   "version": "2.7.12"
  }
 },
 "nbformat": 4,
 "nbformat_minor": 0
}
