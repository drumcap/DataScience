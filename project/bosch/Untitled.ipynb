{
 "cells": [
  {
   "cell_type": "code",
   "execution_count": 3,
   "metadata": {
    "collapsed": true
   },
   "outputs": [],
   "source": [
    "import pandas as pd"
   ]
  },
  {
   "cell_type": "code",
   "execution_count": 32,
   "metadata": {
    "collapsed": true
   },
   "outputs": [],
   "source": [
    "train_num1 = pd.read_csv(r\"train_numeric.csv\",nrows=5)"
   ]
  },
  {
   "cell_type": "code",
   "execution_count": 40,
   "metadata": {
    "collapsed": false
   },
   "outputs": [
    {
     "name": "stdout",
     "output_type": "stream",
     "text": [
      "                0    1    2    3    4\n",
      "L3_S47_F4168  NaN  NaN  NaN  NaN  NaN\n",
      "L3_S47_F4173  NaN  NaN  NaN  NaN  NaN\n",
      "L3_S47_F4178  NaN  NaN  NaN  NaN  NaN\n",
      "L3_S47_F4183  NaN  NaN  NaN  NaN  NaN\n",
      "L3_S47_F4188  NaN  NaN  NaN  NaN  NaN\n",
      "L3_S48_F4193  NaN  NaN  NaN  NaN  NaN\n",
      "L3_S48_F4196  NaN  NaN  NaN  NaN  NaN\n",
      "L3_S48_F4198  NaN  NaN  NaN  NaN  NaN\n",
      "L3_S48_F4200  NaN  NaN  NaN  NaN  NaN\n",
      "L3_S48_F4202  NaN  NaN  NaN  NaN  NaN\n",
      "L3_S48_F4204  NaN  NaN  NaN  NaN  NaN\n",
      "L3_S49_F4206  NaN  NaN  NaN  NaN  NaN\n",
      "L3_S49_F4211  NaN  NaN  NaN  NaN  NaN\n",
      "L3_S49_F4216  NaN  NaN  NaN  NaN  NaN\n",
      "L3_S49_F4221  NaN  NaN  NaN  NaN  NaN\n",
      "L3_S49_F4226  NaN  NaN  NaN  NaN  NaN\n",
      "L3_S49_F4231  NaN  NaN  NaN  NaN  NaN\n",
      "L3_S49_F4236  NaN  NaN  NaN  NaN  NaN\n",
      "L3_S50_F4241  NaN  NaN  NaN  NaN  NaN\n",
      "L3_S50_F4243  NaN  NaN  NaN  NaN  NaN\n",
      "L3_S50_F4245  NaN  NaN  NaN  NaN  NaN\n",
      "L3_S50_F4247  NaN  NaN  NaN  NaN  NaN\n",
      "L3_S50_F4249  NaN  NaN  NaN  NaN  NaN\n",
      "L3_S50_F4251  NaN  NaN  NaN  NaN  NaN\n",
      "L3_S50_F4253  NaN  NaN  NaN  NaN  NaN\n",
      "L3_S51_F4256  NaN  NaN  NaN  NaN  NaN\n",
      "L3_S51_F4258  NaN  NaN  NaN  NaN  NaN\n",
      "L3_S51_F4260  NaN  NaN  NaN  NaN  NaN\n",
      "L3_S51_F4262  NaN  NaN  NaN  NaN  NaN\n",
      "Response      0.0  0.0  0.0  0.0  0.0\n"
     ]
    }
   ],
   "source": [
    "print train_num1.transpose().tail(30)"
   ]
  },
  {
   "cell_type": "code",
   "execution_count": 34,
   "metadata": {
    "collapsed": false
   },
   "outputs": [],
   "source": [
    "train_num2 = pd.read_csv(r\"train_date.csv\",nrows=5)"
   ]
  },
  {
   "cell_type": "code",
   "execution_count": 43,
   "metadata": {
    "collapsed": false
   },
   "outputs": [
    {
     "name": "stdout",
     "output_type": "stream",
     "text": [
      "                 0        1        2        3       4\n",
      "Id            4.00     6.00     7.00     9.00   11.00\n",
      "L0_S0_D1     82.24      NaN  1618.70  1149.20  602.64\n",
      "L0_S0_D3     82.24      NaN  1618.70  1149.20  602.64\n",
      "L0_S0_D5     82.24      NaN  1618.70  1149.20  602.64\n",
      "L0_S0_D7     82.24      NaN  1618.70  1149.20  602.64\n",
      "L0_S0_D9     82.24      NaN  1618.70  1149.20  602.64\n",
      "L0_S0_D11    82.24      NaN  1618.70  1149.20  602.64\n",
      "L0_S0_D13    82.24      NaN  1618.70  1149.20  602.64\n",
      "L0_S0_D15    82.24      NaN  1618.70  1149.20  602.64\n",
      "L0_S0_D17    82.24      NaN  1618.70  1149.20  602.64\n",
      "L0_S0_D19    82.24      NaN  1618.70  1149.20  602.64\n",
      "L0_S0_D21    82.24      NaN  1618.70  1149.20  602.64\n",
      "L0_S0_D23    82.24      NaN  1618.70  1149.20  602.64\n",
      "L0_S1_D26    82.24      NaN  1618.70  1149.20  602.64\n",
      "L0_S1_D30    82.24      NaN  1618.70  1149.20  602.64\n",
      "L0_S2_D34    82.24      NaN  1618.70  1149.21     NaN\n",
      "L0_S2_D38    82.24      NaN  1618.70  1149.21     NaN\n",
      "L0_S2_D42    82.24      NaN  1618.70  1149.21     NaN\n",
      "L0_S2_D46    82.24      NaN  1618.70  1149.21     NaN\n",
      "L0_S2_D50    82.24      NaN  1618.70  1149.21     NaN\n",
      "L0_S2_D54    82.24      NaN  1618.70  1149.21     NaN\n",
      "L0_S2_D58    82.24      NaN  1618.70  1149.21     NaN\n",
      "L0_S2_D62    82.24      NaN  1618.70  1149.21     NaN\n",
      "L0_S2_D66    82.24      NaN  1618.70  1149.21     NaN\n",
      "L0_S3_D70      NaN      NaN      NaN      NaN  602.64\n",
      "L0_S3_D74      NaN      NaN      NaN      NaN  602.64\n",
      "L0_S3_D78      NaN      NaN      NaN      NaN  602.64\n",
      "L0_S3_D82      NaN      NaN      NaN      NaN  602.64\n",
      "L0_S3_D86      NaN      NaN      NaN      NaN  602.64\n",
      "L0_S3_D90      NaN      NaN      NaN      NaN  602.64\n",
      "...            ...      ...      ...      ...     ...\n",
      "L0_S10_D246    NaN      NaN  1618.73  1149.22     NaN\n",
      "L0_S10_D251    NaN      NaN  1618.73  1149.22     NaN\n",
      "L0_S10_D256    NaN      NaN  1618.73  1149.22     NaN\n",
      "L0_S10_D261    NaN      NaN  1618.73  1149.22     NaN\n",
      "L0_S10_D266    NaN      NaN  1618.73  1149.22     NaN\n",
      "L0_S10_D271    NaN      NaN  1618.73  1149.22     NaN\n",
      "L0_S10_D276    NaN      NaN  1618.73  1149.22     NaN\n",
      "L0_S11_D280  82.27      NaN      NaN      NaN  602.67\n",
      "L0_S11_D284  82.27      NaN      NaN      NaN  602.67\n",
      "L0_S11_D288  82.27      NaN      NaN      NaN  602.67\n",
      "L0_S11_D292  82.27      NaN      NaN      NaN  602.67\n",
      "L0_S11_D296  82.27      NaN      NaN      NaN  602.67\n",
      "L0_S11_D300  82.27      NaN      NaN      NaN  602.67\n",
      "L0_S11_D304  82.27      NaN      NaN      NaN  602.67\n",
      "L0_S11_D308  82.27      NaN      NaN      NaN  602.67\n",
      "L0_S11_D312  82.27      NaN      NaN      NaN  602.67\n",
      "L0_S11_D316  82.27      NaN      NaN      NaN  602.67\n",
      "L0_S11_D320  82.27      NaN      NaN      NaN  602.67\n",
      "L0_S11_D324  82.27      NaN      NaN      NaN  602.67\n",
      "L0_S11_D328  82.27      NaN      NaN      NaN  602.67\n",
      "L0_S12_D331    NaN  1313.12      NaN      NaN     NaN\n",
      "L0_S12_D333    NaN  1313.12      NaN      NaN     NaN\n",
      "L0_S12_D335    NaN  1313.12      NaN      NaN     NaN\n",
      "L0_S12_D337    NaN  1313.12      NaN      NaN     NaN\n",
      "L0_S12_D339    NaN  1313.12      NaN      NaN     NaN\n",
      "L0_S12_D341    NaN  1313.12      NaN      NaN     NaN\n",
      "L0_S12_D343    NaN  1313.12      NaN      NaN     NaN\n",
      "L0_S12_D345    NaN  1313.12      NaN      NaN     NaN\n",
      "L0_S12_D347    NaN  1313.12      NaN      NaN     NaN\n",
      "L0_S12_D349    NaN  1313.12      NaN      NaN     NaN\n",
      "\n",
      "[100 rows x 5 columns]\n"
     ]
    }
   ],
   "source": [
    "print train_num2.transpose().head(100)"
   ]
  },
  {
   "cell_type": "code",
   "execution_count": 88,
   "metadata": {
    "collapsed": false,
    "scrolled": true
   },
   "outputs": [
    {
     "name": "stderr",
     "output_type": "stream",
     "text": [
      "C:\\Users\\alexmoon\\Anaconda2\\lib\\site-packages\\IPython\\core\\interactiveshell.py:2723: DtypeWarning: Columns (96,97,98,99,100,101,102,103,104,105,106,107,108,109,110,111,112,113,114,115,116,117,118,119,120,121,122,123,124,125,126,127,128,129,130,131,132,133,134,249,250,251,252,253,254,255,256,257,258,259,260,261,262,263,264,265,266,267,268,269,270,271,272,273,274,275,276,277,278,279,280,281,282,283,284,285,286,287,288,289,290,291,292,293,335,407,410,413,416,419,422,425,428,431,434,437,440,443,446,449,452,455,458,461,464,467,470,473,476,479,482,485,488,491,494,497,500,503,506,509,512,515,518,611,614,617,620,623,626,629,632,635,638,641,644,647,650,653,656,659,662,665,668,671,674,677,680,683,686,689,692,695,698,701,704,707,710,713,716,719,722,1005,1007,1008,1010,1011,1013,1014,1016,1017,1019,1020,1022,1023,1025,1026,1028,1029,1031,1032,1034,1035,1037,1038,1040,1041,1043,1044,1046,1047,1049,1050,1052,1126,1129,1132,1135,1138,1141,1144,1147,1183,1185,1188,1191,1194,1197,1200,1203,1206,1209,1212,1215,1218,1221,1224,1227,1230,1233,1236,1239,1242,1245,1248,1251,1254,1257,1260,1263,1266,1269,1272,1275,1278,1288,1298,1300,1303,1306,1309,1312,1315,1318,1321,1324,1327,1330,1333,1336,1339,1342,1345,1348,1351,1354,1357,1360,1363,1366,1369,1372,1375,1378,1381,1384,1387,1390,1393,1419,1431,1434,1437,1440,1443,1446,1449,1452,1455,1458,1461,1464,1467,1470,1473,1476,1527,1530,1533,1536,1539,1542,1545,1548,1657,1659,1661,1663,1665,1667,1669,1671,1673,1675,1677,1679,1681,1683,1685,1687,1689,1691,1693,1694,1696,1698,1700,1702,1704,1706,1708,2052,2054,2055,2057,2058,2060,2061,2063,2064,2066,2067,2069,2070,2072,2073,2075,2076,2077,2078,2079,2080,2081,2082,2083) have mixed types. Specify dtype option on import or set low_memory=False.\n",
      "  interactivity=interactivity, compiler=compiler, result=result)\n"
     ]
    }
   ],
   "source": [
    "train_num3 = pd.read_csv(r\"train_categorical.csv\",nrows=1500)"
   ]
  },
  {
   "cell_type": "code",
   "execution_count": 93,
   "metadata": {
    "collapsed": false,
    "scrolled": true
   },
   "outputs": [
    {
     "data": {
      "text/html": [
       "<div>\n",
       "<table border=\"1\" class=\"dataframe\">\n",
       "  <thead>\n",
       "    <tr style=\"text-align: right;\">\n",
       "      <th></th>\n",
       "      <th>Id</th>\n",
       "      <th>L0_S1_F25</th>\n",
       "      <th>L0_S1_F27</th>\n",
       "      <th>L0_S1_F29</th>\n",
       "      <th>L0_S1_F31</th>\n",
       "      <th>L0_S2_F33</th>\n",
       "      <th>L0_S2_F35</th>\n",
       "      <th>L0_S2_F37</th>\n",
       "      <th>L0_S2_F39</th>\n",
       "      <th>L0_S2_F41</th>\n",
       "      <th>...</th>\n",
       "      <th>L3_S49_F4225</th>\n",
       "      <th>L3_S49_F4227</th>\n",
       "      <th>L3_S49_F4229</th>\n",
       "      <th>L3_S49_F4230</th>\n",
       "      <th>L3_S49_F4232</th>\n",
       "      <th>L3_S49_F4234</th>\n",
       "      <th>L3_S49_F4235</th>\n",
       "      <th>L3_S49_F4237</th>\n",
       "      <th>L3_S49_F4239</th>\n",
       "      <th>L3_S49_F4240</th>\n",
       "    </tr>\n",
       "  </thead>\n",
       "  <tbody>\n",
       "  </tbody>\n",
       "</table>\n",
       "<p>0 rows × 2141 columns</p>\n",
       "</div>"
      ],
      "text/plain": [
       "Empty DataFrame\n",
       "Columns: [Id, L0_S1_F25, L0_S1_F27, L0_S1_F29, L0_S1_F31, L0_S2_F33, L0_S2_F35, L0_S2_F37, L0_S2_F39, L0_S2_F41, L0_S2_F43, L0_S2_F45, L0_S2_F47, L0_S2_F49, L0_S2_F51, L0_S2_F53, L0_S2_F55, L0_S2_F57, L0_S2_F59, L0_S2_F61, L0_S2_F63, L0_S2_F65, L0_S2_F67, L0_S3_F69, L0_S3_F71, L0_S3_F73, L0_S3_F75, L0_S3_F77, L0_S3_F79, L0_S3_F81, L0_S3_F83, L0_S3_F85, L0_S3_F87, L0_S3_F89, L0_S3_F91, L0_S3_F93, L0_S3_F95, L0_S3_F97, L0_S3_F99, L0_S3_F101, L0_S3_F103, L0_S4_F105, L0_S4_F107, L0_S4_F108, L0_S4_F110, L0_S4_F112, L0_S4_F113, L0_S6_F119, L0_S6_F121, L0_S6_F123, L0_S6_F125, L0_S6_F126, L0_S6_F128, L0_S6_F129, L0_S6_F131, L0_S6_F133, L0_S6_F135, L0_S9_F151, L0_S9_F153, L0_S9_F154, L0_S9_F156, L0_S9_F158, L0_S9_F159, L0_S9_F161, L0_S9_F163, L0_S9_F164, L0_S9_F166, L0_S9_F168, L0_S9_F169, L0_S9_F171, L0_S9_F173, L0_S9_F174, L0_S9_F176, L0_S9_F178, L0_S9_F179, L0_S9_F181, L0_S9_F183, L0_S9_F184, L0_S9_F186, L0_S9_F188, L0_S9_F189, L0_S9_F191, L0_S9_F193, L0_S9_F194, L0_S9_F196, L0_S9_F198, L0_S9_F199, L0_S9_F201, L0_S9_F203, L0_S9_F204, L0_S9_F206, L0_S9_F208, L0_S9_F209, L0_S9_F211, L0_S9_F213, L0_S9_F214, L0_S10_F215, L0_S10_F217, L0_S10_F218, L0_S10_F220, ...]\n",
       "Index: []\n",
       "\n",
       "[0 rows x 2141 columns]"
      ]
     },
     "execution_count": 93,
     "metadata": {},
     "output_type": "execute_result"
    }
   ],
   "source": [
    "train_num3[train_num3.L0_S2_F39.notnull()]"
   ]
  },
  {
   "cell_type": "code",
   "execution_count": null,
   "metadata": {
    "collapsed": true
   },
   "outputs": [],
   "source": []
  }
 ],
 "metadata": {
  "anaconda-cloud": {},
  "kernelspec": {
   "display_name": "Python [Root]",
   "language": "python",
   "name": "Python [Root]"
  },
  "language_info": {
   "codemirror_mode": {
    "name": "ipython",
    "version": 2
   },
   "file_extension": ".py",
   "mimetype": "text/x-python",
   "name": "python",
   "nbconvert_exporter": "python",
   "pygments_lexer": "ipython2",
   "version": "2.7.12"
  }
 },
 "nbformat": 4,
 "nbformat_minor": 0
}
