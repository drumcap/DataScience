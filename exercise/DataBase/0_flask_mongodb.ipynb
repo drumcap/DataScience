{
 "cells": [
  {
   "cell_type": "code",
   "execution_count": 1,
   "metadata": {
    "collapsed": false
   },
   "outputs": [
    {
     "ename": "SystemExit",
     "evalue": "1",
     "output_type": "error",
     "traceback": [
      "An exception has occurred, use %tb to see the full traceback.\n",
      "\u001b[1;31mSystemExit\u001b[0m\u001b[1;31m:\u001b[0m 1\n"
     ]
    },
    {
     "name": "stderr",
     "output_type": "stream",
     "text": [
      "To exit: use 'exit', 'quit', or Ctrl-D.\n"
     ]
    }
   ],
   "source": [
    "from flask import Flask, jsonify\n",
    "\n",
    "app = Flask(__name__)\n",
    "\n",
    "@app.route(\"/\")\n",
    "def hello_world():\n",
    "    return  'Hello, World!'\n",
    "\n",
    "@app.route(\"/test\")\n",
    "def hello_json():\n",
    "    data = {'name':'alex', 'age' : 30}\n",
    "    return jsonify(data)\n",
    "\n",
    "if __name__ == \"__main__\":\n",
    "    app.run(debug = True, host = '0.0.0.0')"
   ]
  },
  {
   "cell_type": "code",
   "execution_count": 7,
   "metadata": {
    "collapsed": false
   },
   "outputs": [
    {
     "name": "stdout",
     "output_type": "stream",
     "text": [
      "{u'age': 30, u'name': u'alex'}\n"
     ]
    }
   ],
   "source": [
    "import requests\n",
    "import json\n",
    "\n",
    "res = requests.get(\"http://ec2-54-213-224-243.us-west-2.compute.amazonaws.com:5000/test\")\n",
    "content =json.loads(res.content)\n",
    "print content"
   ]
  },
  {
   "cell_type": "code",
   "execution_count": 3,
   "metadata": {
    "collapsed": false
   },
   "outputs": [
    {
     "name": "stdout",
     "output_type": "stream",
     "text": [
      "{u'gender': u'M', u'age': 30.0, u'_id': ObjectId('582ef58bd55df5dbfd6328fa'), u'name': u'alex', u'regdate': datetime.datetime(2016, 11, 18, 12, 35, 23, 360000)}\n"
     ]
    }
   ],
   "source": [
    "from pymongo import MongoClient\n",
    "from exer_connection_db import mongo_account\n",
    "\n",
    "mongo = MongoClient('ec2-54-213-224-243.us-west-2.compute.amazonaws.com', 27017)\n",
    "\n",
    "mongo.the_database.authenticate(mongo_account['id'], mongo_account['pw'], source='test')\n",
    "person = mongo.test.person\n",
    "\n",
    "result = person.find_one({'name': 'alex'})\n",
    "print result"
   ]
  },
  {
   "cell_type": "code",
   "execution_count": 13,
   "metadata": {
    "collapsed": true
   },
   "outputs": [],
   "source": [
    "print '1'"
   ]
  },
  {
   "cell_type": "code",
   "execution_count": null,
   "metadata": {
    "collapsed": true
   },
   "outputs": [],
   "source": []
  }
 ],
 "metadata": {
  "anaconda-cloud": {},
  "kernelspec": {
   "display_name": "Python [Root]",
   "language": "python",
   "name": "Python [Root]"
  },
  "language_info": {
   "codemirror_mode": {
    "name": "ipython",
    "version": 2
   },
   "file_extension": ".py",
   "mimetype": "text/x-python",
   "name": "python",
   "nbconvert_exporter": "python",
   "pygments_lexer": "ipython2",
   "version": "2.7.12"
  }
 },
 "nbformat": 4,
 "nbformat_minor": 0
}
