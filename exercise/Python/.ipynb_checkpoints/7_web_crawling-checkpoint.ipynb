{
 "cells": [
  {
   "cell_type": "code",
   "execution_count": 8,
   "metadata": {
    "collapsed": false
   },
   "outputs": [
    {
     "name": "stdout",
     "output_type": "stream",
     "text": [
      "200\n",
      "['__doc__', '__init__', '__iter__', '__module__', '__repr__', 'close', 'code', 'fileno', 'fp', 'getcode', 'geturl', 'headers', 'info', 'next', 'read', 'readline', 'readlines', 'url']\n",
      "<type 'str'>\n"
     ]
    }
   ],
   "source": [
    "import urllib\n",
    "res = urllib.urlopen(\"http://www.naver.com\")\n",
    "print res.code\n",
    "print dir(res)\n",
    "data = res.read()\n",
    "#print data\n",
    "print type(data)"
   ]
  },
  {
   "cell_type": "code",
   "execution_count": 11,
   "metadata": {
    "collapsed": false
   },
   "outputs": [
    {
     "name": "stdout",
     "output_type": "stream",
     "text": [
      "['__attrs__', '__bool__', '__class__', '__delattr__', '__dict__', '__doc__', '__format__', '__getattribute__', '__getstate__', '__hash__', '__init__', '__iter__', '__module__', '__new__', '__nonzero__', '__reduce__', '__reduce_ex__', '__repr__', '__setattr__', '__setstate__', '__sizeof__', '__str__', '__subclasshook__', '__weakref__', '_content', '_content_consumed', 'apparent_encoding', 'close', 'connection', 'content', 'cookies', 'elapsed', 'encoding', 'headers', 'history', 'is_permanent_redirect', 'is_redirect', 'iter_content', 'iter_lines', 'json', 'links', 'ok', 'raise_for_status', 'raw', 'reason', 'request', 'status_code', 'text', 'url']\n"
     ]
    }
   ],
   "source": [
    "import requests\n",
    "res = requests.get(\"http://www.naver.com\")\n",
    "print dir(res)\n",
    "#print res.text"
   ]
  },
  {
   "cell_type": "code",
   "execution_count": 18,
   "metadata": {
    "collapsed": false
   },
   "outputs": [
    {
     "name": "stdout",
     "output_type": "stream",
     "text": [
      "{u'status': u'OK', u'results': [{u'geometry': {u'location': {u'lat': 37.4846743, u'lng': 127.0298918}, u'viewport': {u'northeast': {u'lat': 37.4935278, u'lng': 127.0458992}, u'southwest': {u'lat': 37.4758197, u'lng': 127.0138844}}, u'location_type': u'ROOFTOP'}, u'address_components': [{u'long_name': u'6', u'types': [u'political', u'premise'], u'short_name': u'6'}, {u'long_name': u'Seoun-ro', u'types': [u'political', u'sublocality', u'sublocality_level_4'], u'short_name': u'Seoun-ro'}, {u'long_name': u'Seocho-gu', u'types': [u'political', u'sublocality', u'sublocality_level_1'], u'short_name': u'Seocho-gu'}, {u'long_name': u'Seoul', u'types': [u'locality', u'political'], u'short_name': u'Seoul'}, {u'long_name': u'South Korea', u'types': [u'country', u'political'], u'short_name': u'KR'}, {u'long_name': u'137-070', u'types': [u'postal_code'], u'short_name': u'137-070'}], u'place_id': u'ChIJsfWiekihfDURQfCAeJRBHeo', u'formatted_address': u'6 Seoun-ro, Seocho-gu, Seoul, South Korea', u'types': [u'political', u'premise']}]}\n",
      "OK\n",
      "<type 'dict'>\n"
     ]
    }
   ],
   "source": [
    "import json\n",
    "\n",
    "api_end_point = 'https://maps.googleapis.com/maps/api/geocode/json?address=서울특별시 서초구 서운로 6&key=' + api_key\n",
    "\n",
    "res = requests.get(api_end_point)\n",
    "data = json.loads(res.text)\n",
    "print data\n",
    "print data['status']\n",
    "print type(data)"
   ]
  },
  {
   "cell_type": "code",
   "execution_count": 20,
   "metadata": {
    "collapsed": false
   },
   "outputs": [
    {
     "name": "stdout",
     "output_type": "stream",
     "text": [
      "<type 'unicode'>\n"
     ]
    },
    {
     "ename": "TypeError",
     "evalue": "string indices must be integers",
     "output_type": "error",
     "traceback": [
      "\u001b[1;31m---------------------------------------------------------------------------\u001b[0m",
      "\u001b[1;31mTypeError\u001b[0m                                 Traceback (most recent call last)",
      "\u001b[1;32m<ipython-input-20-87362520e045>\u001b[0m in \u001b[0;36m<module>\u001b[1;34m()\u001b[0m\n\u001b[0;32m      5\u001b[0m \u001b[0mdata\u001b[0m \u001b[1;33m=\u001b[0m \u001b[0mres\u001b[0m\u001b[1;33m.\u001b[0m\u001b[0mtext\u001b[0m\u001b[1;33m\u001b[0m\u001b[0m\n\u001b[0;32m      6\u001b[0m \u001b[1;32mprint\u001b[0m \u001b[0mtype\u001b[0m\u001b[1;33m(\u001b[0m\u001b[0mdata\u001b[0m\u001b[1;33m)\u001b[0m\u001b[1;33m\u001b[0m\u001b[0m\n\u001b[1;32m----> 7\u001b[1;33m \u001b[1;32mprint\u001b[0m \u001b[0mdata\u001b[0m\u001b[1;33m[\u001b[0m\u001b[1;34m\"status\"\u001b[0m\u001b[1;33m]\u001b[0m\u001b[1;33m\u001b[0m\u001b[0m\n\u001b[0m",
      "\u001b[1;31mTypeError\u001b[0m: string indices must be integers"
     ]
    }
   ],
   "source": [
    "api_end_point = 'https://maps.googleapis.com/maps/api/geocode/json?address=서울특별시 서초구 서운로 6&key=' + api_key\n",
    "\n",
    "res = requests.get(api_end_point)\n",
    "data = res.text\n",
    "print type(data)\n",
    "#print data[\"status\"]"
   ]
  },
  {
   "cell_type": "code",
   "execution_count": 31,
   "metadata": {
    "collapsed": false
   },
   "outputs": [
    {
     "name": "stdout",
     "output_type": "stream",
     "text": [
      "{u'lat': 37.5370192, u'lng': 126.8735297}\n"
     ]
    }
   ],
   "source": [
    "import requests\n",
    "import json\n",
    "\n",
    "api_end_point = 'https://maps.googleapis.com/maps/api/geocode/json?address=서울특별시 양천구 목동 현대월드타워&key=' + api_key\n",
    "\n",
    "res = requests.get(api_end_point)\n",
    "data = json.loads(res.text)\n",
    "print data['results'][0]['geometry']['location']\n"
   ]
  },
  {
   "cell_type": "code",
   "execution_count": 4,
   "metadata": {
    "collapsed": false
   },
   "outputs": [
    {
     "name": "stdout",
     "output_type": "stream",
     "text": [
      "中, 단둥 무역회사 10여곳 대표 체포..독자제재 시작했나 | Daum 뉴스\n",
      "<h3 class=\"tit_view\">中, 단둥 무역회사 10여곳 대표 체포..독자제재 시작했나</h3>\n",
      "(선양=연합뉴스) 홍창진 특파원 = 북한의 핵프로그램 개발 관련 물자를 제공한 의혹이 공개된 훙샹(鴻祥)산업개발공사 외에 중국 단둥(丹東)의 무역회사 10여 사 대표들이 무더기 체포된 것으로 전해졌다.21일 북중접경 소식통들에 따르면 중국 공안이 무역과정에서 불법거래 등 중대한 경제범죄를 저지른 혐의로 지난 8월 초 단둥에서 활동하는 무역회사 대표 10여 명을 체포해 조사 중이다.접경지역의 한 소식통은 \"조사중이라는 사실을 중국 당국이 확인해준 훙샹그룹 외에도 최소한 7~8개 기업이 조사를 받고 있다\"며 \"공안이 지난달 초 이미 이들을 체포해 엄중하게 조사하고 있다\"고 전했다.소식통들은 이들과 별도로 훙샹산업개발공사 모회사인 랴오닝(遼寧)훙샹그룹의 마샤오훙(馬曉紅·45) 총재도 최근 체포됐다고 확인했다.공안 당국이 이들의 구체적인 범죄혐의를 적시하지 않고 있으나 중국의 독자적인 대북 제재에 시동이 걸렸다고 볼 수 있다는 것이 소식통들의 일치된 견해다. 훙샹의 경우 미국 측이 범죄사실을 중국측에 알리는 등 양국 공조 성격이 있지만 이와 별도로 적발된 10여곳은 대북 불법거래 기업에 대한 중국 당국의 선제적·독자적 제재 성격이라는 설명이다.한 소식통은 \"일부 기업은 달러 등 다량의 외환을 밀반출한 혐의도 받는 것으로 안다\"고 말했다.  또다른 소식통은 \"최근 단둥해관에서 웅담 40개를 밀수하려던 북한 사람이 적발되거나 복대에 미화를 감추고 접경을 오가던 남성이 체포되는 등 중국 당국 제재가 엄격해졌다\"면서 \"과거 눈감아주던 일들을 원칙대로 처리하고 있다\"고 말했다.소식통들은 이들 불법 대북교역행위를 한 기업에 대한 처리 수준은 매우 높을 것으로 보인다고 전했다.한 소식통은 \"중국이 북한의 거듭된 핵실험을 용인한다는 국제사회 시각을 잠재우기 위해서라도 핵실험 연계 기업들에 대해 중징계가 불가피할 것\"이라고 예상했다. realism@yna.co.kr<저작권자(c) 연합뉴스, 무단 전재-재배포 금지>\n",
      "[한겨레] 출고가 89만9800원으로 결정 전작 V10보다 10만원이나 올려 스마트폰사업 적자 감축 고민 삼성-애플 빈 공간 파고들지 관심 경쟁작의 빈틈을 노린 베팅인가.삼성전자 갤럭시노트7의 리콜이 스마트폰 시장 판도에 미칠 영향이 주목되는 가운데, 엘지(LG)전자가 새 프리미엄 스마트폰 V20의 가격을 ‘예상’보다 높게 책정해 눈길을 끌고 있다. 시장 석권을 노리던 갤럭시노트7이 주춤한 사이 반사이익을 누리려는 노림수가 있다는 분석과, 다소 낙관적인 가격 전략이라는 관전평이 동시에 나온다.엘지전자는 29일부터 판매하는 V20의 출고가를 89만9800원으로 책정했다고 20일 밝혔다. 같은 대화면 ‘패블릿’ 스마트폰인 갤럭시노트7(98만8900원)보다는 낮지만, 전작인 V10(79만9700원)에 견줘 10만원 뛰었다. 최근 나온 애플 아이폰7 시리즈가 70만~80만원대인 것을 고려하면 V20가 몸값을 높게 불렀다는 평가가 더 무게를 얻을 법하다.  업계에서는 특히 아이폰7이 국내에 상륙하지 않은 가운데 갤럭시노트7이 고전하는 상황을 파고든 것 아니냐는 관측도 나온다. 상반기에 출시된 엘지전자 프리미엄폰 G5의 실패까지 떠올리면 ‘베팅’의 측면이 강하다고 보는 것이다.그런데 엘지전자 주가는 이날 1.6% 떨어진 4만9200원으로 마감했다. 노근창 에이치엠씨(HMC)투자증권 리서치센터장은 “V20 출고가가 높지 않으냐는 우려가 주가에 영향을 준 것으로 보인다. 엘지전자의 실적은 스마트폰을 담당하는 엠시(MC)사업본부가 좋아져야 올라가는데, V20이 출시됐어도 3분기까지는 어려울 것으로 전망한다”고 말했다. 엘지전자는 2분기에 엠시사업본부에서 1535억원의 적자를 봤다.엘지전자는 성능에 걸맞은 합리적인 가격이라고 설명한다. 엘지전자 관계자는 “홍채인식을 빼고는 V20의 성능은 경쟁사 제품보다 떨어지지 않는다. 또 파격적인 프로모션을 걸었기 때문에 소비자들 호응이 있으리라 생각한다”고 말했다. 10월31일까지 구매하면 블루투스 이어폰 ‘엘지 톤플러스(HBS-900)’와 ‘엘지 블루투스 스피커(PH1)’, 배터리팩을 묶은 정가 20만7천원어치 ‘사운드 패키지’를 5천원에 살 수 있어 출고가 하나만 볼 것은 아니라는 설명이다. 또 제휴 신한카드로 사면 환급과 요금할인으로 최대 46만원을 할인받을 수 있다고 밝혔다.할인혜택을 내걸었지만 엘지전자의 고민은 사실 복잡하다. 엘지전자 사정을 잘 아는 업계 관계자는 “경쟁사(삼성전자)는 판매 목표가 천만대 단위다. 엘지는 그에 못 미친다. 그동안 투입된 개발비를 뽑으려면 가격을 높일 수밖에 없다”고 했다. 그러나 업계 일각에서는 단기 경영실적보다 스마트폰 시장 실지 회복을 중시한다면 가격을 더 낮춰 수요를 끌어올리는 게 낫지 않으냐는 분석도 나온다.한편 갤럭시노트7의 배터리 문제가 불거진 뒤 구형 갤럭시노트를 찾는 이들이 늘어난 것으로 집계되고 있다. 휴대전화 유통 전문업체인 착한텔레콤은 지난달 중고 휴대전화 쇼핑몰인 세컨폰과 오픈마켓, 소셜코머스, 번개장터, 다이소 휴대폰자판기 등을 통해 접수된 1529건의 중고 휴대전화 주문 내역을 분석했더니 갤럭시노트4가 21.2%로 가장 많은 것으로 집계됐다고 밝혔다. 성능이 검증된데다 출시된 지 15개월이 지나 단말기유통법의 지원금 상한을 적용받지 않고, 재고 소진 필요로 이동통신사들이 지원금을 듬뿍 주기 때문으로 풀이된다.이완 김재섭 기자 wani@hani.co.kr\n"
     ]
    }
   ],
   "source": [
    "import requests\n",
    "from bs4 import BeautifulSoup\n",
    "\n",
    "def get_news_title(url):\n",
    "    response = requests.get(url)\n",
    "    content = response.text\n",
    "    \n",
    "    soup = BeautifulSoup(content)\n",
    "    title = soup.title.get_text()\n",
    "    \n",
    "    return title\n",
    "\n",
    "def get_news_title2(url):\n",
    "    response = requests.get(url)\n",
    "    content = response.text\n",
    "    \n",
    "    soup = BeautifulSoup(content)\n",
    "    title = soup.find('h3', attrs = {'class' : 'tit_view'})\n",
    "    \n",
    "    return title\n",
    "\n",
    "def get_news_content(url):\n",
    "    response = requests.get(url)\n",
    "    content = response.text\n",
    "    \n",
    "    soup = BeautifulSoup(content)\n",
    "    div = soup.find('div', attrs = {'id' : 'harmonyContainer'})\n",
    "    \n",
    "    cont = ''\n",
    "    for paragraph in div.find_all('p'):\n",
    "        cont += paragraph.get_text()\n",
    "        \n",
    "    return cont.encode('utf-8')\n",
    "\n",
    "title1 = get_news_title('http://media.daum.net/foreign/newsview?newsid=20160921114543616')\n",
    "title2 = get_news_title2('http://media.daum.net/foreign/newsview?newsid=20160921114543616')\n",
    "news1 = get_news_content('http://media.daum.net/foreign/newsview?newsid=20160921114543616')\n",
    "news2 = get_news_content('http://media.daum.net/digital/newsview?newsid=20160920180606199')    \n",
    "\n",
    "\n",
    "print title1\n",
    "print title2\n",
    "print news1\n",
    "print news2\n"
   ]
  },
  {
   "cell_type": "code",
   "execution_count": 45,
   "metadata": {
    "collapsed": false
   },
   "outputs": [
    {
     "name": "stdout",
     "output_type": "stream",
     "text": [
      "유해진 \n",
      "이준 \n",
      "조윤희 \n",
      "임지연 \n",
      "이동휘 \n",
      "전혜빈 \n",
      "이용녀 \n"
     ]
    }
   ],
   "source": [
    "import requests\n",
    "from bs4 import BeautifulSoup\n",
    "\n",
    "data1 = {}\n",
    "data1['section'] = 'actor'\n",
    "data1['period_start'] = '2016-10'\n",
    "data1['gender'] = 'all'\n",
    "data1['page'] = '1'\n",
    "\n",
    "response = requests.post(\"http://www.cine21.com/rank/person/content\", data = data1)\n",
    "contents = response.text\n",
    "soup = BeautifulSoup(contents)\n",
    "\n",
    "for person in soup.find_all('div', attrs = {'class' : 'name'}):\n",
    "    print re.sub(r'\\(.+\\)', ' ' ,person.get_text())"
   ]
  },
  {
   "cell_type": "code",
   "execution_count": 94,
   "metadata": {
    "collapsed": false
   },
   "outputs": [
    {
     "name": "stdout",
     "output_type": "stream",
     "text": [
      "혁신 없다지만.. 아이폰7엔 네 가지가 있었다\n"
     ]
    }
   ],
   "source": [
    "import requests\n",
    "from bs4 import BeautifulSoup\n",
    "\n",
    "def get_news_title3(url):\n",
    "    response = requests.get(url)\n",
    "    soup = BeautifulSoup(response.content)\n",
    "    \n",
    "    title = soup.find(lambda x : x.name =='h3')\n",
    "    \n",
    "    return title.get_text()\n",
    "\n",
    "print get_news_title3('http://media.daum.net/digital/newsview?newsid=20160929044237479#alex-area')"
   ]
  },
  {
   "cell_type": "code",
   "execution_count": 1,
   "metadata": {
    "collapsed": false
   },
   "outputs": [
    {
     "name": "stdout",
     "output_type": "stream",
     "text": [
      "최창엽\n",
      "류재영\n",
      "연금복권\n",
      "엘시티\n",
      "2016 아시아 아티스트 어워즈\n",
      "수목드라마\n",
      "박근혜 길라임\n",
      "푸른 바다의 전설\n",
      "여자의 비밀\n",
      "jtbc 뉴스룸\n",
      "최창엽\n"
     ]
    },
    {
     "name": "stderr",
     "output_type": "stream",
     "text": [
      "C:\\Users\\alexmoon\\Anaconda2\\lib\\site-packages\\bs4\\__init__.py:166: UserWarning: No parser was explicitly specified, so I'm using the best available HTML parser for this system (\"lxml\"). This usually isn't a problem, but if you run this code on another system, or in a different virtual environment, it may use a different parser and behave differently.\n",
      "\n",
      "To get rid of this warning, change this:\n",
      "\n",
      " BeautifulSoup([your markup])\n",
      "\n",
      "to this:\n",
      "\n",
      " BeautifulSoup([your markup], \"lxml\")\n",
      "\n",
      "  markup_type=markup_type))\n"
     ]
    }
   ],
   "source": [
    "import requests \n",
    "from bs4 import BeautifulSoup\n",
    "import re\n",
    "\n",
    "response = requests.get(\"http://www.naver.com\")\n",
    "soup = BeautifulSoup(response.content)\n",
    "\n",
    "ranklist = soup.find('ol', attrs = {'id' : 'realrank'})\n",
    "for li in ranklist.find_all('li'):\n",
    "    print li.a['title']"
   ]
  },
  {
   "cell_type": "code",
   "execution_count": 18,
   "metadata": {
    "collapsed": false
   },
   "outputs": [
    {
     "name": "stdout",
     "output_type": "stream",
     "text": [
      "1\n",
      "3\n"
     ]
    }
   ],
   "source": [
    "import time\n",
    "print '1'\n",
    "time.sleep(3)\n",
    "print '3'"
   ]
  },
  {
   "cell_type": "code",
   "execution_count": 22,
   "metadata": {
    "collapsed": false
   },
   "outputs": [],
   "source": [
    "from selenium import webdriver\n",
    "from selenium.webdriver.common.keys import Keys\n",
    "\n",
    "chromedriver = './chromedriver'\n",
    "driver = webdriver.Chrome(chromedriver)\n",
    "driver.get(\"http://www.python.org\")\n",
    "\n",
    "assert \"Python\" in driver.title\n",
    "elem = driver.find_element_by_name(\"q\")\n",
    "\n",
    "elem.clear()\n",
    "elem.send_keys(\"python\")\n",
    "elem.send_keys(Keys.RETURN)\n",
    "\n",
    "assert \"No result found.\" not in driver.page_source\n",
    "driver.quit()"
   ]
  },
  {
   "cell_type": "code",
   "execution_count": null,
   "metadata": {
    "collapsed": false
   },
   "outputs": [],
   "source": [
    "from selenium import webdriver\n",
    "\n",
    "chormedriver = './chromedriver'\n",
    "driver = webdriver.Chrome(chromedriver)\n",
    "driver.get(\"http://v.media.daum.net/v/20161116200216866\")\n",
    "\n",
    "body = driver.find_element_by_xpath('//div[@class=\"article_view\"]')\n",
    "for p in body.find_elements_by_xpath('//p'):\n",
    "    print p.text\n",
    "driver.quit()"
   ]
  },
  {
   "cell_type": "code",
   "execution_count": null,
   "metadata": {
    "collapsed": true
   },
   "outputs": [],
   "source": []
  }
 ],
 "metadata": {
  "anaconda-cloud": {},
  "kernelspec": {
   "display_name": "Python [Root]",
   "language": "python",
   "name": "Python [Root]"
  }
 },
 "nbformat": 4,
 "nbformat_minor": 0
}
