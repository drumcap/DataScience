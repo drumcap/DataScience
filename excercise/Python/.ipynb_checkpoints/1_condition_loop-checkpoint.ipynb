{
 "cells": [
  {
   "cell_type": "code",
   "execution_count": 1,
   "metadata": {
    "collapsed": false
   },
   "outputs": [
    {
     "name": "stdout",
     "output_type": "stream",
     "text": [
      "hello2\n"
     ]
    }
   ],
   "source": [
    "a=100\n",
    "if a % 9 == 0:\n",
    "    print 'hello'\n",
    "elif a % 9 == 1:\n",
    "    print 'hello2'\n",
    "else:\n",
    "    print 'hello3'"
   ]
  },
  {
   "cell_type": "code",
   "execution_count": 3,
   "metadata": {
    "collapsed": true
   },
   "outputs": [],
   "source": [
    "if []:\n",
    "    print \"he\""
   ]
  },
  {
   "cell_type": "code",
   "execution_count": 4,
   "metadata": {
    "collapsed": false
   },
   "outputs": [
    {
     "name": "stdout",
     "output_type": "stream",
     "text": [
      "he\n"
     ]
    }
   ],
   "source": [
    "a = 0\n",
    "if not a == 1:\n",
    "    print 'he'"
   ]
  },
  {
   "cell_type": "code",
   "execution_count": 6,
   "metadata": {
    "collapsed": false
   },
   "outputs": [
    {
     "name": "stdout",
     "output_type": "stream",
     "text": [
      "1\n",
      "2\n",
      "3\n",
      "4\n"
     ]
    }
   ],
   "source": [
    "count = 1\n",
    "while count < 5:\n",
    "    print count\n",
    "    count += 1"
   ]
  },
  {
   "cell_type": "code",
   "execution_count": 1,
   "metadata": {
    "collapsed": false
   },
   "outputs": [
    {
     "name": "stdout",
     "output_type": "stream",
     "text": [
      "Current variable value :  9\n",
      "Current variable value :  8\n",
      "Current variable value :  7\n",
      "Current variable value :  6\n",
      "Current variable value :  4\n",
      "Current variable value :  3\n",
      "Current variable value :  2\n",
      "Current variable value :  1\n",
      "Current variable value :  0\n"
     ]
    }
   ],
   "source": [
    "var = 10\n",
    "while var > 0:\n",
    "    var -= 1\n",
    "    if var ==5:\n",
    "        continue\n",
    "    print \"Current variable value : \", var\n",
    "    "
   ]
  },
  {
   "cell_type": "code",
   "execution_count": 3,
   "metadata": {
    "collapsed": false
   },
   "outputs": [
    {
     "name": "stdout",
     "output_type": "stream",
     "text": [
      "even\n"
     ]
    }
   ],
   "source": [
    "nums = [1, 4, 3, 5]\n",
    "#nums = [1, 3, 5]\n",
    "position = 0\n",
    "while position < len(nums):\n",
    "    if nums[position] % 2 == 0:\n",
    "        print 'even'\n",
    "        break\n",
    "    position += 1\n",
    "else:\n",
    "    print 'perffect'"
   ]
  },
  {
   "cell_type": "code",
   "execution_count": 4,
   "metadata": {
    "collapsed": false
   },
   "outputs": [
    {
     "name": "stdout",
     "output_type": "stream",
     "text": [
      "1\n",
      "2\n",
      "3\n",
      "4\n",
      "5\n"
     ]
    }
   ],
   "source": [
    "nums=[1, 2, 3, 4, 5]\n",
    "for vari in nums:\n",
    "    print vari"
   ]
  },
  {
   "cell_type": "code",
   "execution_count": 5,
   "metadata": {
    "collapsed": false
   },
   "outputs": [
    {
     "name": "stdout",
     "output_type": "stream",
     "text": [
      "h\n",
      "e\n",
      "l\n",
      "l\n",
      "o\n"
     ]
    }
   ],
   "source": [
    "str = 'hello'\n",
    "for char in str:\n",
    "    print char"
   ]
  },
  {
   "cell_type": "code",
   "execution_count": 12,
   "metadata": {
    "collapsed": false
   },
   "outputs": [
    {
     "name": "stdout",
     "output_type": "stream",
     "text": [
      "japan tokyo\n",
      "korea seoul\n",
      "usa wasington D.C\n",
      "japan\n",
      "korea\n",
      "usa\n",
      "tokyo\n",
      "seoul\n",
      "wasington D.C\n",
      "('japan', 'tokyo')\n",
      "('korea', 'seoul')\n",
      "('usa', 'wasington D.C')\n"
     ]
    }
   ],
   "source": [
    "capitals = {'korea' : 'seoul', 'japan' : 'tokyo', 'usa' : 'wasihngton D.C'}\n",
    "for con in capitals:\n",
    "    print con, capitals[con]\n",
    "for key in capitals.keys():\n",
    "    print key\n",
    "for value in capitals.values():\n",
    "    print value\n",
    "for k in capitals.items():\n",
    "    print k"
   ]
  },
  {
   "cell_type": "code",
   "execution_count": 20,
   "metadata": {
    "collapsed": false
   },
   "outputs": [
    {
     "name": "stdout",
     "output_type": "stream",
     "text": [
      "value at index  0 is 1\n",
      "value at index  1 is 2\n",
      "value at index  2 is 3\n",
      "value at index  3 is 4\n",
      "value at index  4 is 5\n",
      "done\n"
     ]
    }
   ],
   "source": [
    "nums=[1, 2, 3, 4, 5]\n",
    "for i, v in enumerate(nums):\n",
    "    if i > 7:\n",
    "        break\n",
    "    print 'value at index ', i, 'is', v\n",
    "else:\n",
    "    print 'done'"
   ]
  },
  {
   "cell_type": "code",
   "execution_count": 26,
   "metadata": {
    "collapsed": false
   },
   "outputs": [
    {
     "name": "stdout",
     "output_type": "stream",
     "text": [
      "[('japan', 'tokyo'), ('korea', 'seoul'), ('usa', 'washington D.C')]\n",
      "<type 'list'>\n",
      "(1, 4, 7)\n",
      "(2, 5, 8)\n",
      "(3, 6, 9)\n"
     ]
    }
   ],
   "source": [
    "capitals = {'korea' : 'seoul', 'japan' : 'tokyo', 'usa' : 'washington D.C'}\n",
    "countries = capitals.keys()\n",
    "cities = capitals.values()\n",
    "\n",
    "print zip(countries, cities)\n",
    "print type(zip(countries, cities))\n",
    "\n",
    "aa = [1, 2, 3]\n",
    "bb = [4, 5, 6]\n",
    "cc = [7, 8, 9]\n",
    "\n",
    "for a, b, c in zip(aa, bb, cc):\n",
    "    print a, b, c"
   ]
  },
  {
   "cell_type": "code",
   "execution_count": 27,
   "metadata": {
    "collapsed": false
   },
   "outputs": [
    {
     "name": "stdout",
     "output_type": "stream",
     "text": [
      "<type 'list'>\n"
     ]
    }
   ],
   "source": [
    "a= range(3)\n",
    "print type(a)"
   ]
  },
  {
   "cell_type": "code",
   "execution_count": 28,
   "metadata": {
    "collapsed": false
   },
   "outputs": [
    {
     "data": {
      "text/plain": [
       "[1, 3, 5, 7, 9]"
      ]
     },
     "execution_count": 28,
     "metadata": {},
     "output_type": "execute_result"
    }
   ],
   "source": [
    "b = range(1, 10, 2)\n",
    "b"
   ]
  },
  {
   "cell_type": "code",
   "execution_count": 30,
   "metadata": {
    "collapsed": false
   },
   "outputs": [
    {
     "data": {
      "text/plain": [
       "[10, 9, 8, 7, 6, 5, 4, 3, 2, 1, 0, -1]"
      ]
     },
     "execution_count": 30,
     "metadata": {},
     "output_type": "execute_result"
    }
   ],
   "source": [
    "c = range(10, -2, -1)\n",
    "c"
   ]
  },
  {
   "cell_type": "code",
   "execution_count": 31,
   "metadata": {
    "collapsed": false
   },
   "outputs": [
    {
     "name": "stdout",
     "output_type": "stream",
     "text": [
      "[2, 4, 6]\n"
     ]
    }
   ],
   "source": [
    "nums = [1, 2, 3, 4, 5, 6]\n",
    "evennum = []\n",
    "for i in nums:\n",
    "    if i % 2 == 0:\n",
    "        evennum.append(i)\n",
    "print evennum"
   ]
  },
  {
   "cell_type": "code",
   "execution_count": 33,
   "metadata": {
    "collapsed": false
   },
   "outputs": [
    {
     "data": {
      "text/plain": [
       "[2, 4, 6]"
      ]
     },
     "execution_count": 33,
     "metadata": {},
     "output_type": "execute_result"
    }
   ],
   "source": [
    "evennum2 = [i for i in nums if i % 2 == 0]\n",
    "evennum2"
   ]
  },
  {
   "cell_type": "code",
   "execution_count": 34,
   "metadata": {
    "collapsed": false
   },
   "outputs": [
    {
     "data": {
      "text/plain": [
       "[1, 4, 9, 16, 25, 36]"
      ]
     },
     "execution_count": 34,
     "metadata": {},
     "output_type": "execute_result"
    }
   ],
   "source": [
    "nums2 = [i**2 for i in nums]\n",
    "nums2"
   ]
  },
  {
   "cell_type": "code",
   "execution_count": 38,
   "metadata": {
    "collapsed": false
   },
   "outputs": [
    {
     "name": "stdout",
     "output_type": "stream",
     "text": [
      "[1, 2, 3]\n",
      "[1, 4, 9, 8, 10, 12]\n"
     ]
    }
   ],
   "source": [
    "nums3 = [i for i in nums if i < 4]\n",
    "nums4 = [i**2 if i < 4 else i*2 for i in nums]\n",
    "\n",
    "print nums3\n",
    "print nums4"
   ]
  },
  {
   "cell_type": "code",
   "execution_count": 44,
   "metadata": {
    "collapsed": false
   },
   "outputs": [
    {
     "name": "stdout",
     "output_type": "stream",
     "text": [
      "1 1\n",
      "1 2\n",
      "2 1\n",
      "2 2\n",
      "3 1\n",
      "3 2\n"
     ]
    }
   ],
   "source": [
    "rows = range(1, 4)\n",
    "cols = range(1, 3)\n",
    "\n",
    "cells = [(r, c) for r in rows for c in cols]\n",
    "cells\n",
    "for rr, cc in cells:\n",
    "    print rr, cc"
   ]
  },
  {
   "cell_type": "code",
   "execution_count": 46,
   "metadata": {
    "collapsed": false
   },
   "outputs": [
    {
     "data": {
      "text/plain": [
       "{'apple': 5, 'banana': 6, 'chicago': 7, 'do': 2}"
      ]
     },
     "execution_count": 46,
     "metadata": {},
     "output_type": "execute_result"
    }
   ],
   "source": [
    "words = ['apple', 'banana', 'chicago', 'do']\n",
    "words_dict = {w : len(w) for w in words}\n",
    "words_dict"
   ]
  },
  {
   "cell_type": "code",
   "execution_count": null,
   "metadata": {
    "collapsed": true
   },
   "outputs": [],
   "source": []
  }
 ],
 "metadata": {
  "anaconda-cloud": {},
  "kernelspec": {
   "display_name": "Python [Root]",
   "language": "python",
   "name": "Python [Root]"
  },
  "language_info": {
   "codemirror_mode": {
    "name": "ipython",
    "version": 2
   },
   "file_extension": ".py",
   "mimetype": "text/x-python",
   "name": "python",
   "nbconvert_exporter": "python",
   "pygments_lexer": "ipython2",
   "version": "2.7.12"
  }
 },
 "nbformat": 4,
 "nbformat_minor": 0
}
