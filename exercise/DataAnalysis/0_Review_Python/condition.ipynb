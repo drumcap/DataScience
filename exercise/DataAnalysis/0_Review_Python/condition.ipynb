{
 "cells": [
  {
   "cell_type": "code",
   "execution_count": 1,
   "metadata": {
    "collapsed": false
   },
   "outputs": [
    {
     "name": "stdout",
     "output_type": "stream",
     "text": [
      "홀수\n"
     ]
    }
   ],
   "source": [
    "a = 1\n",
    "\n",
    "if a % 2 == 0:\n",
    "    print '짝수'\n",
    "else:\n",
    "    print '홀수'"
   ]
  },
  {
   "cell_type": "code",
   "execution_count": 22,
   "metadata": {
    "collapsed": false
   },
   "outputs": [
    {
     "name": "stdout",
     "output_type": "stream",
     "text": [
      "fail\n",
      "False\n",
      "True\n",
      "True\n",
      "0\n",
      "True\n",
      "False\n",
      "0\n",
      "False\n",
      "True\n"
     ]
    }
   ],
   "source": [
    "b = 90\n",
    "\n",
    "if (b >= 10) & b < 100 & b % 2 == 0:\n",
    "    print '두자리 짝수'\n",
    "else:\n",
    "    print 'fail'\n",
    "    \n",
    "print b < 100 & b % 2 == 0\n",
    "print b < 100\n",
    "print b % 2 == 0\n",
    "print True & 0\n",
    "print True & 0 == 0\n",
    "print b < 100 & 0 == 0\n",
    "print 100 & 0\n",
    "print b < 0\n",
    "print False == 0"
   ]
  },
  {
   "cell_type": "code",
   "execution_count": 14,
   "metadata": {
    "collapsed": false
   },
   "outputs": [
    {
     "name": "stdout",
     "output_type": "stream",
     "text": [
      "a\n"
     ]
    }
   ],
   "source": [
    "if 0 == 0:\n",
    "    print 'a'"
   ]
  },
  {
   "cell_type": "code",
   "execution_count": 16,
   "metadata": {
    "collapsed": false
   },
   "outputs": [
    {
     "name": "stdout",
     "output_type": "stream",
     "text": [
      "b\n"
     ]
    }
   ],
   "source": [
    "if 0:\n",
    "    print 'a'\n",
    "else:\n",
    "    print 'b'"
   ]
  },
  {
   "cell_type": "code",
   "execution_count": null,
   "metadata": {
    "collapsed": true
   },
   "outputs": [],
   "source": []
  }
 ],
 "metadata": {
  "anaconda-cloud": {},
  "kernelspec": {
   "display_name": "Python [Root]",
   "language": "python",
   "name": "Python [Root]"
  },
  "language_info": {
   "codemirror_mode": {
    "name": "ipython",
    "version": 2
   },
   "file_extension": ".py",
   "mimetype": "text/x-python",
   "name": "python",
   "nbconvert_exporter": "python",
   "pygments_lexer": "ipython2",
   "version": "2.7.12"
  }
 },
 "nbformat": 4,
 "nbformat_minor": 0
}
