{
 "cells": [
  {
   "cell_type": "code",
   "execution_count": null,
   "metadata": {
    "collapsed": true
   },
   "outputs": [],
   "source": [
    "from selenium import webdriver #1,2,3,,페이지가 동적 페이지이므로 셀레늄 사용.\n",
    "import datetime, time\n",
    "import requests\n",
    "from bs4 import BeautifulSoup\n",
    "\n",
    "\n",
    "chromedriver = './chromedriver'\n",
    "driver = webdriver.Chrome(chromedriver)\n",
    "driver.get('http://news.naver.com/main/main.nhn?mode=LSD&mid=shm&sid1=105') #네이버 it뉴스 홈페이지\n",
    "#driver.get('http://news.naver.com/main/main.nhn?mode=LSD&mid=shm&sid1=105#&date=2016-10-19 00:00:00&page=1')\n",
    "\n",
    "pagenumlist=[] #클릭시 나타나는 뉴스리스트의 페이지 담기\n",
    "pagenum_1 = driver.find_element_by_css_selector('div#paging').text\n",
    "if len(pagenum_1) > 1:\n",
    "    print \"len > 1\"\n",
    "    pagenumlist.append(\"1\")\n",
    "    pagenum = driver.find_elements_by_css_selector('a._paging')\n",
    "    for pagenumcount in pagenum:\n",
    "        pagenumlist.append(pagenumcount.text) #page가 여러 개일 경우\n",
    "else:\n",
    "    pagenumlist.append(pagenum_1) #page가 1밖에 없는 경우\n",
    "\n",
    "print pagenum_1\n",
    "\n",
    "hreflist=[] #각각 뉴스 링크 담기\n",
    "\n",
    "for i in range(len(pagenumlist)):\n",
    "    if i>0: #첫 페이지에서는 페이지 안넘기고 그대로 크롤링.\n",
    "        link_page = driver.find_elements_by_css_selector('a._paging')\n",
    "        link_page[i-1].click() #페이지 넘기기\n",
    "        time.sleep(0.5) #넘기고 로드하는 시간 부여\n",
    "    print pagenumlist[i]\n",
    "    body = driver.find_element_by_id('section_body')\n",
    "    a_body= body.find_elements_by_tag_name('a')\n",
    "    for alist in a_body:\n",
    "        #hreflist.append(alist.get_attribute(\"href\"))\n",
    "\n",
    "        if(alist.get_attribute(\"href\").split('?')[1].split('=')[0] == 'mode'): #기사링크를 제외한 나머지 링크 불포함\n",
    "            hreflist.append(alist.get_attribute(\"href\"))# 뉴스 링크만 수집\n",
    "\n",
    "print hreflist\n",
    "driver.quit()\n",
    "\n",
    "titlelist=[] #뉴스제목리스트\n",
    "contentslist=[] #뉴스내용리스트\n",
    "\n",
    "for link in hreflist:\n",
    "    res = requests.get(link)\n",
    "    soup = BeautifulSoup(res.text)\n",
    "    tbody = soup.find(\"h3\", attrs = {'id' : 'articleTitle'}) #뉴스제목탐색\n",
    "    titlelist.append(tbody.text)\n",
    "    cbody = soup.find(\"div\", attrs = {'id' : 'articleBodyContents'}) #뉴스내용탐색\n",
    "    contentslist.append(cbody.text)\n",
    "    break\n",
    "print titlelist[0]\n",
    "    \n",
    "\n"
   ]
  },
  {
   "cell_type": "code",
   "execution_count": null,
   "metadata": {
    "collapsed": false
   },
   "outputs": [],
   "source": [
    "import requests\n",
    "from bs4 import BeautifulSoup\n",
    "\n",
    "\n",
    "def news_crawler(url):\n",
    "    news_url_list = []\n",
    "    page_num = 1\n",
    "\n",
    "    while True:\n",
    "        response = requests.post('{}&mid=sec&mode=LSD&date=20161124&page={}'.format(url, page_num)) #itnews crawling\n",
    "        soup = BeautifulSoup(response.content)\n",
    "\n",
    "        links = soup.find_all('a', attrs={'class' : 'nclicks(fls.list)'}) # news links\n",
    "        temp_length = len(news_url_list) # for stop [while]\n",
    "\n",
    "        for link in links:\n",
    "            if not link.attrs['href'] in news_url_list:\n",
    "                news_url_list.append(link.attrs['href'])\n",
    "\n",
    "        if temp_length == len(link_list):\n",
    "            break # for stop [while]\n",
    "\n",
    "        else:\n",
    "            page_num += 1\n",
    "    \n",
    "    return len(link_list)\n",
    "\n",
    "naver_itnews = 'http://news.naver.com/main/list.nhn?sid1=105'\n",
    "print news_crawler(naver_itnews)\n"
   ]
  },
  {
   "cell_type": "code",
   "execution_count": null,
   "metadata": {
    "collapsed": true
   },
   "outputs": [],
   "source": [
    "print 1"
   ]
  },
  {
   "cell_type": "code",
   "execution_count": null,
   "metadata": {
    "collapsed": true
   },
   "outputs": [],
   "source": []
  }
 ],
 "metadata": {
  "anaconda-cloud": {},
  "kernelspec": {
   "display_name": "Python [Root]",
   "language": "python",
   "name": "Python [Root]"
  },
  "language_info": {
   "codemirror_mode": {
    "name": "ipython",
    "version": 2
   },
   "file_extension": ".py",
   "mimetype": "text/x-python",
   "name": "python",
   "nbconvert_exporter": "python",
   "pygments_lexer": "ipython2",
   "version": "2.7.12"
  }
 },
 "nbformat": 4,
 "nbformat_minor": 0
}
