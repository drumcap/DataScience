{
 "cells": [
  {
   "cell_type": "code",
   "execution_count": 24,
   "metadata": {
    "collapsed": false
   },
   "outputs": [],
   "source": [
    "a = range(100)"
   ]
  },
  {
   "cell_type": "code",
   "execution_count": 68,
   "metadata": {
    "collapsed": false,
    "scrolled": false
   },
   "outputs": [
    {
     "name": "stdout",
     "output_type": "stream",
     "text": [
      "0\n",
      "1\n",
      "4\n",
      "9\n",
      "16\n",
      "25\n",
      "36\n",
      "49\n",
      "64\n",
      "81\n",
      "100\n",
      "121\n",
      "144\n",
      "169\n",
      "196\n",
      "225\n",
      "256\n",
      "289\n",
      "324\n",
      "361\n"
     ]
    }
   ],
   "source": [
    "a = [i**2 for i in range(20)]\n",
    "for i in a:\n",
    "    print i"
   ]
  },
  {
   "cell_type": "code",
   "execution_count": 70,
   "metadata": {
    "collapsed": false
   },
   "outputs": [
    {
     "name": "stdout",
     "output_type": "stream",
     "text": [
      "<listiterator object at 0x00000000043FB5F8>\n",
      "1\n",
      "2\n"
     ]
    }
   ],
   "source": [
    "a = range(1, 6)\n",
    "it = iter(a)\n",
    "print it\n",
    "print it.next()\n",
    "print next(it)"
   ]
  },
  {
   "cell_type": "code",
   "execution_count": 73,
   "metadata": {
    "collapsed": false
   },
   "outputs": [
    {
     "name": "stdout",
     "output_type": "stream",
     "text": [
      "<generator object <genexpr> at 0x00000000043FFE58>\n",
      "0\n",
      "1\n",
      "4\n",
      "9\n",
      "16\n",
      "1\n",
      "1\n"
     ]
    }
   ],
   "source": [
    "a = (i**2 for i in range(10))\n",
    "print a\n",
    "itt = a\n",
    "print a.next()\n",
    "print a.next()\n",
    "print a.next()\n",
    "print a.next()\n",
    "print a.next()\n",
    "\"\"\"\n",
    "for i in a:\n",
    "    print i\n",
    "for i in a:\n",
    "    print i\n",
    "\"\"\"\n",
    "\n",
    "def generator_f():\n",
    "    yield 1\n",
    "    yield 2\n",
    "    yield 3\n",
    "    \n",
    "print generator_f().next()\n",
    "print generator_f().next()\n"
   ]
  },
  {
   "cell_type": "code",
   "execution_count": 28,
   "metadata": {
    "collapsed": false
   },
   "outputs": [
    {
     "data": {
      "text/plain": [
       "xrange(10)"
      ]
     },
     "execution_count": 28,
     "metadata": {},
     "output_type": "execute_result"
    }
   ],
   "source": [
    "a = xrange(10)\n",
    "a"
   ]
  },
  {
   "cell_type": "code",
   "execution_count": 29,
   "metadata": {
    "collapsed": false
   },
   "outputs": [
    {
     "name": "stdout",
     "output_type": "stream",
     "text": [
      "The slowest run took 5.44 times longer than the fastest. This could mean that an intermediate result is being cached.\n",
      "100 loops, best of 3: 2.77 ms per loop\n"
     ]
    }
   ],
   "source": [
    "%timeit for i in range(100000):pass"
   ]
  },
  {
   "cell_type": "code",
   "execution_count": 30,
   "metadata": {
    "collapsed": false
   },
   "outputs": [
    {
     "name": "stdout",
     "output_type": "stream",
     "text": [
      "The slowest run took 4.83 times longer than the fastest. This could mean that an intermediate result is being cached.\n",
      "1000 loops, best of 3: 1.67 ms per loop\n"
     ]
    }
   ],
   "source": [
    "%timeit for i in xrange(100000):pass"
   ]
  },
  {
   "cell_type": "code",
   "execution_count": 39,
   "metadata": {
    "collapsed": false
   },
   "outputs": [
    {
     "name": "stdout",
     "output_type": "stream",
     "text": [
      "<generator object generator_f at 0x00000000043FF870>\n",
      "1 2 3 1 2 3\n"
     ]
    }
   ],
   "source": [
    "def generator_f():\n",
    "    yield 1\n",
    "    yield 2\n",
    "    yield 3\n",
    "    \n",
    "print generator_f()\n",
    "for i in generator_f():\n",
    "    print i,\n",
    "generator_f().next()\n",
    "\n",
    "my_generator = generator_f()\n",
    "while True:\n",
    "    try:\n",
    "        print my_generator.next(),\n",
    "    except StopIteration:\n",
    "        break"
   ]
  },
  {
   "cell_type": "code",
   "execution_count": 48,
   "metadata": {
    "collapsed": false
   },
   "outputs": [
    {
     "name": "stdout",
     "output_type": "stream",
     "text": [
      "<type 'generator'> <generator object get_nums at 0x00000000043FFA68>\n",
      "(0,)\n",
      "(3,)\n",
      "(6,)\n",
      "(9,)\n",
      "(12,)\n",
      "(15,)\n",
      "(18,)\n"
     ]
    }
   ],
   "source": [
    "def get_nums():\n",
    "    for i in range(20):\n",
    "        if i % 3 ==0:\n",
    "            yield i\n",
    "            \n",
    "a = get_nums()\n",
    "print type(a), a\n",
    "\n",
    "for i in a:\n",
    "    print (i,)\n",
    "\n",
    "for i in a:\n",
    "    print (i),"
   ]
  },
  {
   "cell_type": "code",
   "execution_count": 56,
   "metadata": {
    "collapsed": false
   },
   "outputs": [
    {
     "name": "stdout",
     "output_type": "stream",
     "text": [
      "3\n",
      "4\n",
      "5\n"
     ]
    }
   ],
   "source": [
    "def range2(start, end):\n",
    "    if end <= start:\n",
    "        yield \"incorrect parameter\"\n",
    "    else:\n",
    "        while start < end:\n",
    "            yield start \n",
    "            start += 1\n",
    "            \n",
    "a = range2(3, 6)\n",
    "for i in a:\n",
    "    print i\n",
    "    \n",
    "for i in a:\n",
    "    print i"
   ]
  },
  {
   "cell_type": "code",
   "execution_count": 76,
   "metadata": {
    "collapsed": false
   },
   "outputs": [
    {
     "name": "stdout",
     "output_type": "stream",
     "text": [
      "1\n",
      "2\n",
      "3\n",
      "a\n",
      "b\n"
     ]
    }
   ],
   "source": [
    "from itertools import chain\n",
    "\n",
    "for i in chain([1,2,3] ,['a', 'b']):\n",
    "    print i"
   ]
  },
  {
   "cell_type": "code",
   "execution_count": 80,
   "metadata": {
    "collapsed": false
   },
   "outputs": [
    {
     "name": "stdout",
     "output_type": "stream",
     "text": [
      "<type 'itertools.count'>\n",
      "0\n",
      "1\n",
      "2\n",
      "3\n"
     ]
    }
   ],
   "source": [
    "from itertools import count\n",
    "\n",
    "a = count()\n",
    "print type(a)\n",
    "print a.next()\n",
    "print a.next()\n",
    "print a.next()\n",
    "print a.next()"
   ]
  },
  {
   "cell_type": "code",
   "execution_count": 86,
   "metadata": {
    "collapsed": false
   },
   "outputs": [
    {
     "name": "stdout",
     "output_type": "stream",
     "text": [
      "0\n",
      "1\n",
      "2\n",
      "3\n",
      "4\n"
     ]
    }
   ],
   "source": [
    "from itertools import islice\n",
    "\n",
    "a = islice(count(), 5)\n",
    "for i in a:\n",
    "    print i"
   ]
  },
  {
   "cell_type": "code",
   "execution_count": 87,
   "metadata": {
    "collapsed": false
   },
   "outputs": [
    {
     "name": "stdout",
     "output_type": "stream",
     "text": [
      "1\n",
      "2\n",
      "3\n",
      "4\n",
      "5\n",
      "1\n",
      "2\n",
      "3\n",
      "4\n",
      "5\n"
     ]
    }
   ],
   "source": [
    "from itertools import cycle\n",
    "\n",
    "cnt = 0\n",
    "for i in cycle([1, 2, 3, 4, 5]):\n",
    "    if cnt ==10:\n",
    "        break\n",
    "    \n",
    "    print i\n",
    "    cnt += 1"
   ]
  },
  {
   "cell_type": "code",
   "execution_count": 89,
   "metadata": {
    "collapsed": false
   },
   "outputs": [
    {
     "name": "stdout",
     "output_type": "stream",
     "text": [
      "aaa\n",
      "aaa\n",
      "aaa\n",
      "aaa\n",
      "repeat('aaa', 4) <type 'itertools.repeat'>\n"
     ]
    }
   ],
   "source": [
    "from itertools import repeat\n",
    "\n",
    "for i in repeat('aaa', 4):\n",
    "    print i\n",
    "\n",
    "a = repeat('aaa', 4)\n",
    "print a, type(a)\n"
   ]
  },
  {
   "cell_type": "code",
   "execution_count": 93,
   "metadata": {
    "collapsed": false
   },
   "outputs": [
    {
     "data": {
      "text/plain": [
       "'hello you'"
      ]
     },
     "execution_count": 93,
     "metadata": {},
     "output_type": "execute_result"
    }
   ],
   "source": [
    "def greet(name):\n",
    "    return \"hello \" + name\n",
    "\n",
    "def greet2(func):\n",
    "    jj = \"you\"\n",
    "    return func(jj)\n",
    "\n",
    "greet2(greet)"
   ]
  },
  {
   "cell_type": "code",
   "execution_count": 103,
   "metadata": {
    "collapsed": false
   },
   "outputs": [
    {
     "name": "stdout",
     "output_type": "stream",
     "text": [
      "hello!\n",
      "<function get_message at 0x00000000043E9EB8>\n"
     ]
    }
   ],
   "source": [
    "def compose_greet_func():\n",
    "    def get_message():\n",
    "        return \"hello!\"\n",
    "\n",
    "    return get_message\n",
    "\n",
    "print compose_greet_func()()\n",
    "#print get_message()\n",
    "a = compose_greet_func()\n",
    "print a\n",
    "#print a()"
   ]
  },
  {
   "cell_type": "code",
   "execution_count": 108,
   "metadata": {
    "collapsed": false
   },
   "outputs": [
    {
     "name": "stdout",
     "output_type": "stream",
     "text": [
      "hellojames!\n"
     ]
    }
   ],
   "source": [
    "def compose_greet_func(name):\n",
    "    def get_message():\n",
    "        return \"hello\" + name + \"!\"\n",
    "    \n",
    "    return get_message\n",
    "\n",
    "print compose_greet_func(\"james\")()"
   ]
  },
  {
   "cell_type": "code",
   "execution_count": 114,
   "metadata": {
    "collapsed": false
   },
   "outputs": [
    {
     "name": "stdout",
     "output_type": "stream",
     "text": [
      "<p>helloalex</p>\n",
      "<p>helloalex</p>\n"
     ]
    }
   ],
   "source": [
    "def get_text(name):\n",
    "    return \"hello\" + name\n",
    "\n",
    "def p_decorator(func):\n",
    "    def get_message(name):\n",
    "        return \"<p>{}</p>\".format(func(name))\n",
    "    \n",
    "    return get_message\n",
    "    \n",
    "print p_decorator(get_text)(\"alex\")\n",
    "#print p_decorator(get_text(\"alex\"))\n",
    "\n",
    "get_text = p_decorator(get_text)\n",
    "print get_text(\"alex\")"
   ]
  },
  {
   "cell_type": "code",
   "execution_count": 115,
   "metadata": {
    "collapsed": false
   },
   "outputs": [
    {
     "data": {
      "text/plain": [
       "'<p>hellojaves</p>'"
      ]
     },
     "execution_count": 115,
     "metadata": {},
     "output_type": "execute_result"
    }
   ],
   "source": [
    "def p_decorator(func):\n",
    "    def get_message(name):\n",
    "        return \"<p>{}</p>\".format(func(name))\n",
    "    \n",
    "    return get_message\n",
    "\n",
    "@p_decorator\n",
    "def get_text(name):\n",
    "    return \"hello\" + name\n",
    "\n",
    "get_text('javes')"
   ]
  },
  {
   "cell_type": "code",
   "execution_count": 122,
   "metadata": {
    "collapsed": false
   },
   "outputs": [
    {
     "name": "stdout",
     "output_type": "stream",
     "text": [
      "<div><p><strong>hello alex</strong></p></div>\n"
     ]
    }
   ],
   "source": [
    "def get_text(names):\n",
    "    return \"hello \" + names\n",
    "\n",
    "def p_decorate(func):\n",
    "    def func_wrapper(namet):\n",
    "        return \"<p>{}</p>\".format(func(namet))\n",
    "    return func_wrapper\n",
    "\n",
    "def strong_decorate(func):\n",
    "    def func_wrapper(name):\n",
    "        return \"<strong>{}</strong>\".format(func(name))\n",
    "    return func_wrapper\n",
    "\n",
    "def div_decorate(func):\n",
    "    def func_wrapper(name):\n",
    "        return \"<div>{}</div>\".format(func(name))\n",
    "    return func_wrapper\n",
    "\n",
    "get_text = div_decorate(p_decorate(strong_decorate(get_text)))\n",
    "print get_text(\"alex\")\n"
   ]
  },
  {
   "cell_type": "code",
   "execution_count": 120,
   "metadata": {
    "collapsed": false
   },
   "outputs": [
    {
     "data": {
      "text/plain": [
       "'<div><p><strong>hello alex</strong></p></div>'"
      ]
     },
     "execution_count": 120,
     "metadata": {},
     "output_type": "execute_result"
    }
   ],
   "source": [
    "def p_decorate(func):\n",
    "    def func_wrapper(name):\n",
    "        return \"<p>{}</p>\".format(func(name))\n",
    "    return func_wrapper\n",
    "\n",
    "def strong_decorate(func):\n",
    "    def func_wrapper(name):\n",
    "        return \"<strong>{}</strong>\".format(func(name))\n",
    "    return func_wrapper\n",
    "\n",
    "def div_decorate(func):\n",
    "    def func_wrapper(name):\n",
    "        return \"<div>{}</div>\".format(func(name))\n",
    "    return func_wrapper\n",
    "\n",
    "\n",
    "@div_decorate\n",
    "@p_decorate\n",
    "@strong_decorate\n",
    "def get_text(name):\n",
    "    return \"hello \" + name\n",
    "\n",
    "get_text(\"alex\")"
   ]
  },
  {
   "cell_type": "code",
   "execution_count": 138,
   "metadata": {
    "collapsed": false
   },
   "outputs": [
    {
     "name": "stdout",
     "output_type": "stream",
     "text": [
      "<p>hello alex<p>\n"
     ]
    }
   ],
   "source": [
    "def tags(tag_name):\n",
    "    def tags_decorator(func):\n",
    "        def func_wrapper(name):\n",
    "            return \"<{0}>{1}<{0}>\".format(tag_name, func(name))\n",
    "        return func_wrapper\n",
    "    return tags_decorator\n",
    "\n",
    "@tags(\"p\")\n",
    "def get_text(name):\n",
    "    return \"hello \" + name\n",
    "\n",
    "print get_text(\"alex\")"
   ]
  },
  {
   "cell_type": "code",
   "execution_count": 147,
   "metadata": {
    "collapsed": false
   },
   "outputs": [
    {
     "name": "stdout",
     "output_type": "stream",
     "text": [
      "3\n",
      "6\n",
      "6\n"
     ]
    }
   ],
   "source": [
    "class Math2(object):\n",
    "    def __init__(self, cnt):\n",
    "        self.cnt = cnt\n",
    "        \n",
    "    def get_cnt(self):\n",
    "        return self.cnt\n",
    "    \n",
    "    @staticmethod\n",
    "    def add(a, b):\n",
    "        return a + b\n",
    "    \n",
    "mathe = Math2(3)\n",
    "print mathe.get_cnt()\n",
    "print mathe.add(1, 5)\n",
    "print Math2.add(1, 5)"
   ]
  },
  {
   "cell_type": "code",
   "execution_count": null,
   "metadata": {
    "collapsed": true
   },
   "outputs": [],
   "source": []
  }
 ],
 "metadata": {
  "anaconda-cloud": {},
  "kernelspec": {
   "display_name": "Python [Root]",
   "language": "python",
   "name": "Python [Root]"
  },
  "language_info": {
   "codemirror_mode": {
    "name": "ipython",
    "version": 2
   },
   "file_extension": ".py",
   "mimetype": "text/x-python",
   "name": "python",
   "nbconvert_exporter": "python",
   "pygments_lexer": "ipython2",
   "version": "2.7.12"
  }
 },
 "nbformat": 4,
 "nbformat_minor": 0
}
