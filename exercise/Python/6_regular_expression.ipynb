{
 "cells": [
  {
   "cell_type": "code",
   "execution_count": 1,
   "metadata": {
    "collapsed": false
   },
   "outputs": [
    {
     "name": "stdout",
     "output_type": "stream",
     "text": [
      "iii\n",
      "()\n"
     ]
    }
   ],
   "source": [
    "import re\n",
    "match = re.search(r'iii' , 'piiig')\n",
    "print match.group()\n",
    "print match.groups()"
   ]
  },
  {
   "cell_type": "code",
   "execution_count": 10,
   "metadata": {
    "collapsed": false
   },
   "outputs": [
    {
     "name": "stdout",
     "output_type": "stream",
     "text": [
      "iig\n",
      "32\n",
      "av\n",
      "@#\n",
      "iiiiig\n"
     ]
    }
   ],
   "source": [
    "m = re.search(r'..g', 'piiiig')\n",
    "print m.group()\n",
    "\n",
    "m = re.search(r'\\d\\d', 'p3233g')\n",
    "print m.group()\n",
    "\n",
    "m = re.search(r'\\w\\w', '@#avd')\n",
    "print m.group()\n",
    "\n",
    "m = re.search(r'..', '@#avd')\n",
    "print m.group()\n",
    "\n",
    "m = re.search(r'i+g', 'hheiiiiige')\n",
    "print m.group()"
   ]
  },
  {
   "cell_type": "code",
   "execution_count": 11,
   "metadata": {
    "collapsed": false
   },
   "outputs": [
    {
     "name": "stdout",
     "output_type": "stream",
     "text": [
      "12   3\n"
     ]
    }
   ],
   "source": [
    "m = re.search(r'\\d\\s*\\d\\s*\\d', 'xx12   3xx')\n",
    "print m.group()"
   ]
  },
  {
   "cell_type": "code",
   "execution_count": 25,
   "metadata": {
    "collapsed": false
   },
   "outputs": [
    {
     "name": "stdout",
     "output_type": "stream",
     "text": [
      "macmath22@gmail\n",
      "macmath22@gmail.com\n",
      "macmath22@gmail.com\n",
      "('macmath22', 'gmail.com')\n"
     ]
    }
   ],
   "source": [
    "str = \"haha this is aweso macmath22@ macmath22@gmail.com monkey dishwasher\"\n",
    "\n",
    "m = re.search(r'\\w+@\\w+', str)\n",
    "print m.group()\n",
    "\n",
    "m = re.search(r'\\w+@[\\w.]+', str)\n",
    "print m.group()\n",
    "\n",
    "m = re.search(r'(\\w+)@([\\w.]+)', str)\n",
    "print m.group()\n",
    "print m.groups()"
   ]
  },
  {
   "cell_type": "code",
   "execution_count": 27,
   "metadata": {
    "collapsed": false
   },
   "outputs": [
    {
     "name": "stdout",
     "output_type": "stream",
     "text": [
      "010-3333-2323\n"
     ]
    }
   ],
   "source": [
    "m = re.search(r'0\\d{2}-\\d{4}-\\d{4}', '010-3333-2323')\n",
    "print m.group()"
   ]
  },
  {
   "cell_type": "code",
   "execution_count": 29,
   "metadata": {
    "collapsed": false
   },
   "outputs": [
    {
     "name": "stdout",
     "output_type": "stream",
     "text": [
      "no match\n"
     ]
    }
   ],
   "source": [
    "m = re.match(r'\\w+@[\\w.]+', str)\n",
    "if m == None:\n",
    "    print \"no match\"\n",
    "else:\n",
    "    print m.group()\n"
   ]
  },
  {
   "cell_type": "code",
   "execution_count": 30,
   "metadata": {
    "collapsed": false
   },
   "outputs": [
    {
     "name": "stdout",
     "output_type": "stream",
     "text": [
      "ggr@gp.kr\n"
     ]
    }
   ],
   "source": [
    "m = re.match(r'\\w+@[\\w.]+', 'ggr@gp.kr aheifff hi everyone')\n",
    "if m == None:\n",
    "    print \"no match\"\n",
    "else:\n",
    "    print m.group()\n"
   ]
  },
  {
   "cell_type": "code",
   "execution_count": 31,
   "metadata": {
    "collapsed": false
   },
   "outputs": [
    {
     "name": "stdout",
     "output_type": "stream",
     "text": [
      "macmath22@gmail.com\n",
      "moonkwoo@yonsei.ac.kr\n",
      "test@test.co.kr\n"
     ]
    }
   ],
   "source": [
    "str = \"What a nice weather macmath22@gmail.com moonkwoo@yonsei.ac.kr test@test.co.kr\"\n",
    "emails = re.findall(r'\\w+@[\\w.]+', str)\n",
    "for email in emails:\n",
    "    print email"
   ]
  },
  {
   "cell_type": "code",
   "execution_count": 36,
   "metadata": {
    "collapsed": false
   },
   "outputs": [
    {
     "name": "stdout",
     "output_type": "stream",
     "text": [
      "['python', 'python', 'python']\n",
      "['Python', 'Python', 'Python']\n",
      "['Python', 'Python', 'Python']\n",
      "['Python', 'Python', 'Python', 'python', 'python', 'python']\n",
      "['python', 'python', 'python']\n",
      "['Python', 'Python', 'Python', 'python', 'python', 'python']\n"
     ]
    }
   ],
   "source": [
    "f = open('./sample/5_tf_idf/tf_idf1.txt', 'r')\n",
    "content = f.read()\n",
    "\n",
    "c1 = re.findall(r'[p]ython', content)\n",
    "print c1\n",
    "c2 = re.findall(r'[P]ython', content)\n",
    "print c2\n",
    "c3 = re.findall(r'Python', content)\n",
    "print c3\n",
    "c4 = re.findall(r'[pP]ython', content)\n",
    "print c4\n",
    "c5 = re.findall(r'python', content)\n",
    "print c5\n",
    "c6 = re.findall(r'python', content, re.IGNORECASE)\n",
    "print c6\n",
    "\n",
    "\n",
    "f.close()"
   ]
  },
  {
   "cell_type": "code",
   "execution_count": 37,
   "metadata": {
    "collapsed": false
   },
   "outputs": [
    {
     "name": "stdout",
     "output_type": "stream",
     "text": [
      "('macmath22', 'gmail.com')\n",
      "('moonkwoo', 'yonsei.ac.kr')\n",
      "('test', 'test.co.kr')\n"
     ]
    }
   ],
   "source": [
    "str = \"What a nice weather macmath22@gmail.com moonkwoo@yonsei.ac.kr test@test.co.kr\"\n",
    "emails = re.findall(r'(\\w+)@([\\w.]+)', str)\n",
    "for email in emails:\n",
    "    print email"
   ]
  },
  {
   "cell_type": "code",
   "execution_count": 4,
   "metadata": {
    "collapsed": false
   },
   "outputs": [
    {
     "name": "stdout",
     "output_type": "stream",
     "text": [
      "banana\n"
     ]
    }
   ],
   "source": [
    "m = re.search(r'^b\\w+', 'banana')\n",
    "print m.group()"
   ]
  },
  {
   "cell_type": "code",
   "execution_count": 6,
   "metadata": {
    "collapsed": false
   },
   "outputs": [
    {
     "name": "stdout",
     "output_type": "stream",
     "text": [
      "What a nice weather test moonkwoo@yonsei.ac.kr test@test.co.kr\n"
     ]
    }
   ],
   "source": [
    "str = \"What a nice weather macmath22@gmail.com moonkwoo@yonsei.ac.kr test@test.co.kr\"\n",
    "replaced = re.sub(r'[\\w-]+@[\\w.]+', r'test', str, count=1)\n",
    "print replaced"
   ]
  },
  {
   "cell_type": "code",
   "execution_count": 25,
   "metadata": {
    "collapsed": false
   },
   "outputs": [
    {
     "name": "stdout",
     "output_type": "stream",
     "text": [
      "('010', '3335', '5555')\n",
      "(010)\n"
     ]
    }
   ],
   "source": [
    "temps = re.search(r'(\\d+)-(\\d+)-(\\d+)', '010-3335-5555')\n",
    "print temp.groups()\n",
    "str_010 = \"(\" + temp.group(1) + \")\"\n",
    "print str_010"
   ]
  },
  {
   "cell_type": "code",
   "execution_count": 7,
   "metadata": {
    "collapsed": false
   },
   "outputs": [
    {
     "name": "stdout",
     "output_type": "stream",
     "text": [
      "(010) 3232-3333\n"
     ]
    }
   ],
   "source": [
    "replaced = re.sub(r'(\\d+)-(\\d+)-(\\d+)', r'(\\1) \\2-\\3', '010-3232-3333')\n",
    "print replaced"
   ]
  },
  {
   "cell_type": "code",
   "execution_count": 15,
   "metadata": {
    "collapsed": false
   },
   "outputs": [
    {
     "name": "stdout",
     "output_type": "stream",
     "text": [
      "one two three four five six\n",
      "['one', 'two', 'three', 'four', 'five', 'six']\n"
     ]
    }
   ],
   "source": [
    "a = 'one,two three.four*five:six'\n",
    "\n",
    "new_a = a.replace(',', ' ')\n",
    "new_a = new_a.replace('.', ' ')\n",
    "new_a = new_a.replace('*', ' ')\n",
    "new_a = new_a.replace(':', ' ')\n",
    "\n",
    "new_a2 = re.split(r'[:,.*\\s]+', a)\n",
    "\n",
    "print new_a\n",
    "print new_a2"
   ]
  },
  {
   "cell_type": "code",
   "execution_count": 3,
   "metadata": {
    "collapsed": false
   },
   "outputs": [
    {
     "name": "stdout",
     "output_type": "stream",
     "text": [
      "macmatch22@gmail.com\n",
      "['macmatch22@gmail.com', 'test@test.com', 'moonkwoo@yonsei.ac.kr']\n",
      "My email address is hello\n"
     ]
    }
   ],
   "source": [
    "import re\n",
    "\n",
    "email_reg = re.compile(r'[\\w-]+@[\\w.]+')\n",
    "m = email_reg.search(\"What a nice weather macmatch22@gmail.com, test@test.com moonkwoo@yonsei.ac.kr\")\n",
    "if m:\n",
    "    print m.group()\n",
    "\n",
    "print email_reg.findall(\"What a nice weather macmatch22@gmail.com, test@test.com moonkwoo@yonsei.ac.kr\")\n",
    "\n",
    "print email_reg.sub('hello', 'My email address is moonkwoo@yonsei.ac.kr')"
   ]
  },
  {
   "cell_type": "code",
   "execution_count": null,
   "metadata": {
    "collapsed": true
   },
   "outputs": [],
   "source": []
  }
 ],
 "metadata": {
  "anaconda-cloud": {},
  "kernelspec": {
   "display_name": "Python [Root]",
   "language": "python",
   "name": "Python [Root]"
  },
  "language_info": {
   "codemirror_mode": {
    "name": "ipython",
    "version": 2
   },
   "file_extension": ".py",
   "mimetype": "text/x-python",
   "name": "python",
   "nbconvert_exporter": "python",
   "pygments_lexer": "ipython2",
   "version": "2.7.12"
  }
 },
 "nbformat": 4,
 "nbformat_minor": 0
}
