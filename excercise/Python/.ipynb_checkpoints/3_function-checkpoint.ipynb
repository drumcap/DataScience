{
 "cells": [
  {
   "cell_type": "code",
   "execution_count": 4,
   "metadata": {
    "collapsed": false
   },
   "outputs": [
    {
     "ename": "SyntaxError",
     "evalue": "invalid syntax (<ipython-input-4-a5aee5919a2f>, line 2)",
     "output_type": "error",
     "traceback": [
      "\u001b[1;36m  File \u001b[1;32m\"<ipython-input-4-a5aee5919a2f>\"\u001b[1;36m, line \u001b[1;32m2\u001b[0m\n\u001b[1;33m    return print(obj)\u001b[0m\n\u001b[1;37m               ^\u001b[0m\n\u001b[1;31mSyntaxError\u001b[0m\u001b[1;31m:\u001b[0m invalid syntax\n"
     ]
    }
   ],
   "source": [
    "def print_hello(obj = \"hi_world\"):\n",
    "    return print(obj)\n",
    "\n",
    "print_hello()\n",
    "print_hello(\"hihi\")"
   ]
  },
  {
   "cell_type": "code",
   "execution_count": 11,
   "metadata": {
    "collapsed": false
   },
   "outputs": [
    {
     "name": "stdout",
     "output_type": "stream",
     "text": [
      "13\n"
     ]
    }
   ],
   "source": [
    "def increment_by(a=1, b = 1, c=1):\n",
    "    return a + b + c\n",
    "\n",
    "print increment_by(10, 2)"
   ]
  },
  {
   "cell_type": "code",
   "execution_count": 12,
   "metadata": {
    "collapsed": false
   },
   "outputs": [
    {
     "name": "stdout",
     "output_type": "stream",
     "text": [
      "(10, 5, 1, 2)\n"
     ]
    }
   ],
   "source": [
    "def func_tesst(a, b, c = 1, d = 2):\n",
    "    print (a, b, c, d)\n",
    "    \n",
    "func_tesst(b = 5, a = 10)"
   ]
  },
  {
   "cell_type": "code",
   "execution_count": 13,
   "metadata": {
    "collapsed": false
   },
   "outputs": [
    {
     "data": {
      "text/plain": [
       "1"
      ]
     },
     "execution_count": 13,
     "metadata": {},
     "output_type": "execute_result"
    }
   ],
   "source": [
    "def simple():\n",
    "    return 1\n",
    "\n",
    "simple()"
   ]
  },
  {
   "cell_type": "code",
   "execution_count": 17,
   "metadata": {
    "collapsed": false
   },
   "outputs": [
    {
     "name": "stdout",
     "output_type": "stream",
     "text": [
      "None\n"
     ]
    }
   ],
   "source": [
    "def simple2():\n",
    "    a =1\n",
    "    return\n",
    "\n",
    "c = simple2()\n",
    "print c"
   ]
  },
  {
   "cell_type": "code",
   "execution_count": 22,
   "metadata": {
    "collapsed": false
   },
   "outputs": [
    {
     "name": "stdout",
     "output_type": "stream",
     "text": [
      "1 2\n"
     ]
    }
   ],
   "source": [
    "def multiple_return():\n",
    "    a = 1\n",
    "    b = 2\n",
    "    return a, b\n",
    "\n",
    "c, d = multiple_return()\n",
    "print c, d"
   ]
  },
  {
   "cell_type": "code",
   "execution_count": 33,
   "metadata": {
    "collapsed": false
   },
   "outputs": [
    {
     "name": "stdout",
     "output_type": "stream",
     "text": [
      "gg\n",
      "python\n"
     ]
    }
   ],
   "source": [
    "def f():\n",
    "    s = \"gg\"\n",
    "    print s\n",
    "s = \"python\"\n",
    "f()\n",
    "print s"
   ]
  },
  {
   "cell_type": "code",
   "execution_count": 25,
   "metadata": {
    "collapsed": false
   },
   "outputs": [
    {
     "name": "stdout",
     "output_type": "stream",
     "text": [
      "perl\n"
     ]
    }
   ],
   "source": [
    "\n",
    "def f():\n",
    "    s = \"perl\"\n",
    "    print s\n",
    "s = \"python\"\n",
    "f()"
   ]
  },
  {
   "cell_type": "code",
   "execution_count": 36,
   "metadata": {
    "collapsed": false
   },
   "outputs": [
    {
     "name": "stdout",
     "output_type": "stream",
     "text": [
      "pupu\n",
      "perl\n"
     ]
    }
   ],
   "source": [
    "#s = \"python\"\n",
    "def f():\n",
    "    print s\n",
    "    t = \"perl\"\n",
    "    print t\n",
    "\n",
    "s = \"pupu\"\n",
    "f()"
   ]
  },
  {
   "cell_type": "code",
   "execution_count": 99,
   "metadata": {
    "collapsed": false
   },
   "outputs": [
    {
     "name": "stdout",
     "output_type": "stream",
     "text": [
      "<type 'tuple'>\n",
      "4\n",
      "5\n",
      "6\n"
     ]
    }
   ],
   "source": [
    "def test_tuple_args(fargs, *args):\n",
    "    print type(args)\n",
    "    for arg in args:\n",
    "        print arg\n",
    "\n",
    "test_tuple_args(1, 4, 5 ,6)"
   ]
  },
  {
   "cell_type": "code",
   "execution_count": 84,
   "metadata": {
    "collapsed": false
   },
   "outputs": [
    {
     "name": "stdout",
     "output_type": "stream",
     "text": [
      "<type 'dict'>\n",
      "another keyword arg : yet is 3\n",
      "another keyword arg : yet is 3\n",
      "another keyword arg : jet is two\n",
      "another keyword arg : jet is two\n"
     ]
    }
   ],
   "source": [
    "def test_dict_kwargs(fargs, **kwargs):\n",
    "    print type(kwargs)\n",
    "    for key in kwargs:\n",
    "        print \"another keyword arg : %s is %s\" % (key, kwargs[key])\n",
    "        print \"another keyword arg : {0} is {1}\".format(key, kwargs[key])\n",
    "        \n",
    "test_dict_kwargs(1, jet = \"two\", yet = 3)"
   ]
  },
  {
   "cell_type": "code",
   "execution_count": 88,
   "metadata": {
    "collapsed": false
   },
   "outputs": [
    {
     "name": "stdout",
     "output_type": "stream",
     "text": [
      "one\n",
      "two\n",
      "three\n"
     ]
    }
   ],
   "source": [
    "def test_tuple_args_cell(arg1, arg2, arg3):\n",
    "    print arg1\n",
    "    print arg2\n",
    "    print arg3\n",
    "args = (\"one\", \"two\", \"three\")\n",
    "test_tuple_args_cell(*args)"
   ]
  },
  {
   "cell_type": "code",
   "execution_count": 102,
   "metadata": {
    "collapsed": false
   },
   "outputs": [
    {
     "ename": "TypeError",
     "evalue": "test_dict_kwargs_cell() takes exactly 3 arguments (2 given)",
     "output_type": "error",
     "traceback": [
      "\u001b[1;31m---------------------------------------------------------------------------\u001b[0m",
      "\u001b[1;31mTypeError\u001b[0m                                 Traceback (most recent call last)",
      "\u001b[1;32m<ipython-input-102-b4e1360a183c>\u001b[0m in \u001b[0;36m<module>\u001b[1;34m()\u001b[0m\n\u001b[0;32m      4\u001b[0m     \u001b[1;32mprint\u001b[0m \u001b[1;34m\"arg3 : \"\u001b[0m\u001b[1;33m,\u001b[0m \u001b[0marg4\u001b[0m\u001b[1;33m\u001b[0m\u001b[0m\n\u001b[0;32m      5\u001b[0m \u001b[0mkwargs\u001b[0m \u001b[1;33m=\u001b[0m \u001b[1;33m{\u001b[0m\u001b[1;34m\"arg4\"\u001b[0m \u001b[1;33m:\u001b[0m \u001b[1;36m3\u001b[0m\u001b[1;33m}\u001b[0m\u001b[1;33m\u001b[0m\u001b[0m\n\u001b[1;32m----> 6\u001b[1;33m \u001b[0mtest_dict_kwargs_cell\u001b[0m\u001b[1;33m(\u001b[0m\u001b[1;36m1\u001b[0m\u001b[1;33m,\u001b[0m \u001b[1;33m**\u001b[0m\u001b[0mkwargs\u001b[0m\u001b[1;33m)\u001b[0m\u001b[1;33m\u001b[0m\u001b[0m\n\u001b[0m",
      "\u001b[1;31mTypeError\u001b[0m: test_dict_kwargs_cell() takes exactly 3 arguments (2 given)"
     ]
    }
   ],
   "source": [
    "def test_dict_kwargs_cell(arg1, arg2, arg4):\n",
    "    print \"arg1 : \", arg1\n",
    "    print \"arg2 : \", arg2\n",
    "    print \"arg3 : \", arg4\n",
    "kwargs = {\"arg4\" : 3, \"arg2\" : 2}\n",
    "test_dict_kwargs_cell(1, **kwargs)"
   ]
  },
  {
   "cell_type": "code",
   "execution_count": 98,
   "metadata": {
    "collapsed": false
   },
   "outputs": [
    {
     "name": "stdout",
     "output_type": "stream",
     "text": [
      "arg1 :  1\n",
      "arg2 :  {'arg4': 2}\n",
      "arg3 :  3\n"
     ]
    }
   ],
   "source": [
    "test_dict_kwargs_cell(1, {\"arg4\":2}, 3)"
   ]
  },
  {
   "cell_type": "code",
   "execution_count": 105,
   "metadata": {
    "collapsed": false
   },
   "outputs": [
    {
     "name": "stdout",
     "output_type": "stream",
     "text": [
      "hello world kwe\n"
     ]
    }
   ],
   "source": [
    "s = \"hello world\"\n",
    "w = \"kwe\"\n",
    "result = s + \" \" + w\n",
    "print result"
   ]
  },
  {
   "cell_type": "code",
   "execution_count": 107,
   "metadata": {
    "collapsed": false
   },
   "outputs": [
    {
     "name": "stdout",
     "output_type": "stream",
     "text": [
      "hello world my name is alex\n"
     ]
    }
   ],
   "source": [
    "b = 'hello {1} my name is {0}'.format('alex', 'world')\n",
    "print b"
   ]
  },
  {
   "cell_type": "code",
   "execution_count": 109,
   "metadata": {
    "collapsed": false
   },
   "outputs": [
    {
     "name": "stdout",
     "output_type": "stream",
     "text": [
      "hello world my name is alex\n"
     ]
    }
   ],
   "source": [
    "c = 'hello {aa} my name is {bb}'.format(bb = 'alex' ,aa = 'world')\n",
    "print c"
   ]
  },
  {
   "cell_type": "code",
   "execution_count": 110,
   "metadata": {
    "collapsed": false
   },
   "outputs": [
    {
     "name": "stdout",
     "output_type": "stream",
     "text": [
      "hello world my name is alex\n"
     ]
    }
   ],
   "source": [
    "d = 'hello %s my name is %s' % ('world', 'alex')\n",
    "print d"
   ]
  },
  {
   "cell_type": "code",
   "execution_count": 124,
   "metadata": {
    "collapsed": false
   },
   "outputs": [
    {
     "name": "stdout",
     "output_type": "stream",
     "text": [
      "<type 'int'>\n",
      "<type 'function'>\n"
     ]
    }
   ],
   "source": [
    "def test1():\n",
    "    return 23\n",
    "\n",
    "test2 = test1()\n",
    "test3 = test1\n",
    "\n",
    "print type(test2)\n",
    "print type(test3)"
   ]
  },
  {
   "cell_type": "code",
   "execution_count": 130,
   "metadata": {
    "collapsed": false
   },
   "outputs": [
    {
     "name": "stdout",
     "output_type": "stream",
     "text": [
      "<type 'function'>\n",
      "23\n"
     ]
    }
   ],
   "source": [
    "def test1():\n",
    "    return 23\n",
    "\n",
    "test2 = test1\n",
    "\n",
    "print type(test1)\n",
    "print test2()"
   ]
  },
  {
   "cell_type": "code",
   "execution_count": 151,
   "metadata": {
    "collapsed": false
   },
   "outputs": [
    {
     "name": "stdout",
     "output_type": "stream",
     "text": [
      "e\n"
     ]
    }
   ],
   "source": [
    "def run_something(func):\n",
    "    print func\n",
    "def test11():\n",
    "    return 23\n",
    "test11 = \"e\"\n",
    "\n",
    "run_something(test11)"
   ]
  },
  {
   "cell_type": "code",
   "execution_count": 153,
   "metadata": {
    "collapsed": false
   },
   "outputs": [],
   "source": [
    "def recursive_factorial(n):\n",
    "    if n == 1:\n",
    "        return 1\n",
    "    return n * recursive_factorial(n - 1)\n",
    "\n",
    "assert(recursive_factorial(5) == 120)"
   ]
  },
  {
   "cell_type": "code",
   "execution_count": 160,
   "metadata": {
    "collapsed": false
   },
   "outputs": [
    {
     "name": "stdout",
     "output_type": "stream",
     "text": [
      "10000 loops, best of 3: 29.5 µs per loop\n"
     ]
    }
   ],
   "source": [
    "import sys\n",
    "sys.setrecursionlimit(1000)\n",
    "%timeit recursive_factorial(100)"
   ]
  },
  {
   "cell_type": "code",
   "execution_count": 163,
   "metadata": {
    "collapsed": false
   },
   "outputs": [],
   "source": [
    "def recursive_fibonacci(n):\n",
    "    if n == 2 or n == 1:\n",
    "        return 1\n",
    "    return recursive_fibonacci(n-1) + recursive_fibonacci(n - 2)\n",
    "\n",
    "assert(recursive_fibonacci(5) == 5)"
   ]
  },
  {
   "cell_type": "code",
   "execution_count": 167,
   "metadata": {
    "collapsed": false
   },
   "outputs": [
    {
     "name": "stdout",
     "output_type": "stream",
     "text": [
      "610\n",
      "The slowest run took 270.79 times longer than the fastest. This could mean that an intermediate result is being cached.\n",
      "1000000 loops, best of 3: 201 ns per loop\n"
     ]
    }
   ],
   "source": [
    "fibo_cache={}\n",
    "def recursive_fibonacci_cache(n):\n",
    "    \n",
    "    if n in fibo_cache:\n",
    "        return fibo_cache[n]\n",
    "    if n == 1 or n == 2:\n",
    "        fibo_cache[n] = 1\n",
    "    else:\n",
    "        fibo_cache[n] = recursive_fibonacci_cache(n - 1) + recursive_fibonacci_cache(n - 2)\n",
    "    return fibo_cache[n]\n",
    "\n",
    "print recursive_fibonacci_cache(15)\n",
    "%timeit recursive_fibonacci_cache(15)"
   ]
  },
  {
   "cell_type": "code",
   "execution_count": 180,
   "metadata": {
    "collapsed": false
   },
   "outputs": [
    {
     "name": "stdout",
     "output_type": "stream",
     "text": [
      "16\n",
      "16\n",
      "16\n",
      "16\n"
     ]
    }
   ],
   "source": [
    "def square(x):\n",
    "    return x ** 2\n",
    "\n",
    "square2 = lambda x : x ** 2\n",
    "\n",
    "square3 = square\n",
    "square4 = square2\n",
    "\n",
    "print square(4)\n",
    "print square2(4)\n",
    "print square3(4)\n",
    "print square4(4)"
   ]
  },
  {
   "cell_type": "code",
   "execution_count": 181,
   "metadata": {
    "collapsed": false
   },
   "outputs": [
    {
     "name": "stdout",
     "output_type": "stream",
     "text": [
      "8\n"
     ]
    }
   ],
   "source": [
    "add3 = lambda x, y : x * y\n",
    "\n",
    "print add3(2, 4)"
   ]
  },
  {
   "cell_type": "code",
   "execution_count": 194,
   "metadata": {
    "collapsed": false
   },
   "outputs": [
    {
     "name": "stdout",
     "output_type": "stream",
     "text": [
      "1\n",
      "[(1, 2), (2, 4), (3, 8), (6, 3), (9, 1)]\n",
      "[(1, 2), (2, 4), (3, 8), (6, 3), (9, 1)]\n",
      "[(9, 1), (1, 2), (6, 3), (2, 4), (3, 8)]\n"
     ]
    }
   ],
   "source": [
    "nums = [(1, 2), (3, 8), (6, 3), (2, 4), (9, 1)]\n",
    "\n",
    "def getkey(x):\n",
    "    return x[0]\n",
    "\n",
    "getkey = lambda x : x[0]\n",
    "\n",
    "print nums[0][0]\n",
    "print sorted(nums)\n",
    "print sorted(nums, key = getkey)\n",
    "print sorted(nums, key = lambda x : x[1])"
   ]
  },
  {
   "cell_type": "code",
   "execution_count": 192,
   "metadata": {
    "collapsed": false
   },
   "outputs": [
    {
     "name": "stdout",
     "output_type": "stream",
     "text": [
      "[1, 2, 3, 5, 6, 8]\n",
      "[1, 2, 3, 5, 6, 8]\n"
     ]
    }
   ],
   "source": [
    "nums2 = [1, 8, 5, 2, 6, 3]\n",
    "\n",
    "def getkey2(x):\n",
    "    return x\n",
    "\n",
    "print sorted(nums2)\n",
    "print sorted(nums2, key = getkey2)"
   ]
  },
  {
   "cell_type": "code",
   "execution_count": 223,
   "metadata": {
    "collapsed": false
   },
   "outputs": [
    {
     "name": "stdout",
     "output_type": "stream",
     "text": [
      "[2, 4, 6, 8, 10, 12, 14, 16, 18]\n",
      "[2, 4, 6, 8, 10, 12, 14, 16, 18]\n",
      "[2, 4, 6, 8, 10, 12, 14, 16, 18]\n"
     ]
    }
   ],
   "source": [
    "nums = range(2, 20)\n",
    "\n",
    "def odd_func(x):\n",
    "    if x % 2 == 0:\n",
    "        return x\n",
    "\n",
    "#print filter(None, nums)\n",
    "print filter(odd_func, nums)\n",
    "print filter(lambda x : x % 2 == 0, nums)\n",
    "print [i for i in nums if i % 2 == 0]"
   ]
  },
  {
   "cell_type": "code",
   "execution_count": 226,
   "metadata": {
    "collapsed": false
   },
   "outputs": [
    {
     "name": "stdout",
     "output_type": "stream",
     "text": [
      "[2, None, 4, None, 6, None, 8, None, 10, None, 12, None, 14, None, 16, None, 18, None]\n",
      "[True, False, True, False, True, False, True, False, True, False, True, False, True, False, True, False, True, False]\n",
      "[True, False, True, False, True, False, True, False, True, False, True, False, True, False, True, False, True, False]\n",
      "[True, False, True, False, True, False, True, False, True, False, True, False, True, False, True, False, True, False]\n",
      "[4, 9, 16, 25, 36, 49, 64, 81, 100, 121, 144, 169, 196, 225, 256, 289, 324, 361]\n",
      "[4, 9, 16, 25, 36, 49, 64, 81, 100, 121, 144, 169, 196, 225, 256, 289, 324, 361]\n"
     ]
    }
   ],
   "source": [
    "def odd_func2(x):\n",
    "    return x % 2 == 0\n",
    "\n",
    "nums = range(2, 20)\n",
    "print map(odd_func, nums)\n",
    "print map(lambda x : x % 2 == 0, nums)\n",
    "print [x % 2 ==0 for x in nums]\n",
    "print map(odd_func2, nums)\n",
    "print map(lambda x : x**2, nums)\n",
    "print [i**2 for i in nums]"
   ]
  },
  {
   "cell_type": "code",
   "execution_count": 228,
   "metadata": {
    "collapsed": false
   },
   "outputs": [
    {
     "name": "stdout",
     "output_type": "stream",
     "text": [
      "[102.2, 98.60000000000001, 97.7, 91.76]\n",
      "[102.2, 98.60000000000001, 97.7, 91.76]\n"
     ]
    }
   ],
   "source": [
    "c = [39, 37, 36.5, 33.2]\n",
    "\n",
    "print map(lambda x : 1.8 * x + 32, c)\n",
    "print [i * 1.8 + 32 for i in c]"
   ]
  },
  {
   "cell_type": "code",
   "execution_count": 234,
   "metadata": {
    "collapsed": false
   },
   "outputs": [
    {
     "name": "stdout",
     "output_type": "stream",
     "text": [
      "[31, 34, 37, 40]\n"
     ]
    }
   ],
   "source": [
    "a = [1, 2, 3, 4]\n",
    "b = [10, 11, 12, 13]\n",
    "c = [20, 21, 22, 23]\n",
    "\n",
    "print map(lambda x, y, z : x + y + z, a, b, c)"
   ]
  },
  {
   "cell_type": "code",
   "execution_count": 238,
   "metadata": {
    "collapsed": false
   },
   "outputs": [
    {
     "name": "stdout",
     "output_type": "stream",
     "text": [
      "26\n"
     ]
    }
   ],
   "source": [
    "nums = [1, 2, 5, 2, 7, 9]\n",
    "print reduce(lambda x, y : x + y, nums)"
   ]
  },
  {
   "cell_type": "code",
   "execution_count": 240,
   "metadata": {
    "collapsed": false
   },
   "outputs": [
    {
     "name": "stdout",
     "output_type": "stream",
     "text": [
      "9\n"
     ]
    }
   ],
   "source": [
    "print reduce(lambda x, y : x if x > y else y, nums)"
   ]
  },
  {
   "cell_type": "code",
   "execution_count": 247,
   "metadata": {
    "collapsed": false
   },
   "outputs": [
    {
     "name": "stdout",
     "output_type": "stream",
     "text": [
      "there is no pop index in list\n",
      "next\n",
      "1\n"
     ]
    }
   ],
   "source": [
    "nums = [1, 2, 3]\n",
    "pop = 5\n",
    "\n",
    "try:\n",
    "    print  nums[pop]\n",
    "except:\n",
    "    print \"there is no pop index in list\"\n",
    "finally:\n",
    "    print \"next\"\n",
    "print nums[0]"
   ]
  },
  {
   "cell_type": "code",
   "execution_count": 264,
   "metadata": {
    "collapsed": false
   },
   "outputs": [
    {
     "name": "stdout",
     "output_type": "stream",
     "text": [
      "something else broke*** integer division or modulo by zero\n",
      "next\n",
      "0\n"
     ]
    }
   ],
   "source": [
    "nums = [0, 1, 2, 3]\n",
    "pos1 = 2#5\n",
    "pos2 = 0\n",
    "\n",
    "try:\n",
    "    print nums[pos1] / nums[pos2]\n",
    "except IndexError as err:\n",
    "    print 'need right index ****', err\n",
    "except Exception as other:\n",
    "    print 'something else broke***', other\n",
    "finally:\n",
    "    print 'next'\n",
    "\n",
    "print nums[0]"
   ]
  },
  {
   "cell_type": "code",
   "execution_count": 267,
   "metadata": {
    "collapsed": false
   },
   "outputs": [
    {
     "name": "stdout",
     "output_type": "stream",
     "text": [
      "integer division or modulo by zero\n"
     ]
    }
   ],
   "source": [
    "print other"
   ]
  },
  {
   "cell_type": "code",
   "execution_count": 277,
   "metadata": {
    "collapsed": false
   },
   "outputs": [
    {
     "name": "stdout",
     "output_type": "stream",
     "text": [
      "[4 3 6]\n"
     ]
    },
    {
     "data": {
      "text/plain": [
       "array([ 0.75252172,  0.49297883])"
      ]
     },
     "execution_count": 277,
     "metadata": {},
     "output_type": "execute_result"
    }
   ],
   "source": [
    "from numpy import random\n",
    "import numpy as np\n",
    "print random.randint(2, 10, 3)\n",
    "np.random.rand(2)"
   ]
  },
  {
   "cell_type": "code",
   "execution_count": 279,
   "metadata": {
    "collapsed": false
   },
   "outputs": [
    {
     "data": {
      "text/plain": [
       "array([[ 0.58787879,  0.67268285,  0.05809017],\n",
       "       [ 0.28221366,  0.90830293,  0.02439053]])"
      ]
     },
     "execution_count": 279,
     "metadata": {},
     "output_type": "execute_result"
    }
   ],
   "source": [
    "np.random.rand(2, 3)"
   ]
  },
  {
   "cell_type": "code",
   "execution_count": 300,
   "metadata": {
    "collapsed": false
   },
   "outputs": [
    {
     "name": "stdout",
     "output_type": "stream",
     "text": [
      "0.776\n"
     ]
    }
   ],
   "source": [
    "import numpy as np\n",
    "dart = np.random.rand(1000, 2)\n",
    "inner_circle = len([[i, j] for i, j in dart if i ** 2 + j ** 2 <= 1])\n",
    "print float(inner_circle) / 1000"
   ]
  },
  {
   "cell_type": "code",
   "execution_count": 301,
   "metadata": {
    "collapsed": false
   },
   "outputs": [
    {
     "data": {
      "image/png": "[encoded data removed]",
      "text/plain": [
       "<matplotlib.figure.Figure at 0x6ff57f0>"
      ]
     },
     "metadata": {},
     "output_type": "display_data"
    }
   ],
   "source": [
    "%matplotlib inline\n",
    "import matplotlib.pylab as plt\n",
    "\n",
    "x = [1, 2, 3, 4]\n",
    "y = [1, 2, 3, 4]\n",
    "plt.plot(x, y)\n",
    "plt.show()"
   ]
  },
  {
   "cell_type": "code",
   "execution_count": 303,
   "metadata": {
    "collapsed": false
   },
   "outputs": [
    {
     "ename": "ConnectionError",
     "evalue": "HTTPConnectionPool(host='www.daum.com', port=80): Max retries exceeded with url: / (Caused by NewConnectionError('<requests.packages.urllib3.connection.HTTPConnection object at 0x00000000084BC2B0>: Failed to establish a new connection: [Errno 11004] getaddrinfo failed',))",
     "output_type": "error",
     "traceback": [
      "\u001b[1;31m---------------------------------------------------------------------------\u001b[0m",
      "\u001b[1;31mConnectionError\u001b[0m                           Traceback (most recent call last)",
      "\u001b[1;32m<ipython-input-303-ea8320883466>\u001b[0m in \u001b[0;36m<module>\u001b[1;34m()\u001b[0m\n\u001b[0;32m      1\u001b[0m \u001b[1;32mimport\u001b[0m \u001b[0mrequests\u001b[0m\u001b[1;33m\u001b[0m\u001b[0m\n\u001b[0;32m      2\u001b[0m \u001b[1;32mfrom\u001b[0m \u001b[0mbs4\u001b[0m \u001b[1;32mimport\u001b[0m \u001b[0mBeautifulSoup\u001b[0m\u001b[1;33m\u001b[0m\u001b[0m\n\u001b[1;32m----> 3\u001b[1;33m \u001b[0mresponse\u001b[0m \u001b[1;33m=\u001b[0m \u001b[0mrequests\u001b[0m\u001b[1;33m.\u001b[0m\u001b[0mget\u001b[0m\u001b[1;33m(\u001b[0m\u001b[1;34m\"http://www.daum.com\"\u001b[0m\u001b[1;33m)\u001b[0m\u001b[1;33m\u001b[0m\u001b[0m\n\u001b[0m\u001b[0;32m      4\u001b[0m \u001b[1;32mprint\u001b[0m \u001b[0mresponse\u001b[0m\u001b[1;33m.\u001b[0m\u001b[0mtext\u001b[0m\u001b[1;33m\u001b[0m\u001b[0m\n",
      "\u001b[1;32mC:\\Users\\alexmoon\\Anaconda2\\lib\\site-packages\\requests\\api.pyc\u001b[0m in \u001b[0;36mget\u001b[1;34m(url, params, **kwargs)\u001b[0m\n\u001b[0;32m     69\u001b[0m \u001b[1;33m\u001b[0m\u001b[0m\n\u001b[0;32m     70\u001b[0m     \u001b[0mkwargs\u001b[0m\u001b[1;33m.\u001b[0m\u001b[0msetdefault\u001b[0m\u001b[1;33m(\u001b[0m\u001b[1;34m'allow_redirects'\u001b[0m\u001b[1;33m,\u001b[0m \u001b[0mTrue\u001b[0m\u001b[1;33m)\u001b[0m\u001b[1;33m\u001b[0m\u001b[0m\n\u001b[1;32m---> 71\u001b[1;33m     \u001b[1;32mreturn\u001b[0m \u001b[0mrequest\u001b[0m\u001b[1;33m(\u001b[0m\u001b[1;34m'get'\u001b[0m\u001b[1;33m,\u001b[0m \u001b[0murl\u001b[0m\u001b[1;33m,\u001b[0m \u001b[0mparams\u001b[0m\u001b[1;33m=\u001b[0m\u001b[0mparams\u001b[0m\u001b[1;33m,\u001b[0m \u001b[1;33m**\u001b[0m\u001b[0mkwargs\u001b[0m\u001b[1;33m)\u001b[0m\u001b[1;33m\u001b[0m\u001b[0m\n\u001b[0m\u001b[0;32m     72\u001b[0m \u001b[1;33m\u001b[0m\u001b[0m\n\u001b[0;32m     73\u001b[0m \u001b[1;33m\u001b[0m\u001b[0m\n",
      "\u001b[1;32mC:\\Users\\alexmoon\\Anaconda2\\lib\\site-packages\\requests\\api.pyc\u001b[0m in \u001b[0;36mrequest\u001b[1;34m(method, url, **kwargs)\u001b[0m\n\u001b[0;32m     55\u001b[0m     \u001b[1;31m# cases, and look like a memory leak in others.\u001b[0m\u001b[1;33m\u001b[0m\u001b[1;33m\u001b[0m\u001b[0m\n\u001b[0;32m     56\u001b[0m     \u001b[1;32mwith\u001b[0m \u001b[0msessions\u001b[0m\u001b[1;33m.\u001b[0m\u001b[0mSession\u001b[0m\u001b[1;33m(\u001b[0m\u001b[1;33m)\u001b[0m \u001b[1;32mas\u001b[0m \u001b[0msession\u001b[0m\u001b[1;33m:\u001b[0m\u001b[1;33m\u001b[0m\u001b[0m\n\u001b[1;32m---> 57\u001b[1;33m         \u001b[1;32mreturn\u001b[0m \u001b[0msession\u001b[0m\u001b[1;33m.\u001b[0m\u001b[0mrequest\u001b[0m\u001b[1;33m(\u001b[0m\u001b[0mmethod\u001b[0m\u001b[1;33m=\u001b[0m\u001b[0mmethod\u001b[0m\u001b[1;33m,\u001b[0m \u001b[0murl\u001b[0m\u001b[1;33m=\u001b[0m\u001b[0murl\u001b[0m\u001b[1;33m,\u001b[0m \u001b[1;33m**\u001b[0m\u001b[0mkwargs\u001b[0m\u001b[1;33m)\u001b[0m\u001b[1;33m\u001b[0m\u001b[0m\n\u001b[0m\u001b[0;32m     58\u001b[0m \u001b[1;33m\u001b[0m\u001b[0m\n\u001b[0;32m     59\u001b[0m \u001b[1;33m\u001b[0m\u001b[0m\n",
      "\u001b[1;32mC:\\Users\\alexmoon\\Anaconda2\\lib\\site-packages\\requests\\sessions.pyc\u001b[0m in \u001b[0;36mrequest\u001b[1;34m(self, method, url, params, data, headers, cookies, files, auth, timeout, allow_redirects, proxies, hooks, stream, verify, cert, json)\u001b[0m\n\u001b[0;32m    473\u001b[0m         }\n\u001b[0;32m    474\u001b[0m         \u001b[0msend_kwargs\u001b[0m\u001b[1;33m.\u001b[0m\u001b[0mupdate\u001b[0m\u001b[1;33m(\u001b[0m\u001b[0msettings\u001b[0m\u001b[1;33m)\u001b[0m\u001b[1;33m\u001b[0m\u001b[0m\n\u001b[1;32m--> 475\u001b[1;33m         \u001b[0mresp\u001b[0m \u001b[1;33m=\u001b[0m \u001b[0mself\u001b[0m\u001b[1;33m.\u001b[0m\u001b[0msend\u001b[0m\u001b[1;33m(\u001b[0m\u001b[0mprep\u001b[0m\u001b[1;33m,\u001b[0m \u001b[1;33m**\u001b[0m\u001b[0msend_kwargs\u001b[0m\u001b[1;33m)\u001b[0m\u001b[1;33m\u001b[0m\u001b[0m\n\u001b[0m\u001b[0;32m    476\u001b[0m \u001b[1;33m\u001b[0m\u001b[0m\n\u001b[0;32m    477\u001b[0m         \u001b[1;32mreturn\u001b[0m \u001b[0mresp\u001b[0m\u001b[1;33m\u001b[0m\u001b[0m\n",
      "\u001b[1;32mC:\\Users\\alexmoon\\Anaconda2\\lib\\site-packages\\requests\\sessions.pyc\u001b[0m in \u001b[0;36msend\u001b[1;34m(self, request, **kwargs)\u001b[0m\n\u001b[0;32m    583\u001b[0m \u001b[1;33m\u001b[0m\u001b[0m\n\u001b[0;32m    584\u001b[0m         \u001b[1;31m# Send the request\u001b[0m\u001b[1;33m\u001b[0m\u001b[1;33m\u001b[0m\u001b[0m\n\u001b[1;32m--> 585\u001b[1;33m         \u001b[0mr\u001b[0m \u001b[1;33m=\u001b[0m \u001b[0madapter\u001b[0m\u001b[1;33m.\u001b[0m\u001b[0msend\u001b[0m\u001b[1;33m(\u001b[0m\u001b[0mrequest\u001b[0m\u001b[1;33m,\u001b[0m \u001b[1;33m**\u001b[0m\u001b[0mkwargs\u001b[0m\u001b[1;33m)\u001b[0m\u001b[1;33m\u001b[0m\u001b[0m\n\u001b[0m\u001b[0;32m    586\u001b[0m \u001b[1;33m\u001b[0m\u001b[0m\n\u001b[0;32m    587\u001b[0m         \u001b[1;31m# Total elapsed time of the request (approximately)\u001b[0m\u001b[1;33m\u001b[0m\u001b[1;33m\u001b[0m\u001b[0m\n",
      "\u001b[1;32mC:\\Users\\alexmoon\\Anaconda2\\lib\\site-packages\\requests\\adapters.pyc\u001b[0m in \u001b[0;36msend\u001b[1;34m(self, request, stream, timeout, verify, cert, proxies)\u001b[0m\n\u001b[0;32m    465\u001b[0m                 \u001b[1;32mraise\u001b[0m \u001b[0mProxyError\u001b[0m\u001b[1;33m(\u001b[0m\u001b[0me\u001b[0m\u001b[1;33m,\u001b[0m \u001b[0mrequest\u001b[0m\u001b[1;33m=\u001b[0m\u001b[0mrequest\u001b[0m\u001b[1;33m)\u001b[0m\u001b[1;33m\u001b[0m\u001b[0m\n\u001b[0;32m    466\u001b[0m \u001b[1;33m\u001b[0m\u001b[0m\n\u001b[1;32m--> 467\u001b[1;33m             \u001b[1;32mraise\u001b[0m \u001b[0mConnectionError\u001b[0m\u001b[1;33m(\u001b[0m\u001b[0me\u001b[0m\u001b[1;33m,\u001b[0m \u001b[0mrequest\u001b[0m\u001b[1;33m=\u001b[0m\u001b[0mrequest\u001b[0m\u001b[1;33m)\u001b[0m\u001b[1;33m\u001b[0m\u001b[0m\n\u001b[0m\u001b[0;32m    468\u001b[0m \u001b[1;33m\u001b[0m\u001b[0m\n\u001b[0;32m    469\u001b[0m         \u001b[1;32mexcept\u001b[0m \u001b[0mClosedPoolError\u001b[0m \u001b[1;32mas\u001b[0m \u001b[0me\u001b[0m\u001b[1;33m:\u001b[0m\u001b[1;33m\u001b[0m\u001b[0m\n",
      "\u001b[1;31mConnectionError\u001b[0m: HTTPConnectionPool(host='www.daum.com', port=80): Max retries exceeded with url: / (Caused by NewConnectionError('<requests.packages.urllib3.connection.HTTPConnection object at 0x00000000084BC2B0>: Failed to establish a new connection: [Errno 11004] getaddrinfo failed',))"
     ]
    }
   ],
   "source": [
    "import requests\n",
    "from bs4 import BeautifulSoup\n",
    "response = requests.get(\"http://www.daum.com\")\n",
    "print response.text"
   ]
  },
  {
   "cell_type": "code",
   "execution_count": 309,
   "metadata": {
    "collapsed": false
   },
   "outputs": [
    {
     "name": "stdout",
     "output_type": "stream",
     "text": [
      "Counter({1: 3, 5: 2, 2: 1, 3: 1, 4: 1})\n",
      "Counter({1: 3, 5: 2, 2: 1, 3: 1, 4: 1})\n",
      "3\n"
     ]
    }
   ],
   "source": [
    "from collections import Counter\n",
    "\n",
    "a = [1, 1, 1, 2, 3, 4, 5, 5]\n",
    "b = Counter(a)\n",
    "print b\n",
    "#print dir(b)\n",
    "b.most_common()\n",
    "print b\n",
    "print b[1]"
   ]
  },
  {
   "cell_type": "code",
   "execution_count": 313,
   "metadata": {
    "collapsed": false
   },
   "outputs": [
    {
     "name": "stdout",
     "output_type": "stream",
     "text": [
      "{1: 3, 2: 1, 3: 1, 4: 1, 5: 2}\n"
     ]
    }
   ],
   "source": [
    "count_dict={}\n",
    "for i in a:\n",
    "    if i in count_dict:\n",
    "        count_dict[i] += 1\n",
    "    else:\n",
    "        count_dict[i] = 1\n",
    "\n",
    "print count_dict"
   ]
  },
  {
   "cell_type": "code",
   "execution_count": 315,
   "metadata": {
    "collapsed": false
   },
   "outputs": [
    {
     "name": "stdout",
     "output_type": "stream",
     "text": [
      "defaultdict(<type 'int'>, {1: 3, 2: 1, 3: 1, 4: 1, 5: 2})\n"
     ]
    }
   ],
   "source": [
    "from collections import defaultdict\n",
    "count_dict2 = defaultdict(int)\n",
    "\n",
    "for i in a:\n",
    "    count_dict2[i] += 1\n",
    "\n",
    "print count_dict2"
   ]
  },
  {
   "cell_type": "code",
   "execution_count": 319,
   "metadata": {
    "collapsed": false
   },
   "outputs": [
    {
     "name": "stdout",
     "output_type": "stream",
     "text": [
      "Counter({'the': 16, 'to': 8, 'for': 8, 'in': 6, 'Python': 6, 'a': 6, 'new': 4, 'and': 4, '2.7': 3, 'on': 3, 'refer': 2, 'This': 2, 'article': 2, 'of': 2, '3,': 2, 'features': 2, 'been': 2, 'was': 2, 'many': 2, 'convenient': 2, 'module,': 2, '2.7.': 2, 'you': 2, 'OrderedDict': 1, 'help': 1, 'particular': 1, 'possible,': 1, 'should': 1, 'other': 1, 'collections': 1, 'has': 1, 'features,': 1, 'good': 1, 'New': 1, 'Python\\xe2\\x80\\x9d': 1, 'Numeric': 1, 'item': 1, 'each': 1, 'release': 1, 'For': 1, 'series': 1, 'some': 1, 'module': 1, 'design': 1, 'are': 1, 'enhanced': 1, 'term.': 1, 'change.': 1, 'specification': 1, 'provides': 1, 'July': 1, 'issue': 1, '2010.': 1, 'be': 1, 'we': 1, 'full': 1, 'Counter': 1, 'standard': 1, '2.x': 1, '3.x': 1, 'both': 1, 'improved': 1, 'planned': 1, 'or': 1, 'useful': 1, 'unittest': 1, 'There': 1, 'PEP': 1, 'parsing': 1, '\\xe2\\x80\\x9cWhat\\xe2\\x80\\x99s': 1, 'additions': 1, 'from': 1, 'ways,': 1, 'long': 1, 'change': 1, 'porting': 1, 'improvements.': 1, 'complete': 1, 'Whenever': 1, 'options,': 1, 'but': 1, 'releases,': 1, 'released': 1, 'understand': 1, 'If': 1, 'last': 1, 'worked': 1, 'with': 1, 'floating-point': 1, 'handling': 1, 'overview.': 1, 'classes': 1, 'making': 1, 'at': 1, 'want': 1, 'links': 1, 'is': 1, 'it': 1, 'To': 1, 'as': 1, 'numbers': 1, 'have': 1, 'class.': 1, 'https://docs.python.org.': 1, 'feature': 1, 'details,': 1, 'which': 1, 'bug/patch': 1, 'instead': 1, 'several': 1, 'explains': 1, 'Decimal': 1, 'greatly': 1, 'discussed.': 1, 'implementation,': 1, 'https://bugs.python.org': 1, 'rationale': 1, 'included': 1, 'such': 1, 'argparse': 1, 'attempt': 1, 'command-line': 1, 'documentation': 1, 'provide': 1, 'so': 1, 'doesn\\xe2\\x80\\x99t': 1, 'library,': 1})\n",
      "[('the', 16), ('to', 8), ('for', 8), ('in', 6), ('Python', 6), ('a', 6), ('new', 4), ('and', 4), ('2.7', 3), ('on', 3), ('refer', 2), ('This', 2), ('article', 2), ('of', 2), ('3,', 2), ('features', 2), ('been', 2), ('was', 2), ('many', 2), ('convenient', 2), ('module,', 2), ('2.7.', 2), ('you', 2), ('OrderedDict', 1), ('help', 1), ('particular', 1), ('possible,', 1), ('should', 1), ('other', 1), ('collections', 1), ('has', 1), ('features,', 1), ('good', 1), ('New', 1), ('Python\\xe2\\x80\\x9d', 1), ('Numeric', 1), ('item', 1), ('each', 1), ('release', 1), ('For', 1), ('series', 1), ('some', 1), ('module', 1), ('design', 1), ('are', 1), ('enhanced', 1), ('term.', 1), ('change.', 1), ('specification', 1), ('provides', 1), ('July', 1), ('issue', 1), ('2010.', 1), ('be', 1), ('we', 1), ('full', 1), ('Counter', 1), ('standard', 1), ('2.x', 1), ('3.x', 1), ('both', 1), ('improved', 1), ('planned', 1), ('or', 1), ('useful', 1), ('unittest', 1), ('There', 1), ('PEP', 1), ('parsing', 1), ('\\xe2\\x80\\x9cWhat\\xe2\\x80\\x99s', 1), ('additions', 1), ('from', 1), ('ways,', 1), ('long', 1), ('change', 1), ('porting', 1), ('improvements.', 1), ('complete', 1), ('Whenever', 1), ('options,', 1), ('but', 1), ('releases,', 1), ('released', 1), ('understand', 1), ('If', 1), ('last', 1), ('worked', 1), ('with', 1), ('floating-point', 1), ('handling', 1), ('overview.', 1), ('classes', 1), ('making', 1), ('at', 1), ('want', 1), ('links', 1), ('is', 1), ('it', 1), ('To', 1), ('as', 1), ('numbers', 1), ('have', 1), ('class.', 1), ('https://docs.python.org.', 1), ('feature', 1), ('details,', 1), ('which', 1), ('bug/patch', 1), ('instead', 1), ('several', 1), ('explains', 1), ('Decimal', 1), ('greatly', 1), ('discussed.', 1), ('implementation,', 1), ('https://bugs.python.org', 1), ('rationale', 1), ('included', 1), ('such', 1), ('argparse', 1), ('attempt', 1), ('command-line', 1), ('documentation', 1), ('provide', 1), ('so', 1), ('doesn\\xe2\\x80\\x99t', 1), ('library,', 1)]\n"
     ]
    }
   ],
   "source": [
    "news = '''This article explains the new features in Python 2.7. Python 2.7 was released on July 3, 2010.\n",
    "\n",
    "Numeric handling has been improved in many ways, for both floating-point numbers and for the Decimal class. There are some useful additions to the standard library, such as a greatly enhanced unittest module, the argparse module for parsing command-line options, convenient OrderedDict and Counter classes in the collections module, and many other improvements.\n",
    "\n",
    "Python 2.7 is planned to be the last of the 2.x releases, so we worked on making it a good release for the long term. To help with porting to Python 3, several new features from the Python 3.x series have been included in 2.7.\n",
    "\n",
    "This article doesn’t attempt to provide a complete specification of the new features, but instead provides a convenient overview. For full details, you should refer to the documentation for Python 2.7 at https://docs.python.org. If you want to understand the rationale for the design and implementation, refer to the PEP for a particular new feature or the issue on https://bugs.python.org in which a change was discussed. Whenever possible, “What’s New in Python” links to the bug/patch item for each change.'''\n",
    "\n",
    "words = news.split()\n",
    "print Counter(words)\n",
    "print Counter(words).most_common()"
   ]
  },
  {
   "cell_type": "code",
   "execution_count": 335,
   "metadata": {
    "collapsed": false
   },
   "outputs": [
    {
     "name": "stdout",
     "output_type": "stream",
     "text": [
      "<class 'collections.OrderedDict'>\n",
      "OrderedDict([(1, 'a'), (3, 'b'), (2, 'g')])\n",
      "[(1, 'a'), (3, 'b'), (2, 'g')]\n",
      "[('a', 2), ('c', 5), ('d', 1)]\n",
      "[(1, 'a'), (2, 'g'), (3, 'b')]\n",
      "['a', 'c', 'd']\n"
     ]
    }
   ],
   "source": [
    "from collections import OrderedDict\n",
    "\n",
    "dict1 = OrderedDict()\n",
    "dict1[1] = 'a'\n",
    "dict1[3] = 'b'\n",
    "dict1[2] = 'g'\n",
    "\n",
    "print type(dict1)\n",
    "print dict1\n",
    "print dict1.items()\n",
    "\n",
    "dict2 = {'a' : 2, 'd' : 1, 'c' : 5}\n",
    "print dict2.items()\n",
    "dict3 = sorted(dict1.items(), key = lambda x : x[0])\n",
    "print dict3\n",
    "dict4 = sorted(dict2, key = lambda x : x[0])\n",
    "print dict4"
   ]
  },
  {
   "cell_type": "code",
   "execution_count": 336,
   "metadata": {
    "collapsed": false
   },
   "outputs": [
    {
     "ename": "AttributeError",
     "evalue": "'list' object has no attribute 'keys'",
     "output_type": "error",
     "traceback": [
      "\u001b[1;31m---------------------------------------------------------------------------\u001b[0m",
      "\u001b[1;31mAttributeError\u001b[0m                            Traceback (most recent call last)",
      "\u001b[1;32m<ipython-input-336-335f225f828b>\u001b[0m in \u001b[0;36m<module>\u001b[1;34m()\u001b[0m\n\u001b[0;32m      1\u001b[0m \u001b[0mlisttuple\u001b[0m\u001b[1;33m=\u001b[0m\u001b[1;33m[\u001b[0m\u001b[1;33m(\u001b[0m\u001b[1;36m1\u001b[0m\u001b[1;33m,\u001b[0m \u001b[1;34m'a'\u001b[0m\u001b[1;33m)\u001b[0m\u001b[1;33m,\u001b[0m \u001b[1;33m(\u001b[0m\u001b[1;36m2\u001b[0m\u001b[1;33m,\u001b[0m \u001b[1;34m'b'\u001b[0m\u001b[1;33m)\u001b[0m\u001b[1;33m]\u001b[0m\u001b[1;33m\u001b[0m\u001b[0m\n\u001b[1;32m----> 2\u001b[1;33m \u001b[1;32mprint\u001b[0m \u001b[0mlisttuple\u001b[0m\u001b[1;33m.\u001b[0m\u001b[0mkeys\u001b[0m\u001b[1;33m(\u001b[0m\u001b[1;33m)\u001b[0m\u001b[1;33m\u001b[0m\u001b[0m\n\u001b[0m",
      "\u001b[1;31mAttributeError\u001b[0m: 'list' object has no attribute 'keys'"
     ]
    }
   ],
   "source": [
    "listtuple = [(1, 'a'), (2, 'b')]\n",
    "print listtuple.keys()"
   ]
  },
  {
   "cell_type": "code",
   "execution_count": null,
   "metadata": {
    "collapsed": true
   },
   "outputs": [],
   "source": []
  }
 ],
 "metadata": {
  "anaconda-cloud": {},
  "kernelspec": {
   "display_name": "Python [Root]",
   "language": "python",
   "name": "Python [Root]"
  },
  "language_info": {
   "codemirror_mode": {
    "name": "ipython",
    "version": 2
   },
   "file_extension": ".py",
   "mimetype": "text/x-python",
   "name": "python",
   "nbconvert_exporter": "python",
   "pygments_lexer": "ipython2",
   "version": "2.7.12"
  }
 },
 "nbformat": 4,
 "nbformat_minor": 0
}
