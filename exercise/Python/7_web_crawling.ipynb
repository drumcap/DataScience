{
 "cells": [
  {
   "cell_type": "code",
   "execution_count": 8,
   "metadata": {
    "collapsed": false
   },
   "outputs": [
    {
     "name": "stdout",
     "output_type": "stream",
     "text": [
      "200\n",
      "['__doc__', '__init__', '__iter__', '__module__', '__repr__', 'close', 'code', 'fileno', 'fp', 'getcode', 'geturl', 'headers', 'info', 'next', 'read', 'readline', 'readlines', 'url']\n",
      "<type 'str'>\n"
     ]
    }
   ],
   "source": [
    "import urllib\n",
    "res = urllib.urlopen(\"http://www.naver.com\")\n",
    "print res.code\n",
    "print dir(res)\n",
    "data = res.read()\n",
    "#print data\n",
    "print type(data)"
   ]
  },
  {
   "cell_type": "code",
   "execution_count": 11,
   "metadata": {
    "collapsed": false
   },
   "outputs": [
    {
     "name": "stdout",
     "output_type": "stream",
     "text": [
      "['__attrs__', '__bool__', '__class__', '__delattr__', '__dict__', '__doc__', '__format__', '__getattribute__', '__getstate__', '__hash__', '__init__', '__iter__', '__module__', '__new__', '__nonzero__', '__reduce__', '__reduce_ex__', '__repr__', '__setattr__', '__setstate__', '__sizeof__', '__str__', '__subclasshook__', '__weakref__', '_content', '_content_consumed', 'apparent_encoding', 'close', 'connection', 'content', 'cookies', 'elapsed', 'encoding', 'headers', 'history', 'is_permanent_redirect', 'is_redirect', 'iter_content', 'iter_lines', 'json', 'links', 'ok', 'raise_for_status', 'raw', 'reason', 'request', 'status_code', 'text', 'url']\n"
     ]
    }
   ],
   "source": [
    "import requests\n",
    "res = requests.get(\"http://www.naver.com\")\n",
    "print dir(res)\n",
    "#print res.text"
   ]
  },
  {
   "cell_type": "code",
   "execution_count": 18,
   "metadata": {
    "collapsed": false
   },
   "outputs": [
    {
     "name": "stdout",
     "output_type": "stream",
     "text": [
      "{u'status': u'OK', u'results': [{u'geometry': {u'location': {u'lat': 37.4846743, u'lng': 127.0298918}, u'viewport': {u'northeast': {u'lat': 37.4935278, u'lng': 127.0458992}, u'southwest': {u'lat': 37.4758197, u'lng': 127.0138844}}, u'location_type': u'ROOFTOP'}, u'address_components': [{u'long_name': u'6', u'types': [u'political', u'premise'], u'short_name': u'6'}, {u'long_name': u'Seoun-ro', u'types': [u'political', u'sublocality', u'sublocality_level_4'], u'short_name': u'Seoun-ro'}, {u'long_name': u'Seocho-gu', u'types': [u'political', u'sublocality', u'sublocality_level_1'], u'short_name': u'Seocho-gu'}, {u'long_name': u'Seoul', u'types': [u'locality', u'political'], u'short_name': u'Seoul'}, {u'long_name': u'South Korea', u'types': [u'country', u'political'], u'short_name': u'KR'}, {u'long_name': u'137-070', u'types': [u'postal_code'], u'short_name': u'137-070'}], u'place_id': u'ChIJsfWiekihfDURQfCAeJRBHeo', u'formatted_address': u'6 Seoun-ro, Seocho-gu, Seoul, South Korea', u'types': [u'political', u'premise']}]}\n",
      "OK\n",
      "<type 'dict'>\n"
     ]
    }
   ],
   "source": [
    "import json\n",
    "\n",
    "api_end_point = 'https://maps.googleapis.com/maps/api/geocode/json?address=서울특별시 서초구 서운로 6&key=' + api_key\n",
    "\n",
    "res = requests.get(api_end_point)\n",
    "data = json.loads(res.text)\n",
    "print data\n",
    "print data['status']\n",
    "print type(data)"
   ]
  },
  {
   "cell_type": "code",
   "execution_count": 20,
   "metadata": {
    "collapsed": false
   },
   "outputs": [
    {
     "name": "stdout",
     "output_type": "stream",
     "text": [
      "<type 'unicode'>\n"
     ]
    },
    {
     "ename": "TypeError",
     "evalue": "string indices must be integers",
     "output_type": "error",
     "traceback": [
      "\u001b[1;31m---------------------------------------------------------------------------\u001b[0m",
      "\u001b[1;31mTypeError\u001b[0m                                 Traceback (most recent call last)",
      "\u001b[1;32m<ipython-input-20-87362520e045>\u001b[0m in \u001b[0;36m<module>\u001b[1;34m()\u001b[0m\n\u001b[0;32m      5\u001b[0m \u001b[0mdata\u001b[0m \u001b[1;33m=\u001b[0m \u001b[0mres\u001b[0m\u001b[1;33m.\u001b[0m\u001b[0mtext\u001b[0m\u001b[1;33m\u001b[0m\u001b[0m\n\u001b[0;32m      6\u001b[0m \u001b[1;32mprint\u001b[0m \u001b[0mtype\u001b[0m\u001b[1;33m(\u001b[0m\u001b[0mdata\u001b[0m\u001b[1;33m)\u001b[0m\u001b[1;33m\u001b[0m\u001b[0m\n\u001b[1;32m----> 7\u001b[1;33m \u001b[1;32mprint\u001b[0m \u001b[0mdata\u001b[0m\u001b[1;33m[\u001b[0m\u001b[1;34m\"status\"\u001b[0m\u001b[1;33m]\u001b[0m\u001b[1;33m\u001b[0m\u001b[0m\n\u001b[0m",
      "\u001b[1;31mTypeError\u001b[0m: string indices must be integers"
     ]
    }
   ],
   "source": [
    "api_end_point = 'https://maps.googleapis.com/maps/api/geocode/json?address=서울특별시 서초구 서운로 6&key=' + api_key\n",
    "\n",
    "res = requests.get(api_end_point)\n",
    "data = res.text\n",
    "print type(data)\n",
    "#print data[\"status\"]"
   ]
  },
  {
   "cell_type": "code",
   "execution_count": 31,
   "metadata": {
    "collapsed": false
   },
   "outputs": [
    {
     "name": "stdout",
     "output_type": "stream",
     "text": [
      "{u'lat': 37.5370192, u'lng': 126.8735297}\n"
     ]
    }
   ],
   "source": [
    "import requests\n",
    "import json\n",
    "\n",
    "api_end_point = 'https://maps.googleapis.com/maps/api/geocode/json?address=서울특별시 양천구 목동 현대월드타워&key=' + api_key\n",
    "\n",
    "res = requests.get(api_end_point)\n",
    "data = json.loads(res.text)\n",
    "print data['results'][0]['geometry']['location']\n"
   ]
  },
  {
   "cell_type": "code",
   "execution_count": 4,
   "metadata": {
    "collapsed": false
   },
   "outputs": [
    {
     "name": "stdout",
     "output_type": "stream",
     "text": [
      "中, 단둥 무역회사 10여곳 대표 체포..독자제재 시작했나 | Daum 뉴스\n",
      "<h3 class=\"tit_view\">中, 단둥 무역회사 10여곳 대표 체포..독자제재 시작했나</h3>\n",
      "(선양=연합뉴스) 홍창진 특파원 = 북한의 핵프로그램 개발 관련 물자를 제공한 의혹이 공개된 훙샹(鴻祥)산업개발공사 외에 중국 단둥(丹東)의 무역회사 10여 사 대표들이 무더기 체포된 것으로 전해졌다.21일 북중접경 소식통들에 따르면 중국 공안이 무역과정에서 불법거래 등 중대한 경제범죄를 저지른 혐의로 지난 8월 초 단둥에서 활동하는 무역회사 대표 10여 명을 체포해 조사 중이다.접경지역의 한 소식통은 \"조사중이라는 사실을 중국 당국이 확인해준 훙샹그룹 외에도 최소한 7~8개 기업이 조사를 받고 있다\"며 \"공안이 지난달 초 이미 이들을 체포해 엄중하게 조사하고 있다\"고 전했다.소식통들은 이들과 별도로 훙샹산업개발공사 모회사인 랴오닝(遼寧)훙샹그룹의 마샤오훙(馬曉紅·45) 총재도 최근 체포됐다고 확인했다.공안 당국이 이들의 구체적인 범죄혐의를 적시하지 않고 있으나 중국의 독자적인 대북 제재에 시동이 걸렸다고 볼 수 있다는 것이 소식통들의 일치된 견해다. 훙샹의 경우 미국 측이 범죄사실을 중국측에 알리는 등 양국 공조 성격이 있지만 이와 별도로 적발된 10여곳은 대북 불법거래 기업에 대한 중국 당국의 선제적·독자적 제재 성격이라는 설명이다.한 소식통은 \"일부 기업은 달러 등 다량의 외환을 밀반출한 혐의도 받는 것으로 안다\"고 말했다.  또다른 소식통은 \"최근 단둥해관에서 웅담 40개를 밀수하려던 북한 사람이 적발되거나 복대에 미화를 감추고 접경을 오가던 남성이 체포되는 등 중국 당국 제재가 엄격해졌다\"면서 \"과거 눈감아주던 일들을 원칙대로 처리하고 있다\"고 말했다.소식통들은 이들 불법 대북교역행위를 한 기업에 대한 처리 수준은 매우 높을 것으로 보인다고 전했다.한 소식통은 \"중국이 북한의 거듭된 핵실험을 용인한다는 국제사회 시각을 잠재우기 위해서라도 핵실험 연계 기업들에 대해 중징계가 불가피할 것\"이라고 예상했다. realism@yna.co.kr<저작권자(c) 연합뉴스, 무단 전재-재배포 금지>\n",
      "[한겨레] 출고가 89만9800원으로 결정 전작 V10보다 10만원이나 올려 스마트폰사업 적자 감축 고민 삼성-애플 빈 공간 파고들지 관심 경쟁작의 빈틈을 노린 베팅인가.삼성전자 갤럭시노트7의 리콜이 스마트폰 시장 판도에 미칠 영향이 주목되는 가운데, 엘지(LG)전자가 새 프리미엄 스마트폰 V20의 가격을 ‘예상’보다 높게 책정해 눈길을 끌고 있다. 시장 석권을 노리던 갤럭시노트7이 주춤한 사이 반사이익을 누리려는 노림수가 있다는 분석과, 다소 낙관적인 가격 전략이라는 관전평이 동시에 나온다.엘지전자는 29일부터 판매하는 V20의 출고가를 89만9800원으로 책정했다고 20일 밝혔다. 같은 대화면 ‘패블릿’ 스마트폰인 갤럭시노트7(98만8900원)보다는 낮지만, 전작인 V10(79만9700원)에 견줘 10만원 뛰었다. 최근 나온 애플 아이폰7 시리즈가 70만~80만원대인 것을 고려하면 V20가 몸값을 높게 불렀다는 평가가 더 무게를 얻을 법하다.  업계에서는 특히 아이폰7이 국내에 상륙하지 않은 가운데 갤럭시노트7이 고전하는 상황을 파고든 것 아니냐는 관측도 나온다. 상반기에 출시된 엘지전자 프리미엄폰 G5의 실패까지 떠올리면 ‘베팅’의 측면이 강하다고 보는 것이다.그런데 엘지전자 주가는 이날 1.6% 떨어진 4만9200원으로 마감했다. 노근창 에이치엠씨(HMC)투자증권 리서치센터장은 “V20 출고가가 높지 않으냐는 우려가 주가에 영향을 준 것으로 보인다. 엘지전자의 실적은 스마트폰을 담당하는 엠시(MC)사업본부가 좋아져야 올라가는데, V20이 출시됐어도 3분기까지는 어려울 것으로 전망한다”고 말했다. 엘지전자는 2분기에 엠시사업본부에서 1535억원의 적자를 봤다.엘지전자는 성능에 걸맞은 합리적인 가격이라고 설명한다. 엘지전자 관계자는 “홍채인식을 빼고는 V20의 성능은 경쟁사 제품보다 떨어지지 않는다. 또 파격적인 프로모션을 걸었기 때문에 소비자들 호응이 있으리라 생각한다”고 말했다. 10월31일까지 구매하면 블루투스 이어폰 ‘엘지 톤플러스(HBS-900)’와 ‘엘지 블루투스 스피커(PH1)’, 배터리팩을 묶은 정가 20만7천원어치 ‘사운드 패키지’를 5천원에 살 수 있어 출고가 하나만 볼 것은 아니라는 설명이다. 또 제휴 신한카드로 사면 환급과 요금할인으로 최대 46만원을 할인받을 수 있다고 밝혔다.할인혜택을 내걸었지만 엘지전자의 고민은 사실 복잡하다. 엘지전자 사정을 잘 아는 업계 관계자는 “경쟁사(삼성전자)는 판매 목표가 천만대 단위다. 엘지는 그에 못 미친다. 그동안 투입된 개발비를 뽑으려면 가격을 높일 수밖에 없다”고 했다. 그러나 업계 일각에서는 단기 경영실적보다 스마트폰 시장 실지 회복을 중시한다면 가격을 더 낮춰 수요를 끌어올리는 게 낫지 않으냐는 분석도 나온다.한편 갤럭시노트7의 배터리 문제가 불거진 뒤 구형 갤럭시노트를 찾는 이들이 늘어난 것으로 집계되고 있다. 휴대전화 유통 전문업체인 착한텔레콤은 지난달 중고 휴대전화 쇼핑몰인 세컨폰과 오픈마켓, 소셜코머스, 번개장터, 다이소 휴대폰자판기 등을 통해 접수된 1529건의 중고 휴대전화 주문 내역을 분석했더니 갤럭시노트4가 21.2%로 가장 많은 것으로 집계됐다고 밝혔다. 성능이 검증된데다 출시된 지 15개월이 지나 단말기유통법의 지원금 상한을 적용받지 않고, 재고 소진 필요로 이동통신사들이 지원금을 듬뿍 주기 때문으로 풀이된다.이완 김재섭 기자 wani@hani.co.kr\n"
     ]
    }
   ],
   "source": [
    "import requests\n",
    "from bs4 import BeautifulSoup\n",
    "\n",
    "def get_news_title(url):\n",
    "    response = requests.get(url)\n",
    "    content = response.text\n",
    "    \n",
    "    soup = BeautifulSoup(content)\n",
    "    title = soup.title.get_text()\n",
    "    \n",
    "    return title\n",
    "\n",
    "def get_news_title2(url):\n",
    "    response = requests.get(url)\n",
    "    content = response.text\n",
    "    \n",
    "    soup = BeautifulSoup(content)\n",
    "    title = soup.find('h3', attrs = {'class' : 'tit_view'})\n",
    "    \n",
    "    return title\n",
    "\n",
    "def get_news_content(url):\n",
    "    response = requests.get(url)\n",
    "    content = response.text\n",
    "    \n",
    "    soup = BeautifulSoup(content)\n",
    "    div = soup.find('div', attrs = {'id' : 'harmonyContainer'})\n",
    "    \n",
    "    cont = ''\n",
    "    for paragraph in div.find_all('p'):\n",
    "        cont += paragraph.get_text()\n",
    "        \n",
    "    return cont.encode('utf-8')\n",
    "\n",
    "title1 = get_news_title('http://media.daum.net/foreign/newsview?newsid=20160921114543616')\n",
    "title2 = get_news_title2('http://media.daum.net/foreign/newsview?newsid=20160921114543616')\n",
    "news1 = get_news_content('http://media.daum.net/foreign/newsview?newsid=20160921114543616')\n",
    "news2 = get_news_content('http://media.daum.net/digital/newsview?newsid=20160920180606199')    \n",
    "\n",
    "\n",
    "print title1\n",
    "print title2\n",
    "print news1\n",
    "print news2\n"
   ]
  },
  {
   "cell_type": "code",
   "execution_count": 45,
   "metadata": {
    "collapsed": false
   },
   "outputs": [
    {
     "name": "stdout",
     "output_type": "stream",
     "text": [
      "유해진 \n",
      "이준 \n",
      "조윤희 \n",
      "임지연 \n",
      "이동휘 \n",
      "전혜빈 \n",
      "이용녀 \n"
     ]
    }
   ],
   "source": [
    "import requests\n",
    "from bs4 import BeautifulSoup\n",
    "\n",
    "data1 = {}\n",
    "data1['section'] = 'actor'\n",
    "data1['period_start'] = '2016-10'\n",
    "data1['gender'] = 'all'\n",
    "data1['page'] = '1'\n",
    "\n",
    "response = requests.post(\"http://www.cine21.com/rank/person/content\", data = data1)\n",
    "contents = response.text\n",
    "soup = BeautifulSoup(contents)\n",
    "\n",
    "for person in soup.find_all('div', attrs = {'class' : 'name'}):\n",
    "    print re.sub(r'\\(.+\\)', ' ' ,person.get_text())"
   ]
  },
  {
   "cell_type": "code",
   "execution_count": 94,
   "metadata": {
    "collapsed": false
   },
   "outputs": [
    {
     "name": "stdout",
     "output_type": "stream",
     "text": [
      "혁신 없다지만.. 아이폰7엔 네 가지가 있었다\n"
     ]
    }
   ],
   "source": [
    "import requests\n",
    "from bs4 import BeautifulSoup\n",
    "\n",
    "def get_news_title3(url):\n",
    "    response = requests.get(url)\n",
    "    soup = BeautifulSoup(response.content)\n",
    "    \n",
    "    title = soup.find(lambda x : x.name =='h3')\n",
    "    \n",
    "    return title.get_text()\n",
    "\n",
    "print get_news_title3('http://media.daum.net/digital/newsview?newsid=20160929044237479#alex-area')"
   ]
  },
  {
   "cell_type": "code",
   "execution_count": 1,
   "metadata": {
    "collapsed": false
   },
   "outputs": [
    {
     "name": "stdout",
     "output_type": "stream",
     "text": [
      "최창엽\n",
      "류재영\n",
      "연금복권\n",
      "엘시티\n",
      "2016 아시아 아티스트 어워즈\n",
      "수목드라마\n",
      "박근혜 길라임\n",
      "푸른 바다의 전설\n",
      "여자의 비밀\n",
      "jtbc 뉴스룸\n",
      "최창엽\n"
     ]
    },
    {
     "name": "stderr",
     "output_type": "stream",
     "text": [
      "C:\\Users\\alexmoon\\Anaconda2\\lib\\site-packages\\bs4\\__init__.py:166: UserWarning: No parser was explicitly specified, so I'm using the best available HTML parser for this system (\"lxml\"). This usually isn't a problem, but if you run this code on another system, or in a different virtual environment, it may use a different parser and behave differently.\n",
      "\n",
      "To get rid of this warning, change this:\n",
      "\n",
      " BeautifulSoup([your markup])\n",
      "\n",
      "to this:\n",
      "\n",
      " BeautifulSoup([your markup], \"lxml\")\n",
      "\n",
      "  markup_type=markup_type))\n"
     ]
    }
   ],
   "source": [
    "import requests \n",
    "from bs4 import BeautifulSoup\n",
    "import re\n",
    "\n",
    "response = requests.get(\"http://www.naver.com\")\n",
    "soup = BeautifulSoup(response.content)\n",
    "\n",
    "ranklist = soup.find('ol', attrs = {'id' : 'realrank'})\n",
    "for li in ranklist.find_all('li'):\n",
    "    print li.a['title']"
   ]
  },
  {
   "cell_type": "code",
   "execution_count": 18,
   "metadata": {
    "collapsed": false
   },
   "outputs": [
    {
     "name": "stdout",
     "output_type": "stream",
     "text": [
      "1\n",
      "3\n"
     ]
    }
   ],
   "source": [
    "import time\n",
    "print '1'\n",
    "time.sleep(3)\n",
    "print '3'"
   ]
  },
  {
   "cell_type": "code",
   "execution_count": 22,
   "metadata": {
    "collapsed": false
   },
   "outputs": [],
   "source": [
    "from selenium import webdriver\n",
    "from selenium.webdriver.common.keys import Keys\n",
    "\n",
    "chromedriver = './chromedriver'\n",
    "driver = webdriver.Chrome(chromedriver)\n",
    "driver.get(\"http://www.python.org\")\n",
    "\n",
    "assert \"Python\" in driver.title\n",
    "elem = driver.find_element_by_name(\"q\")\n",
    "\n",
    "elem.clear()\n",
    "elem.send_keys(\"python\")\n",
    "elem.send_keys(Keys.RETURN)\n",
    "\n",
    "assert \"No result found.\" not in driver.page_source\n",
    "driver.quit()"
   ]
  },
  {
   "cell_type": "code",
   "execution_count": 51,
   "metadata": {
    "collapsed": false,
    "scrolled": true
   },
   "outputs": [
    {
     "name": "stdout",
     "output_type": "stream",
     "text": [
      "\n",
      "(서울=연합뉴스) 전성훈 기자 = '비선 실세' 최순실 사건에 관여한 의혹이 제기된 박근혜 대통령이 '조사 연기'를 요구해 사실상 '거부' 입장을 밝힌 가운데 검찰은 '대면조사' 원칙을 거듭 강조해 최종적으로 어떤 대응을 할지 초미의 관심사다.\n",
      "청와대 측이 사실상 '시간 끌기 작전'에 들어간 게 아니냐는 관측이 나오는 가운데 검찰도 대면조사의 무산 가능성을 대비해야 한다는 목소리도 커지는 양상이다.\n",
      "검찰 특별수사본부(본부장 이영렬 서울중앙지검장) 관계자는 16일 언론 브리핑에서 \"그야말로 마지노선을 넘었다. 그 선까지 넘어 양보하면 금요일(18일)까지 가능하다고 입장을 전할 예정\"이라고 말했다.\n",
      "이는 사실상의 '최후통첩' 성격으로 받아들여진다. 최순실(60·구속)씨의 구속 기한이 만료되는 20일까지 재판에 넘겨야 하는 촉박한 일정을 고려해 검찰이 현실적으로 수용 가능한 '데드라인'을 제시한셈이다.\n",
      "하지만 지금까지의 청와대 태도를 고려할 때 박 대통령 조사가 어려울 수도 있다는 우려가 안팎에서 나온다.\n",
      "청와대는 이날 오후 늦게까지 검찰의 최후통첩성 메시지에 이렇다 할 반응을 보이지 않았다.\n",
      "대통령 변호인인 유영하 변호사가 전날 직접 \"변론 준비를 하는데 상당한 시간이 필요하다\", \"모든 의혹이 정리된 뒤 대통령을 조사하는 게 합리적이다\"는 등 강한 톤으로 조사 일정 연기를 주장한 뒤 숨 고르기를 하는 모양새다.\n",
      "변호인 의견 형식으로 박 대통령 입장을 전달한 만큼 여론 향배를 주시하며 '정중동' 모드로 들어간 게 아니냐는 분석이다.\n",
      "수사팀 내부에서도 '당장 대통령 대면조사가 어렵지 않겠느냐'는 우려가 감지된다.\n",
      "이런 가운데 검찰이 '데드라인' 이내에 대면조사가 어려운 상황을 가정해 '플랜B'를 검토한다는 관측도 나온다.\n",
      "수사팀 관계자가 이날 취재진에 \"(박 대통령이) 조사를 안 받으시면 안 받는 대로 일정한 결론을 내야 하지 않겠나\"라고 밝힌 것도 맥을 같이 한다.\n",
      "다른 검찰 관계자도 \"검찰이 아무것도 안 하고 기다릴 수만은 없는 것 아니냐\"며 '예비 안'을 준비하고 있음을 시사했다.\n",
      "박 대통령을 강제로 조사할 수 없는 현 상황에서 검찰의 선택지는 박 대통령의 역할을 어느 선까지 담을지가 핵심이다.\n",
      "박 대통령의 지시·공모·관여 여부가 어떻게 표현될지, 대통령의 신분은 단순한 참고인인지 '피의자성 참고인'인지 아니면 '피해자성 참고인'인지 등도 관심거리다.\n",
      "최씨의 공소장에 미르·K스포츠재단과 청와대 문건 유출 등과 관련한 박 대통령의 역할과 다른 피의자들과의 공모 관계 등을 비교적 구체적으로 기술하는 방안도 거론된다.\n",
      "여의치 않을 경우 22∼23일 각각 구속 기한이 만료되는 안종범(57) 전 청와대 정책조정수석비서관, 정호성(47) 전 청와대 부속비서관의 공소장에 혐의 사실별로 박 대통령이 언급될 가능성도 있다.\n",
      "이들 핵심 인물의 공소장이 공개되고 박 대통령에 대한 추가 조사 필요성이 제기될 경우 여야가 합의한 특별검사 출범 전 대면조사의 기회를 엿볼 수 있다는 관측이 나온다.\n",
      "하지만 검찰은 공식적으로는 이번 주 중 박 대통령 조사가 성사될 수 있다는 기대를 버리지 않고 있다. 일단 '원칙론' 외에 다른 길을 생각할 필요가 없다는 것이다. 만약 상황이 변화한다면 그때 가서 '플랜B'를 따져본다는 얘기다.\n",
      "검찰 관계자는 \"검찰이 제안한 최종 날짜까지는 아직 이틀이라는 시간이 남았다. 이 순간까지는 다른 대안을 생각할 시간도, 그럴 필요도 없다\"고 말했다.\n",
      "lucho@yna.co.kr\n",
      "<저작권자(c) 연합뉴스, 무단 전재-재배포 금지>\n"
     ]
    }
   ],
   "source": [
    "from selenium import webdriver\n",
    "\n",
    "chormedriver = './chromedriver'\n",
    "driver = webdriver.Chrome(chromedriver)\n",
    "driver.get(\"http://v.media.daum.net/v/20161116200216866\")\n",
    "\n",
    "body = driver.find_element_by_xpath('//div[@class=\"article_view\"]')\n",
    "for p in body.find_elements_by_tag_name('p'):\n",
    "    print p.text\n",
    "#driver.quit()"
   ]
  },
  {
   "cell_type": "code",
   "execution_count": 75,
   "metadata": {
    "collapsed": false
   },
   "outputs": [
    {
     "name": "stdout",
     "output_type": "stream",
     "text": [
      "최순실·안종범·정호성 공소장 주목..'朴대통령 지시·공모·관여' 여부\n",
      "냉정 유지하면서 법리 검토 고심..\"대면조사 이외 대안은 본격 검토 안해\"\n",
      "[연합뉴스TV 제공]\n",
      "(서울=연합뉴스) 전성훈 기자 = '비선 실세' 최순실 사건에 관여한 의혹이 제기된 박근혜 대통령이 '조사 연기'를 요구해 사실상 '거부' 입장을 밝힌 가운데 검찰은 '대면조사' 원칙을 거듭 강조해 최종적으로 어떤 대응을 할지 초미의 관심사다.\n",
      "청와대 측이 사실상 '시간 끌기 작전'에 들어간 게 아니냐는 관측이 나오는 가운데 검찰도 대면조사의 무산 가능성을 대비해야 한다는 목소리도 커지는 양상이다.\n",
      "검찰 특별수사본부(본부장 이영렬 서울중앙지검장) 관계자는 16일 언론 브리핑에서 \"그야말로 마지노선을 넘었다. 그 선까지 넘어 양보하면 금요일(18일)까지 가능하다고 입장을 전할 예정\"이라고 말했다.\n",
      "이는 사실상의 '최후통첩' 성격으로 받아들여진다. 최순실(60·구속)씨의 구속 기한이 만료되는 20일까지 재판에 넘겨야 하는 촉박한 일정을 고려해 검찰이 현실적으로 수용 가능한 '데드라인'을 제시한셈이다.\n",
      "하지만 지금까지의 청와대 태도를 고려할 때 박 대통령 조사가 어려울 수도 있다는 우려가 안팎에서 나온다.\n",
      "청와대는 이날 오후 늦게까지 검찰의 최후통첩성 메시지에 이렇다 할 반응을 보이지 않았다.\n",
      "대통령 변호인인 유영하 변호사가 전날 직접 \"변론 준비를 하는데 상당한 시간이 필요하다\", \"모든 의혹이 정리된 뒤 대통령을 조사하는 게 합리적이다\"는 등 강한 톤으로 조사 일정 연기를 주장한 뒤 숨 고르기를 하는 모양새다.\n",
      "변호인 의견 형식으로 박 대통령 입장을 전달한 만큼 여론 향배를 주시하며 '정중동' 모드로 들어간 게 아니냐는 분석이다.\n",
      "수사팀 내부에서도 '당장 대통령 대면조사가 어렵지 않겠느냐'는 우려가 감지된다.\n",
      "이런 가운데 검찰이 '데드라인' 이내에 대면조사가 어려운 상황을 가정해 '플랜B'를 검토한다는 관측도 나온다.\n",
      "수사팀 관계자가 이날 취재진에 \"(박 대통령이) 조사를 안 받으시면 안 받는 대로 일정한 결론을 내야 하지 않겠나\"라고 밝힌 것도 맥을 같이 한다.\n",
      "다른 검찰 관계자도 \"검찰이 아무것도 안 하고 기다릴 수만은 없는 것 아니냐\"며 '예비 안'을 준비하고 있음을 시사했다.\n",
      "박 대통령을 강제로 조사할 수 없는 현 상황에서 검찰의 선택지는 박 대통령의 역할을 어느 선까지 담을지가 핵심이다.\n",
      "박 대통령의 지시·공모·관여 여부가 어떻게 표현될지, 대통령의 신분은 단순한 참고인인지 '피의자성 참고인'인지 아니면 '피해자성 참고인'인지 등도 관심거리다.\n",
      "최씨의 공소장에 미르·K스포츠재단과 청와대 문건 유출 등과 관련한 박 대통령의 역할과 다른 피의자들과의 공모 관계 등을 비교적 구체적으로 기술하는 방안도 거론된다.\n",
      "여의치 않을 경우 22∼23일 각각 구속 기한이 만료되는 안종범(57) 전 청와대 정책조정수석비서관, 정호성(47) 전 청와대 부속비서관의 공소장에 혐의 사실별로 박 대통령이 언급될 가능성도 있다.\n",
      "이들 핵심 인물의 공소장이 공개되고 박 대통령에 대한 추가 조사 필요성이 제기될 경우 여야가 합의한 특별검사 출범 전 대면조사의 기회를 엿볼 수 있다는 관측이 나온다.\n",
      "하지만 검찰은 공식적으로는 이번 주 중 박 대통령 조사가 성사될 수 있다는 기대를 버리지 않고 있다. 일단 '원칙론' 외에 다른 길을 생각할 필요가 없다는 것이다. 만약 상황이 변화한다면 그때 가서 '플랜B'를 따져본다는 얘기다.\n",
      "검찰 관계자는 \"검찰이 제안한 최종 날짜까지는 아직 이틀이라는 시간이 남았다. 이 순간까지는 다른 대안을 생각할 시간도, 그럴 필요도 없다\"고 말했다.\n",
      "lucho@yna.co.kr\n",
      "<저작권자(c) 연합뉴스, 무단 전재-재배포 금지>\n",
      "이슈 · 최순실 국정농단 파문\n",
      "#가나\n",
      "#공소장\n",
      "#최순실\n",
      "저작권자(c)연합뉴스. 무단전재-재배포금지\n",
      "867\n",
      "연합뉴스 주요 뉴스해당 언론사로 연결됩니다.\n",
      "홍상수 감독, 공식 행사에 결국 불참\n",
      "윤종신·노홍철 등 연예인들 '길라임' 풍자\n",
      "스타 쇼호스트 류재영, 배우 최창엽과 필로폰 손댔다…\n",
      "정유라, 17일 출석하고 수행평가 '만점' 고3때 받은 상이…\n",
      "최순실, 교사에게 촌지주고 폭언·협박…학교는 학사관리 포기\n",
      "댓글 1746\n",
      "내 댓글\n",
      "댓글 작성을 위해 로그인해주세요.\n",
      "추천순\n",
      "최신순\n",
      "칼의노래\n",
      "2시간전\n",
      "특검과 탄핵에 기대선 안됩니다 그동안 검찰이 방조한 증거인멸과 짜깁기수사는 특검의 한계일수밖에 없는데 삼성비자금 BBK의 선례처럼 기존수사결과를 재확인하는 수준일 가능성이 높습니다 이는 탄핵시 법률적 중대위법성을 입증하기 어려워 헌재의 부결로 초래됩니다 전권위임 2선후퇴도 헌법위배를 명분삼아 언제든 뒤집을수 있습니다 결국 믿을건 우리의 힘으로 끌어내리는것뿐 똬리를 틀고 동면에 들어간 독사는 이미 사람의 양심이 아닙니다 이젠 선조들의 고귀한 피의 헌신으로 정의를 실현했던 동학혁명 4.19혁명 그 들불속으로 다시 뛰어들때 입니다\n",
      "답글 134\n",
      "댓글 찬성하기\n",
      "3380\n",
      "댓글 비추천하기\n",
      "98\n",
      "닭치고근혜공식\n",
      "2시간전\n",
      "닭  완전 썅뇬이내~\n",
      "답글 20\n",
      "댓글 찬성하기\n",
      "2994\n",
      "댓글 비추천하기\n",
      "80\n",
      "다라다라\n",
      "2시간전\n",
      "정유라 부터 끌고오세요.\n",
      "답글 13\n",
      "댓글 찬성하기\n",
      "2742\n",
      "댓글 비추천하기\n",
      "42\n",
      "더보기\n",
      "새로고침\n",
      "많이본 뉴스\n",
      "뉴스\n",
      "스포츠\n",
      "연예\n",
      "운전면허 따러 갔다가 어이없는 사고, 20대女 사망\n",
      "朴대통령, '탄핵'이 두렵지 않은 3가지 이유\n",
      "[단독] 민정수석실 '세월호 문건' 입수..여론조작 조언도\n",
      "[단독] 태반·백옥 주사..대통령이 맞은 주사는?\n",
      "\"깐죽거리는 박지원 입\"..유영하 변호사 막말 다시 주목\n",
      "[영상] \"박근혜 방송, 차 빼라!\" 공영방송 수난시대\n",
      "백화점 '반값 코트' 쏟아진다..수백억 물량 아우터 세일 돌입(종합)\n",
      "\"민심이 만만한가..100만명으로 안되면 200만이 나서야죠\"\n",
      "야당 '황교안 총리를 어쩌나'\n",
      "24세 최연소 내무부 차관 누드 구설에 우크라이나 '발칵'\n",
      "이전\n",
      "다음\n",
      "전체랭킹\n",
      "포토&TV\n",
      "포토\n",
      "[스브스뉴스]광화문 화제의 깃발..'장수풍뎅이 연구...\n",
      "영상\n",
      "[비하인드 뉴스] 변호인의 '사생활'? 과거 막말 논란\n"
     ]
    }
   ],
   "source": [
    "from selenium import webdriver\n",
    "\n",
    "chormedriver = './chromedriver'\n",
    "driver = webdriver.Chrome(chromedriver)\n",
    "driver.get(\"http://v.media.daum.net/v/20161116200216866\")\n",
    "\n",
    "body = driver.find_element_by_xpath('/html/body/div[@id=\"kakaoWrap\"]/div[@id=\"kakaoContent\"]/div[@id=\"cMain\"]')\n",
    "print body.text"
   ]
  },
  {
   "cell_type": "code",
   "execution_count": 54,
   "metadata": {
    "collapsed": false
   },
   "outputs": [
    {
     "name": "stdout",
     "output_type": "stream",
     "text": [
      "'대통령 18일 조사' 靑에 최후통첩한 검찰, 어떤 길 가나\n"
     ]
    }
   ],
   "source": [
    "from selenium import webdriver\n",
    "\n",
    "chromedriver = './chromedriver'\n",
    "driver = webdriver.Chrome(chromedriver)\n",
    "driver.get(\"http://v.media.daum.net/v/20161116200216866\")\n",
    "\n",
    "title = driver.find_element_by_css_selector('.tit_view')\n",
    "print title.text\n",
    "driver.quit()"
   ]
  },
  {
   "cell_type": "code",
   "execution_count": 56,
   "metadata": {
    "collapsed": false,
    "scrolled": true
   },
   "outputs": [
    {
     "name": "stdout",
     "output_type": "stream",
     "text": [
      "\n",
      "(서울=연합뉴스) 전성훈 기자 = '비선 실세' 최순실 사건에 관여한 의혹이 제기된 박근혜 대통령이 '조사 연기'를 요구해 사실상 '거부' 입장을 밝힌 가운데 검찰은 '대면조사' 원칙을 거듭 강조해 최종적으로 어떤 대응을 할지 초미의 관심사다.\n",
      "청와대 측이 사실상 '시간 끌기 작전'에 들어간 게 아니냐는 관측이 나오는 가운데 검찰도 대면조사의 무산 가능성을 대비해야 한다는 목소리도 커지는 양상이다.\n",
      "검찰 특별수사본부(본부장 이영렬 서울중앙지검장) 관계자는 16일 언론 브리핑에서 \"그야말로 마지노선을 넘었다. 그 선까지 넘어 양보하면 금요일(18일)까지 가능하다고 입장을 전할 예정\"이라고 말했다.\n",
      "이는 사실상의 '최후통첩' 성격으로 받아들여진다. 최순실(60·구속)씨의 구속 기한이 만료되는 20일까지 재판에 넘겨야 하는 촉박한 일정을 고려해 검찰이 현실적으로 수용 가능한 '데드라인'을 제시한셈이다.\n",
      "하지만 지금까지의 청와대 태도를 고려할 때 박 대통령 조사가 어려울 수도 있다는 우려가 안팎에서 나온다.\n",
      "청와대는 이날 오후 늦게까지 검찰의 최후통첩성 메시지에 이렇다 할 반응을 보이지 않았다.\n",
      "대통령 변호인인 유영하 변호사가 전날 직접 \"변론 준비를 하는데 상당한 시간이 필요하다\", \"모든 의혹이 정리된 뒤 대통령을 조사하는 게 합리적이다\"는 등 강한 톤으로 조사 일정 연기를 주장한 뒤 숨 고르기를 하는 모양새다.\n",
      "변호인 의견 형식으로 박 대통령 입장을 전달한 만큼 여론 향배를 주시하며 '정중동' 모드로 들어간 게 아니냐는 분석이다.\n",
      "수사팀 내부에서도 '당장 대통령 대면조사가 어렵지 않겠느냐'는 우려가 감지된다.\n",
      "이런 가운데 검찰이 '데드라인' 이내에 대면조사가 어려운 상황을 가정해 '플랜B'를 검토한다는 관측도 나온다.\n",
      "수사팀 관계자가 이날 취재진에 \"(박 대통령이) 조사를 안 받으시면 안 받는 대로 일정한 결론을 내야 하지 않겠나\"라고 밝힌 것도 맥을 같이 한다.\n",
      "다른 검찰 관계자도 \"검찰이 아무것도 안 하고 기다릴 수만은 없는 것 아니냐\"며 '예비 안'을 준비하고 있음을 시사했다.\n",
      "박 대통령을 강제로 조사할 수 없는 현 상황에서 검찰의 선택지는 박 대통령의 역할을 어느 선까지 담을지가 핵심이다.\n",
      "박 대통령의 지시·공모·관여 여부가 어떻게 표현될지, 대통령의 신분은 단순한 참고인인지 '피의자성 참고인'인지 아니면 '피해자성 참고인'인지 등도 관심거리다.\n",
      "최씨의 공소장에 미르·K스포츠재단과 청와대 문건 유출 등과 관련한 박 대통령의 역할과 다른 피의자들과의 공모 관계 등을 비교적 구체적으로 기술하는 방안도 거론된다.\n",
      "여의치 않을 경우 22∼23일 각각 구속 기한이 만료되는 안종범(57) 전 청와대 정책조정수석비서관, 정호성(47) 전 청와대 부속비서관의 공소장에 혐의 사실별로 박 대통령이 언급될 가능성도 있다.\n",
      "이들 핵심 인물의 공소장이 공개되고 박 대통령에 대한 추가 조사 필요성이 제기될 경우 여야가 합의한 특별검사 출범 전 대면조사의 기회를 엿볼 수 있다는 관측이 나온다.\n",
      "하지만 검찰은 공식적으로는 이번 주 중 박 대통령 조사가 성사될 수 있다는 기대를 버리지 않고 있다. 일단 '원칙론' 외에 다른 길을 생각할 필요가 없다는 것이다. 만약 상황이 변화한다면 그때 가서 '플랜B'를 따져본다는 얘기다.\n",
      "검찰 관계자는 \"검찰이 제안한 최종 날짜까지는 아직 이틀이라는 시간이 남았다. 이 순간까지는 다른 대안을 생각할 시간도, 그럴 필요도 없다\"고 말했다.\n",
      "lucho@yna.co.kr\n",
      "<저작권자(c) 연합뉴스, 무단 전재-재배포 금지>\n"
     ]
    }
   ],
   "source": [
    "from selenium import webdriver\n",
    "\n",
    "chromedriver = './chromedriver'\n",
    "driver = webdriver.Chrome(chromedriver)\n",
    "driver.get(\"http://v.media.daum.net/v/20161116200216866\")\n",
    "\n",
    "content = driver.find_element_by_css_selector('div#harmonyContainer')\n",
    "for p in content.find_elements_by_css_selector('p'):\n",
    "    print p.text\n",
    "\n",
    "driver.quit()"
   ]
  },
  {
   "cell_type": "code",
   "execution_count": 81,
   "metadata": {
    "collapsed": false,
    "scrolled": true
   },
   "outputs": [
    {
     "name": "stdout",
     "output_type": "stream",
     "text": [
      "이건 해인사가는길에 휴게소에서 국장님께서 사주신거\n",
      "제가 한번 사줄려고 했는데 전주 올땐 휴게소를 안들려서 어쩔수 없었네요 ㅠㅠ\n",
      "다음에 사드려야겠어요\n",
      "#핫초코\n"
     ]
    }
   ],
   "source": [
    "from selenium import webdriver\n",
    "from selenium.webdriver.common.keys import Keys\n",
    "import time\n",
    "chromedriver = './chromedriver'\n",
    "driver = webdriver.Chrome(chromedriver)\n",
    "driver.get('https://www.instagram.com')\n",
    "\n",
    "driver.find_element_by_class_name('_fcn8k').click()\n",
    "driver.find_element_by_name('username').send_keys(\"hello\")\n",
    "driver.find_element_by_name('password').send_keys(\"world\")\n",
    "driver.find_element_by_css_selector('button[class=\"_aj7mu _taytv _ki5uo _o0442\"]').click()\n",
    "time.sleep(5)\n",
    "first_c = driver.find_element_by_css_selector('h1 span')\n",
    "print first_c.text"
   ]
  },
  {
   "cell_type": "code",
   "execution_count": 78,
   "metadata": {
    "collapsed": false
   },
   "outputs": [],
   "source": [
    "from selenium import webdriver\n",
    "from selenium.webdriver.common.by import By\n",
    "from selenium.webdriver.support.ui import WebDriverWait\n",
    "from selenium.webdriver.support import expected_conditions as EC\n",
    "\n",
    "chromedriver = './chromedriver'\n",
    "driver = webdriver.Chrome(chromedriver)\n",
    "driver.get(\"http://somedomain/url_that_delays_loading\")\n",
    "try:\n",
    "    element = WebDriverWait(driver, 10).until(\n",
    "        EC.presence_of_element_located((By.ID, \"myDynamicElement\"))\n",
    "    )\n",
    "finally:\n",
    "    driver.quit()"
   ]
  },
  {
   "cell_type": "code",
   "execution_count": null,
   "metadata": {
    "collapsed": true
   },
   "outputs": [],
   "source": [
    "import json\n",
    "\n",
    "slack_hook = ''\n",
    "\n",
    "payload = {}\n",
    "payload['text'] = 'hello'\n",
    "\n",
    "data = json.dumps(payload)\n",
    "requests.post(slack_hook, data = data)\n"
   ]
  }
 ],
 "metadata": {
  "anaconda-cloud": {},
  "kernelspec": {
   "display_name": "Python [Root]",
   "language": "python",
   "name": "Python [Root]"
  }
 },
 "nbformat": 4,
 "nbformat_minor": 0
}
