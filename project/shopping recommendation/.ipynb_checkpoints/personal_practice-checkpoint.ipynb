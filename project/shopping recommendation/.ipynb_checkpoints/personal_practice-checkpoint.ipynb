{
 "cells": [
  {
   "cell_type": "code",
   "execution_count": 22,
   "metadata": {
    "collapsed": false,
    "scrolled": true
   },
   "outputs": [
    {
     "ename": "AttributeError",
     "evalue": "'NoneType' object has no attribute 'select'",
     "output_type": "error",
     "traceback": [
      "\u001b[1;31m---------------------------------------------------------------------------\u001b[0m",
      "\u001b[1;31mAttributeError\u001b[0m                            Traceback (most recent call last)",
      "\u001b[1;32m<ipython-input-22-a1987f49b5b8>\u001b[0m in \u001b[0;36m<module>\u001b[1;34m()\u001b[0m\n\u001b[0;32m     79\u001b[0m \u001b[0mouter\u001b[0m \u001b[1;33m=\u001b[0m \u001b[0mcrawl_grade\u001b[0m\u001b[1;33m(\u001b[0m\u001b[0mlink_outer\u001b[0m\u001b[1;33m)\u001b[0m\u001b[1;33m\u001b[0m\u001b[0m\n\u001b[0;32m     80\u001b[0m \u001b[1;31m#knit = crawl_grade(link_knit)\u001b[0m\u001b[1;33m\u001b[0m\u001b[1;33m\u001b[0m\u001b[0m\n\u001b[1;32m---> 81\u001b[1;33m \u001b[0mouter\u001b[0m\u001b[1;33m.\u001b[0m\u001b[0mget_product_link\u001b[0m\u001b[1;33m(\u001b[0m\u001b[1;33m)\u001b[0m\u001b[1;33m\u001b[0m\u001b[0m\n\u001b[0m\u001b[0;32m     82\u001b[0m \u001b[1;31m#knit.get_product_link()\u001b[0m\u001b[1;33m\u001b[0m\u001b[1;33m\u001b[0m\u001b[0m\n",
      "\u001b[1;32m<ipython-input-22-a1987f49b5b8>\u001b[0m in \u001b[0;36mget_product_link\u001b[1;34m(self)\u001b[0m\n\u001b[0;32m     15\u001b[0m         \u001b[0mbody\u001b[0m \u001b[1;33m=\u001b[0m \u001b[0msoup\u001b[0m\u001b[1;33m.\u001b[0m\u001b[0mfind\u001b[0m\u001b[1;33m(\u001b[0m\u001b[1;34m'div'\u001b[0m\u001b[1;33m,\u001b[0m \u001b[0mattrs\u001b[0m \u001b[1;33m=\u001b[0m \u001b[1;33m{\u001b[0m\u001b[1;34m'class'\u001b[0m \u001b[1;33m:\u001b[0m \u001b[1;34m'xans-element- xans-product xans-product-normalpackage package_box '\u001b[0m\u001b[1;33m}\u001b[0m\u001b[1;33m)\u001b[0m\u001b[1;33m\u001b[0m\u001b[0m\n\u001b[0;32m     16\u001b[0m         \u001b[0mproduct_lists\u001b[0m \u001b[1;33m=\u001b[0m \u001b[0mbody\u001b[0m\u001b[1;33m.\u001b[0m\u001b[0mfind\u001b[0m\u001b[1;33m(\u001b[0m\u001b[1;34m'ul'\u001b[0m\u001b[1;33m,\u001b[0m \u001b[0mattrs\u001b[0m \u001b[1;33m=\u001b[0m \u001b[1;33m{\u001b[0m\u001b[1;34m'class'\u001b[0m \u001b[1;33m:\u001b[0m \u001b[1;34m'prdList column4'\u001b[0m\u001b[1;33m}\u001b[0m\u001b[1;33m)\u001b[0m\u001b[1;33m\u001b[0m\u001b[0m\n\u001b[1;32m---> 17\u001b[1;33m         \u001b[0mproduct_list\u001b[0m  \u001b[1;33m=\u001b[0m \u001b[0mproduct_lists\u001b[0m\u001b[1;33m.\u001b[0m\u001b[0mselect\u001b[0m\u001b[1;33m(\u001b[0m\u001b[1;34m'> li'\u001b[0m\u001b[1;33m)\u001b[0m\u001b[1;33m\u001b[0m\u001b[0m\n\u001b[0m\u001b[0;32m     18\u001b[0m \u001b[1;33m\u001b[0m\u001b[0m\n\u001b[0;32m     19\u001b[0m         \u001b[1;32mfor\u001b[0m \u001b[0mproduct\u001b[0m \u001b[1;32min\u001b[0m \u001b[0mproduct_list\u001b[0m\u001b[1;33m:\u001b[0m\u001b[1;33m\u001b[0m\u001b[0m\n",
      "\u001b[1;31mAttributeError\u001b[0m: 'NoneType' object has no attribute 'select'"
     ]
    }
   ],
   "source": [
    "import requests\n",
    "from bs4 import BeautifulSoup\n",
    "import re\n",
    "\n",
    "class crawl_grade(object):\n",
    "    def __init__(self, link):\n",
    "        self.link = link\n",
    "        self.product_links = []\n",
    "        self.imvely_home = \"http://www.imvely.com\"\n",
    "        \n",
    "    def get_product_link(self):\n",
    "        response = requests.get(self.link)\n",
    "        soup= BeautifulSoup(response.content)\n",
    "        \n",
    "        body = soup.find('div', attrs = {'class' : 'xans-element- xans-product xans-product-normalpackage package_box '})\n",
    "        product_lists = body.find('ul', attrs = {'class' : 'prdList column4'})\n",
    "        product_list  = product_lists.select('> li')\n",
    "        \n",
    "        for product in product_list:\n",
    "            name = product.find('p', attrs = {'class' : 'name'})\n",
    "            link = name.select('> a')\n",
    "            title_1 = name.select('> a > span')[0].get_text()\n",
    "            #title = str(title_1)\n",
    "            #print type(title_1)\n",
    "            print type(link[0]['href'])\n",
    "            \n",
    "            self.product_links.append(link[0]['href'])\n",
    "            \n",
    "        self.get_product_comment(self.product_links[5]) # 특정 상품 페이지\n",
    "        \n",
    "    def get_product_comment(self, product_link, pagenum = 1):\n",
    "        \n",
    "        product_code_1 = re.search(r'product_no=\\d+', product_link)\n",
    "        product_code_2 = re.search(r'\\d+', product_code_1.group(0))\n",
    "        product_code = product_code_2.group(0)\n",
    "        \n",
    "        widget_url = 'http://widgets1.cre.ma/imvely.com/products/reviews?app=0&iframe_id=crema-product-reviews-2&order=20&page={}&parent_url={}&product_code={}'.format(pagenum, product_link, product_code)\n",
    "        #print widget_url\n",
    "        \n",
    "        response = requests.get(widget_url)\n",
    "        soup = BeautifulSoup(response.content)\n",
    "        body = soup.find('div', attrs = {'class' : 'widget widget-reviews pagination-list '})\n",
    "        comment_lists = body.find('ul', attrs = {'class' : 'reviews reviews-product'})\n",
    "        comment_list = comment_lists.select('> li')\n",
    "        \n",
    "        if len(comment_list) > 0:\n",
    "            for comment in comment_list:\n",
    "                comment_div = comment.find('div', attrs = {'class' : 'review-content-summary'})\n",
    "\n",
    "                comment_writer_1 = comment_div.find('div', attrs = {'class' : 'col author'})\n",
    "                comment_writer = str(comment_writer_1.get_text())\n",
    "\n",
    "                comment_grade_1 = comment_div.find('div', attrs = {'class' : 'col score'})\n",
    "                comment_grade_2 = comment_grade_1.find('div', attrs = {'class' : 'star-rating-container'})\n",
    "                comment_grade_3 = comment_grade_2.find_all('span', attrs = {'class' : 'sprites-star-full'})\n",
    "                comment_grade = 0\n",
    "                for grade in comment_grade_3:\n",
    "                    comment_grade += 1\n",
    "\n",
    "                print comment_writer, comment_grade\n",
    "                \n",
    "            pagenum += 1\n",
    "            self.get_product_comment(product_link, pagenum)\n",
    "            \n",
    "            \"\"\"\n",
    "            comment_div_2 = comment.find('div', attrs = {'class' : 'review-content'})\n",
    "            print comment\n",
    "            comment_option_content = comment_div_2.find('div', attrs = {'class' : 'panel-body no-border'})\n",
    "            comment_options = comment_option_content.find('div', attrs = {'class' : 'review-options review-options--online'})\n",
    "            \n",
    "            comment_option_list = comment_options.select('> div')\n",
    "            for comment_option in comment_option_list:\n",
    "                each_comment_option = comment_option.select('> div').get_text()\n",
    "                print each_comment_option\n",
    "            \"\"\"\n",
    "            \n",
    "link_outer = 'http://www.imvely.com/product/list.html?cate_no=41&page=4'\n",
    "#link_knit = 'http://www.imvely.com/product/list.html?cate_no=116'\n",
    "outer = crawl_grade(link_outer)\n",
    "#knit = crawl_grade(link_knit)\n",
    "outer.get_product_link()\n",
    "#knit.get_product_link()"
   ]
  },
  {
   "cell_type": "code",
   "execution_count": 56,
   "metadata": {
    "collapsed": false
   },
   "outputs": [
    {
     "name": "stdout",
     "output_type": "stream",
     "text": [
      "11247\n"
     ]
    }
   ],
   "source": [
    "import re\n",
    "\n",
    "product_code_1 = re.search(r'product_no=\\d+', 'http://www.imvely.com/product/detail.html?product_no=11247&cate_no=41&display_group=1')\n",
    "product_code = re.search(r'\\d+', product_code_1.group(0))\n",
    "print product_code.group(0)"
   ]
  },
  {
   "cell_type": "code",
   "execution_count": 34,
   "metadata": {
    "collapsed": false,
    "scrolled": true
   },
   "outputs": [
    {
     "name": "stdout",
     "output_type": "stream",
     "text": [
      "블리양면후드 항공점퍼\n",
      "<type 'str'>\n",
      "겨울왕국 양털야상\n",
      "<type 'str'>\n",
      "커피마시러갈래? 후드집업\n",
      "<type 'str'>\n",
      "3차 리얼인줄알았지 무스탕\n",
      "<type 'str'>\n",
      "러브무드 울자켓\n",
      "<type 'str'>\n",
      "3차 클래식 더블코트\n",
      "<type 'str'>\n",
      "[호주산프리미엄울마크]블리라벨러브핏코트_오로라블루\n",
      "<type 'str'>\n",
      "[호주산프리미엄울마크]블리라벨슬림핏코트_페퍼민트\n",
      "<type 'str'>\n",
      "모든코디오케이 울코트\n",
      "<type 'str'>\n",
      "[임블리프리미엄]블리알래스카봄버패딩(네이비)\n",
      "<type 'str'>\n",
      "[호주산프리미엄울마크]블리라벨러브핏코트_핑크\n",
      "<type 'str'>\n",
      "베이지밀크 앙고라가디건\n",
      "<type 'str'>\n",
      "리얼같은 페이크퍼자켓\n",
      "<type 'str'>\n",
      "딱떨어지는 울코트\n",
      "<type 'str'>\n",
      "베이비파우더 앙고라가디건\n",
      "<type 'str'>\n",
      "2차 와인을 머금은 앙고라가디건\n",
      "<type 'str'>\n",
      "데이데이 울가디건\n",
      "<type 'str'>\n",
      "집앞이야나와집업\n",
      "<type 'str'>\n",
      "코코 뽀글이코트\n",
      "<type 'str'>\n",
      "오늘은앞 내일은뒤로 가디건\n",
      "<type 'str'>\n",
      "취향저격 가디건\n",
      "<type 'str'>\n",
      "머리도들어가겠어 소매통후드집업\n",
      "<type 'str'>\n",
      "집앞이야나와 맨.투.가\n",
      "<type 'str'>\n",
      "블리 주구장창 라쿤롱패딩\n",
      "<type 'str'>\n",
      "[호주산프리미엄울마크]블리라벨러브핏코트_카멜\n",
      "<type 'str'>\n",
      "점수따고싶은날 롱가디건\n",
      "<type 'str'>\n",
      "진주를 품은 가디건\n",
      "<type 'str'>\n",
      "[임블리프리미엄]블리알래스카봄버패딩(블랙)\n",
      "<type 'str'>\n",
      "[임블리프리미엄]블리알래스카봄버패딩(카키베이지)\n",
      "<type 'str'>\n",
      "[호주산프리미엄울마크]블리라벨러브핏코트_블랙\n",
      "<type 'str'>\n",
      "어디서샀냐고자꾸물어봐 청자켓\n",
      "<type 'str'>\n",
      "두근두근 와펜자수 가디건\n",
      "<type 'str'>\n",
      "도르도르 기모후드집업\n",
      "<type 'str'>\n",
      "스웩 항공점퍼(블랙)\n",
      "<type 'str'>\n",
      "샤샤 자켓\n",
      "<type 'str'>\n",
      "보들보들 진주가디건\n",
      "<type 'str'>\n",
      "슬림라인 가디건\n",
      "<type 'str'>\n",
      "레어러브 자켓\n",
      "<type 'str'>\n",
      "click 가디건\n",
      "<type 'str'>\n",
      "소프트 옆트임 가디건\n",
      "<type 'str'>\n",
      "떽띠한 골지가디건\n",
      "<type 'str'>\n",
      "[LOVELY NIGHT]해브어굿나잇세트\n",
      "<type 'str'>\n",
      "뉴욕블리 야상\n",
      "<type 'str'>\n",
      "[VELYSOME]여덟번째썸, 루즈핏 양가죽라이더자켓\n",
      "<type 'str'>\n",
      "[VELYSOME]세번째썸, 블랙라이더자켓\n",
      "<type 'str'>\n",
      "날씬한몸매를원하십니까 데님자켓\n",
      "<type 'str'>\n",
      "탕블리 트렌치코트(베이지)\n",
      "<type 'str'>\n",
      "스웩 항공점퍼(카키)\n",
      "<type 'str'>\n",
      "내게로와요 쫄깃가디건\n",
      "<type 'str'>\n",
      "뷰티인사이드 식흐블랙자켓\n",
      "<type 'str'>\n",
      "탕블리 트렌치코트(블랙)\n",
      "<type 'str'>\n",
      "오늘은 색다르게 체크자켓\n",
      "<type 'str'>\n",
      "요즘에딱이야 후드집업\n",
      "<type 'str'>\n",
      "이것이트렌치지말입니다(연베이지)\n",
      "<type 'str'>\n",
      "여름까지 쭉 롱항공점퍼(베이지) \n",
      "<type 'str'>\n",
      "핑크트위드자켓\n",
      "<type 'str'>\n",
      "여리실키 가디건\n",
      "<type 'str'>\n",
      "깔끔청순한자켓\n",
      "<type 'str'>\n",
      "코튼화이트집업\n",
      "<type 'str'>\n",
      "블링항공점퍼\n",
      "<type 'str'>\n",
      "청순카멜코트\n",
      "<type 'str'>\n",
      "뉴욕블리 핸드메이드코트(브라운)\n",
      "<type 'str'>\n",
      "2차 [임블리프리미엄] 3구스다운 패딩조끼\n",
      "<type 'str'>\n",
      "[호주산프리미엄울마크]블리라벨러브핏코트_코코아\n",
      "<type 'str'>\n",
      "몽글몽글 기모조끼\n",
      "<type 'str'>\n",
      "[임블리프리미엄]블리쓰리웨이패딩야상(롱/카키)\n",
      "<type 'str'>\n",
      "겨울왕국블리, 사파이어블루블랙\n",
      "<type 'str'>\n",
      "청순아이보리롱무스탕자켓\n",
      "<type 'str'>\n",
      "루즈핏베이지가디건 \n",
      "<type 'str'>\n",
      "감성블리 핸드메이드코트\n",
      "<type 'str'>\n",
      "식흐에 퐁당 레더집업\n",
      "<type 'str'>\n",
      "[호주산프리미엄울마크]블리라벨슬림핏코트_블랙\n",
      "<type 'str'>\n"
     ]
    }
   ],
   "source": [
    "import requests\n",
    "from bs4 import BeautifulSoup\n",
    "import re\n",
    "import unicodedata\n",
    "\n",
    "class crawl_grade(object):\n",
    "    def __init__(self, link):\n",
    "        self.link = link\n",
    "        self.product_links = []\n",
    "        self.imvely_home = \"http://www.imvely.com\"\n",
    "        \n",
    "    def get_product_link(self):\n",
    "        response = requests.get(self.link)\n",
    "        soup= BeautifulSoup(response.content)\n",
    "        \n",
    "        body = soup.find('div', attrs = {'class' : 'xans-element- xans-product xans-product-normalpackage package_box '})\n",
    "        product_lists = body.find('ul', attrs = {'class' : 'prdList column4'})\n",
    "        product_list  = product_lists.select('> li')\n",
    "        \n",
    "        for product in product_list:\n",
    "            name = product.find('p', attrs = {'class' : 'name'})\n",
    "            link = name.select('> a')\n",
    "            title_1 = name.select('> a > span')[0].get_text()\n",
    "            \n",
    "            #title = unicodedata.normalize('NFKD', title_1).encode('utf-8', 'ignore')\n",
    "            title = title_1.encode('utf-8')\n",
    "            print title\n",
    "            print type(title)\n",
    "            \n",
    "        \n",
    "link_outer = 'http://www.imvely.com/product/list.html?cate_no=41&page=1'\n",
    "#link_knit = 'http://www.imvely.com/product/list.html?cate_no=116'\n",
    "outer = crawl_grade(link_outer)\n",
    "#knit = crawl_grade(link_knit)\n",
    "outer.get_product_link()\n",
    "#knit.get_product_link()"
   ]
  },
  {
   "cell_type": "code",
   "execution_count": 8,
   "metadata": {
    "collapsed": false
   },
   "outputs": [
    {
     "name": "stdout",
     "output_type": "stream",
     "text": [
      "20161129\n"
     ]
    }
   ],
   "source": [
    "import datetime\n",
    "import re\n",
    "\n",
    "crawltime_1 = datetime.date.today()\n",
    "crawltime = re.sub('-', '', crawltime_1.isoformat())\n",
    "print crawltime"
   ]
  },
  {
   "cell_type": "code",
   "execution_count": 12,
   "metadata": {
    "collapsed": false
   },
   "outputs": [
    {
     "name": "stdout",
     "output_type": "stream",
     "text": [
      "2016-11-29\n"
     ]
    }
   ],
   "source": [
    "import datetime\n",
    "import re\n",
    "\n",
    "crawltime_1 = datetime.date.today()\n",
    "print crawltime_1"
   ]
  },
  {
   "cell_type": "code",
   "execution_count": 23,
   "metadata": {
    "collapsed": false
   },
   "outputs": [
    {
     "name": "stdout",
     "output_type": "stream",
     "text": [
      "2016-11-29T12:27:15\n"
     ]
    }
   ],
   "source": [
    "import datetime\n",
    "import re\n",
    "\n",
    "crawltime_1 = datetime.datetime.now()\n",
    "crawltime = re.sub(r'\\.\\d+', '', crawltime_1.isoformat())\n",
    "print crawltime"
   ]
  },
  {
   "cell_type": "code",
   "execution_count": null,
   "metadata": {
    "collapsed": true
   },
   "outputs": [],
   "source": []
  },
  {
   "cell_type": "code",
   "execution_count": 10,
   "metadata": {
    "collapsed": false
   },
   "outputs": [
    {
     "name": "stdout",
     "output_type": "stream",
     "text": [
      "http://widgets1.cre.ma/imvely.com/products/reviews?app=0&iframe_id=crema-product-reviews-2&order=20&page=1&parent_url=http://www.imvely.com/product/detail.html?product_no=10711&cate_no=59&product_code=10711\n",
      "'NoneType' object has no attribute 'find'\n"
     ]
    }
   ],
   "source": [
    "import requests\n",
    "from bs4 import BeautifulSoup\n",
    "import re\n",
    "\n",
    "def crawl_product_comments(product_link, pagenum):\n",
    "\n",
    "    product_code_1 = re.search(r'product_no=\\d+', product_link)\n",
    "    product_code_2 = re.search(r'\\d+', product_code_1.group(0))\n",
    "    product_code = product_code_2.group(0)\n",
    "\n",
    "    widget_url = 'http://widgets1.cre.ma/imvely.com/products/reviews?app=0&iframe_id=crema-product-reviews-2&order=20&page={}&parent_url={}&product_code={}'.format(pagenum, product_link, product_code)\n",
    "    print widget_url\n",
    "\n",
    "    response = requests.get(widget_url)\n",
    "    soup = BeautifulSoup(response.content)\n",
    "    try:\n",
    "        body = soup.find('div', attrs = {'class' : 'widget widget-reviews pagination-list '})\n",
    "        comment_lists = body.find('ul', attrs = {'class' : 'reviews reviews-product'})\n",
    "        comment_list = comment_lists.select('> li')\n",
    "\n",
    "        #if len(comment_list) > 0:\n",
    "        if comment_list:   \n",
    "            for comment in comment_list:\n",
    "                comment_div = comment.find('div', attrs = {'class' : 'review-content-summary'})\n",
    "\n",
    "                comment_writer_1 = comment_div.find('div', attrs = {'class' : 'col author'})\n",
    "                comment_writer = str(comment_writer_1.get_text())\n",
    "\n",
    "                comment_grade_1 = comment_div.find('div', attrs = {'class' : 'col score'})\n",
    "                comment_grade_2 = comment_grade_1.find('div', attrs = {'class' : 'star-rating-container'})\n",
    "                comment_grade_3 = comment_grade_2.find_all('span', attrs = {'class' : 'sprites-star-full'})\n",
    "                comment_grade = 0\n",
    "                for grade in comment_grade_3:\n",
    "                    comment_grade += 1\n",
    "\n",
    "                print comment_writer, comment_grade\n",
    "\n",
    "            pagenum += 1\n",
    "            crawl_product_comments(product_link, pagenum)\n",
    "    \n",
    "    except Exception as e:\n",
    "        print e\n",
    "            \n",
    "    \n",
    "#product_link = 'http://www.imvely.com/product/detail.html?product_no=10710&cate_no=46'\n",
    "product_link = 'http://www.imvely.com/product/detail.html?product_no=10711&cate_no=59'\n",
    "crawl_product_comments(product_link, pagenum=1)"
   ]
  },
  {
   "cell_type": "code",
   "execution_count": 24,
   "metadata": {
    "collapsed": false
   },
   "outputs": [
    {
     "name": "stdout",
     "output_type": "stream",
     "text": [
      "5.9160797831\n",
      "[ 1  9 25]\n"
     ]
    }
   ],
   "source": [
    "import numpy as np\n",
    "\n",
    "alpha = {'a' : 1, 'b' : 3, 'e' : 5}\n",
    "betha = {'a' : 2, 'c' : 5, 'e' : 2}\n",
    "\n",
    "delta = np.array(alpha.values())\n",
    "\n",
    "print np.sqrt(sum(delta**2))\n",
    "\n",
    "gamma = np.array([1, 3, 5])\n",
    "print gamma**2"
   ]
  },
  {
   "cell_type": "code",
   "execution_count": 25,
   "metadata": {
    "collapsed": false
   },
   "outputs": [
    {
     "data": {
      "text/plain": [
       "8"
      ]
     },
     "execution_count": 25,
     "metadata": {},
     "output_type": "execute_result"
    }
   ],
   "source": [
    "sum([1, 3, 4])"
   ]
  },
  {
   "cell_type": "code",
   "execution_count": 33,
   "metadata": {
    "collapsed": false
   },
   "outputs": [
    {
     "name": "stdout",
     "output_type": "stream",
     "text": [
      "1\n",
      "2\n",
      "3\n",
      "4\n",
      "5\n"
     ]
    }
   ],
   "source": [
    "li = [1, 2, 3, 4, 5]\n",
    "\n",
    "for i in li[0:2]:\n",
    "    print i\n",
    "for i in li[2:]:\n",
    "    print i"
   ]
  },
  {
   "cell_type": "code",
   "execution_count": 2,
   "metadata": {
    "collapsed": false
   },
   "outputs": [
    {
     "name": "stdout",
     "output_type": "stream",
     "text": [
      "1\n",
      "2\n",
      "5\n"
     ]
    }
   ],
   "source": [
    "li = [1, 2, 3, 4, 5]\n",
    "\n",
    "a=[3]\n",
    "b = [4]\n",
    "for i in li:\n",
    "    if i in a or i in b:\n",
    "        continue\n",
    "    print i"
   ]
  },
  {
   "cell_type": "code",
   "execution_count": 3,
   "metadata": {
    "collapsed": false
   },
   "outputs": [
    {
     "name": "stdout",
     "output_type": "stream",
     "text": [
      "flase\n"
     ]
    }
   ],
   "source": [
    "li = [('aa','AA'), ('bb', 'BB')]\n",
    "\n",
    "lix = 'aa'\n",
    "liy = 'A'\n",
    "\n",
    "if (lix, liy) in li:\n",
    "    print 'true'\n",
    "else:\n",
    "    print 'false'"
   ]
  },
  {
   "cell_type": "code",
   "execution_count": null,
   "metadata": {
    "collapsed": true
   },
   "outputs": [],
   "source": []
  }
 ],
 "metadata": {
  "anaconda-cloud": {},
  "kernelspec": {
   "display_name": "Python [Root]",
   "language": "python",
   "name": "Python [Root]"
  },
  "language_info": {
   "codemirror_mode": {
    "name": "ipython",
    "version": 2
   },
   "file_extension": ".py",
   "mimetype": "text/x-python",
   "name": "python",
   "nbconvert_exporter": "python",
   "pygments_lexer": "ipython2",
   "version": "2.7.12"
  }
 },
 "nbformat": 4,
 "nbformat_minor": 0
}
