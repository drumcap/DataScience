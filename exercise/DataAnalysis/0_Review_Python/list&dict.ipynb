{
 "cells": [
  {
   "cell_type": "code",
   "execution_count": 3,
   "metadata": {
    "collapsed": false
   },
   "outputs": [
    {
     "name": "stdout",
     "output_type": "stream",
     "text": [
      "{'02': 28, '03': 31, '01': 31, '06': 30, '07': 31, '04': 30, '05': 31, '08': 31, '09': 30, '10': 31}\n",
      "28\n",
      "30\n",
      "30\n",
      "31\n",
      "31\n"
     ]
    }
   ],
   "source": [
    "days = {\"01\" : 31, \"02\" :28, \"03\" : 31, \"04\" : 30, \"05\" : 31, \"06\" : 30, \"07\" : 31, \"08\" : 31, \"09\" : 30, \"10\" : 31}\n",
    "\n",
    "print days\n",
    "for i in days.keys():\n",
    "    if int(i) % 2 == 0:\n",
    "        print days[i]"
   ]
  },
  {
   "cell_type": "code",
   "execution_count": 4,
   "metadata": {
    "collapsed": false
   },
   "outputs": [
    {
     "name": "stdout",
     "output_type": "stream",
     "text": [
      "[1, 4, 7]\n"
     ]
    }
   ],
   "source": [
    "d = range(1, 10, 3)\n",
    "print d"
   ]
  },
  {
   "cell_type": "code",
   "execution_count": 5,
   "metadata": {
    "collapsed": true
   },
   "outputs": [],
   "source": [
    "del d[0]"
   ]
  },
  {
   "cell_type": "code",
   "execution_count": 6,
   "metadata": {
    "collapsed": false
   },
   "outputs": [
    {
     "name": "stdout",
     "output_type": "stream",
     "text": [
      "[4, 7]\n"
     ]
    }
   ],
   "source": [
    "print d"
   ]
  },
  {
   "cell_type": "code",
   "execution_count": 9,
   "metadata": {
    "collapsed": false
   },
   "outputs": [
    {
     "name": "stdout",
     "output_type": "stream",
     "text": [
      "3.36363636364\n"
     ]
    }
   ],
   "source": [
    "score = [4, 3, 2, 3, 4]\n",
    "credit = [3, 3, 1, 2, 2]\n",
    "mulsum = 0\n",
    "csum = 0\n",
    "for i in range(len(score)):\n",
    "    mulsum += score[i] * credit[i]\n",
    "    csum += credit[i]\n",
    "\n",
    "print float(mulsum) / csum"
   ]
  },
  {
   "cell_type": "code",
   "execution_count": 12,
   "metadata": {
    "collapsed": false
   },
   "outputs": [
    {
     "name": "stdout",
     "output_type": "stream",
     "text": [
      "1\n"
     ]
    }
   ],
   "source": [
    "score = [6, 5, 4, 7, 3, 5]\n",
    "tempsum = 0\n",
    "for i in score:\n",
    "    tempsum += i\n",
    "avg = tempsum / len(score)\n",
    "\n",
    "tempsum2 = 0\n",
    "for i in score:\n",
    "    tempsum2 += (i - avg) ** 2\n",
    "\n",
    "print tempsum2 / len(score)\n"
   ]
  },
  {
   "cell_type": "code",
   "execution_count": null,
   "metadata": {
    "collapsed": true
   },
   "outputs": [],
   "source": []
  }
 ],
 "metadata": {
  "anaconda-cloud": {},
  "kernelspec": {
   "display_name": "Python [Root]",
   "language": "python",
   "name": "Python [Root]"
  },
  "language_info": {
   "codemirror_mode": {
    "name": "ipython",
    "version": 2
   },
   "file_extension": ".py",
   "mimetype": "text/x-python",
   "name": "python",
   "nbconvert_exporter": "python",
   "pygments_lexer": "ipython2",
   "version": "2.7.12"
  }
 },
 "nbformat": 4,
 "nbformat_minor": 0
}
