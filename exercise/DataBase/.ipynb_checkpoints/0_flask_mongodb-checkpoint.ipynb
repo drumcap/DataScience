{
 "cells": [
  {
   "cell_type": "code",
   "execution_count": 1,
   "metadata": {
    "collapsed": false
   },
   "outputs": [
    {
     "ename": "SystemExit",
     "evalue": "1",
     "output_type": "error",
     "traceback": [
      "An exception has occurred, use %tb to see the full traceback.\n",
      "\u001b[1;31mSystemExit\u001b[0m\u001b[1;31m:\u001b[0m 1\n"
     ]
    },
    {
     "name": "stderr",
     "output_type": "stream",
     "text": [
      "To exit: use 'exit', 'quit', or Ctrl-D.\n"
     ]
    }
   ],
   "source": [
    "from flask import Flask, jsonify\n",
    "\n",
    "app = Flask(__name__)\n",
    "\n",
    "@app.route(\"/\")\n",
    "def hello_world():\n",
    "    return  'Hello, World!'\n",
    "\n",
    "@app.route(\"/test\")\n",
    "def hello_json():\n",
    "    data = {'name':'alex', 'age' : 30}\n",
    "    return jsonify(data)\n",
    "\n",
    "if __name__ == \"__main__\":\n",
    "    app.run(debug = True, host = '0.0.0.0')"
   ]
  },
  {
   "cell_type": "code",
   "execution_count": 7,
   "metadata": {
    "collapsed": false
   },
   "outputs": [
    {
     "name": "stdout",
     "output_type": "stream",
     "text": [
      "{u'age': 30, u'name': u'alex'}\n"
     ]
    }
   ],
   "source": [
    "import requests\n",
    "import json\n",
    "\n",
    "res = requests.get(\"http://ec2-54-213-224-243.us-west-2.compute.amazonaws.com:5000/test\")\n",
    "content =json.loads(res.content)\n",
    "print content"
   ]
  },
  {
   "cell_type": "code",
   "execution_count": 3,
   "metadata": {
    "collapsed": false
   },
   "outputs": [
    {
     "name": "stdout",
     "output_type": "stream",
     "text": [
      "{u'gender': u'M', u'age': 30.0, u'_id': ObjectId('582ef58bd55df5dbfd6328fa'), u'name': u'alex', u'regdate': datetime.datetime(2016, 11, 18, 12, 35, 23, 360000)}\n"
     ]
    }
   ],
   "source": [
    "from pymongo import MongoClient\n",
    "from exer_connection_db import mongo_account\n",
    "\n",
    "mongo = MongoClient('ec2-54-213-224-243.us-west-2.compute.amazonaws.com', 27017)\n",
    "\n",
    "mongo.the_database.authenticate(mongo_account['id'], mongo_account['pw'], source='test')\n",
    "person = mongo.test.person\n",
    "\n",
    "result = person.find_one({'name': 'alex'})\n",
    "print result"
   ]
  },
  {
   "cell_type": "code",
   "execution_count": 22,
   "metadata": {
    "collapsed": false
   },
   "outputs": [],
   "source": [
    "import requests\n",
    "from bs4 import BeautifulSoup\n",
    "import re\n",
    "from pymongo import MongoClient\n",
    "from exer_connection_db import mongo_account\n",
    "\n",
    "mongo = MongoClient('ec2-54-213-224-243.us-west-2.compute.amazonaws.com' ,27017)\n",
    "mongo.the_database.authenticate(mongo_account['id'], mongo_account['pw'], source = 'test')\n",
    "actor = mongo.test.actor\n",
    "\n",
    "Data1 = {}\n",
    "Data1['section'] = 'actor'\n",
    "Data1['period_start'] = '2016-10'\n",
    "Data1['gender'] = 'all'\n",
    "\n",
    "for i in range(1,6):\n",
    "    Data1['page'] = i\n",
    "    response = requests.post(\"http://www.cine21.com/rank/person/content\", data = Data1)\n",
    "    soup = BeautifulSoup(response.content)\n",
    "\n",
    "    actor_names =  soup.find_all(\"div\", attrs = {\"class\" : \"name\"})\n",
    "    points = soup.find_all('strong')\n",
    "    for name, point in zip(actor_names, points):\n",
    "        sub_name = name.get_text()\n",
    "        actor_name = re.sub(\"\\(.+\\)\", \"\", sub_name)\n",
    "        str_point = point.get_text()\n",
    "        int_point = int(re.sub(\",\", \"\", point.get_text()))\n",
    "        \n",
    "        actor.insert_one({'name' : actor_name, 'score' : int_point})\n",
    "        \n",
    "    "
   ]
  },
  {
   "cell_type": "code",
   "execution_count": 23,
   "metadata": {
    "collapsed": false
   },
   "outputs": [
    {
     "data": {
      "text/plain": [
       "<pymongo.results.InsertManyResult at 0x4551bd0>"
      ]
     },
     "execution_count": 23,
     "metadata": {},
     "output_type": "execute_result"
    }
   ],
   "source": [
    "import requests\n",
    "from bs4 import BeautifulSoup\n",
    "import re\n",
    "from pymongo import MongoClient\n",
    "from exer_connection_db import mongo_account\n",
    "\n",
    "mongo = MongoClient('ec2-54-213-224-243.us-west-2.compute.amazonaws.com' ,27017)\n",
    "mongo.the_database.authenticate(mongo_account['id'], mongo_account['pw'], source = 'test')\n",
    "actor = mongo.test.actor2\n",
    "\n",
    "Data1 = {}\n",
    "Data1['section'] = 'actor'\n",
    "Data1['period_start'] = '2016-10'\n",
    "Data1['gender'] = 'all'\n",
    "\n",
    "actor_point = []\n",
    "for i in range(1,6):\n",
    "    Data1['page'] = i\n",
    "    response = requests.post(\"http://www.cine21.com/rank/person/content\", data = Data1)\n",
    "    soup = BeautifulSoup(response.content)\n",
    "\n",
    "    actor_names =  soup.find_all(\"div\", attrs = {\"class\" : \"name\"})\n",
    "    points = soup.find_all('strong')\n",
    "    for name, point in zip(actor_names, points):\n",
    "        sub_name = name.get_text()\n",
    "        actor_name = re.sub(\"\\(.+\\)\", \"\", sub_name)\n",
    "        str_point = point.get_text()\n",
    "        int_point = int(re.sub(\",\", \"\", point.get_text()))\n",
    "        \n",
    "        actor_point.append({'name' : actor_name, 'score' : int_point})\n",
    "\n",
    "actor.insert_many(actor_point)\n",
    "    "
   ]
  },
  {
   "cell_type": "code",
   "execution_count": 24,
   "metadata": {
    "collapsed": false
   },
   "outputs": [
    {
     "name": "stdout",
     "output_type": "stream",
     "text": [
      "{u'_id': ObjectId('58326d0c65acca0238349c68'), u'score': 124523, u'name': u'\\uc720\\ud574\\uc9c4'}\n"
     ]
    }
   ],
   "source": [
    "mongo = MongoClient('ec2-54-213-224-243.us-west-2.compute.amazonaws.com' ,27017)\n",
    "mongo.the_database.authenticate(mongo_account['id'], mongo_account['pw'], source = 'test')\n",
    "actor = mongo.test.actor\n",
    "\n",
    "result = actor.find_one({\"name\" : \"유해진\"})\n",
    "print result"
   ]
  },
  {
   "cell_type": "code",
   "execution_count": 30,
   "metadata": {
    "collapsed": false
   },
   "outputs": [
    {
     "name": "stdout",
     "output_type": "stream",
     "text": [
      "{u'_id': ObjectId('58326d0c65acca0238349c68'), u'score': 124524, u'name': u'\\uc720\\ud574\\uc9c4'}\n"
     ]
    }
   ],
   "source": [
    "mongo = MongoClient('ec2-54-213-224-243.us-west-2.compute.amazonaws.com' ,27017)\n",
    "mongo.the_database.authenticate(mongo_account['id'], mongo_account['pw'], source = 'test')\n",
    "actor = mongo.test.actor\n",
    "\n",
    "actor.update_one({'name' : '유해진'}, {'$set' : {'score' : 124524}})\n",
    "\n",
    "actor.update_many({'name' : '유해진'}, {'$set' : {'score' : 124524}})\n",
    "result = actor.find_one({'name' : '유해진'})\n",
    "print result"
   ]
  },
  {
   "cell_type": "code",
   "execution_count": 31,
   "metadata": {
    "collapsed": false,
    "scrolled": true
   },
   "outputs": [
    {
     "name": "stdout",
     "output_type": "stream",
     "text": [
      "황정민\n",
      "한지민\n",
      "최승호\n",
      "주지훈\n",
      "조한철\n",
      "조윤희\n",
      "조복래\n",
      "정우성\n",
      "정성화\n",
      "정만식\n",
      "전혜빈\n",
      "임지연\n",
      "이효제\n",
      "이준\n",
      "이정현\n",
      "이용녀\n",
      "이수빈\n",
      "이동휘\n",
      "이다윗\n",
      "윤지혜\n",
      "유해진\n",
      "유지태\n",
      "엄태구\n",
      "신은수\n",
      "송강호\n",
      "류덕환\n",
      "김희원\n",
      "김해곤\n",
      "김원해\n",
      "김민상\n",
      "김기춘\n",
      "권해효\n",
      "곽도원\n",
      "공유\n",
      "강동원\n"
     ]
    }
   ],
   "source": [
    "mongo = MongoClient('ec2-54-213-224-243.us-west-2.compute.amazonaws.com' ,27017)\n",
    "mongo.the_database.authenticate(mongo_account['id'], mongo_account['pw'], source = 'test')\n",
    "actor = mongo.test.actor\n",
    "\n",
    "result = actor.find().sort('name', -1)\n",
    "for doc in result:\n",
    "    print doc['name']"
   ]
  },
  {
   "cell_type": "code",
   "execution_count": 32,
   "metadata": {
    "collapsed": false
   },
   "outputs": [
    {
     "name": "stdout",
     "output_type": "stream",
     "text": [
      "1\n"
     ]
    }
   ],
   "source": [
    "result = actor.delete_one({'name' : '황정민'})\n",
    "print result.deleted_count"
   ]
  },
  {
   "cell_type": "code",
   "execution_count": 33,
   "metadata": {
    "collapsed": false,
    "scrolled": true
   },
   "outputs": [
    {
     "name": "stdout",
     "output_type": "stream",
     "text": [
      "한지민\n",
      "최승호\n",
      "주지훈\n",
      "조한철\n",
      "조윤희\n",
      "조복래\n",
      "정우성\n",
      "정성화\n",
      "정만식\n",
      "전혜빈\n",
      "임지연\n",
      "이효제\n",
      "이준\n",
      "이정현\n",
      "이용녀\n",
      "이수빈\n",
      "이동휘\n",
      "이다윗\n",
      "윤지혜\n",
      "유해진\n",
      "유지태\n",
      "엄태구\n",
      "신은수\n",
      "송강호\n",
      "류덕환\n",
      "김희원\n",
      "김해곤\n",
      "김원해\n",
      "김민상\n",
      "김기춘\n",
      "권해효\n",
      "곽도원\n",
      "공유\n",
      "강동원\n"
     ]
    }
   ],
   "source": [
    "result = actor.find().sort('name', -1)\n",
    "for doc in result:\n",
    "    print doc['name']"
   ]
  },
  {
   "cell_type": "code",
   "execution_count": null,
   "metadata": {
    "collapsed": true
   },
   "outputs": [],
   "source": []
  }
 ],
 "metadata": {
  "anaconda-cloud": {},
  "kernelspec": {
   "display_name": "Python [Root]",
   "language": "python",
   "name": "Python [Root]"
  },
  "language_info": {
   "codemirror_mode": {
    "name": "ipython",
    "version": 2
   },
   "file_extension": ".py",
   "mimetype": "text/x-python",
   "name": "python",
   "nbconvert_exporter": "python",
   "pygments_lexer": "ipython2",
   "version": "2.7.12"
  }
 },
 "nbformat": 4,
 "nbformat_minor": 0
}
