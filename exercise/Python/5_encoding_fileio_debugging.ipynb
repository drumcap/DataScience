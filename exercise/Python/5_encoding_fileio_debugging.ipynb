{
 "cells": [
  {
   "cell_type": "code",
   "execution_count": 6,
   "metadata": {
    "collapsed": false
   },
   "outputs": [
    {
     "data": {
      "text/plain": [
       "'\\xed\\x95\\x99\\xea\\xb5\\x90'"
      ]
     },
     "execution_count": 6,
     "metadata": {},
     "output_type": "execute_result"
    }
   ],
   "source": [
    "a = '학교'\n",
    "a"
   ]
  },
  {
   "cell_type": "code",
   "execution_count": 7,
   "metadata": {
    "collapsed": false
   },
   "outputs": [
    {
     "ename": "UnicodeDecodeError",
     "evalue": "'ascii' codec can't decode byte 0xed in position 0: ordinal not in range(128)",
     "output_type": "error",
     "traceback": [
      "\u001b[1;31m---------------------------------------------------------------------------\u001b[0m",
      "\u001b[1;31mUnicodeDecodeError\u001b[0m                        Traceback (most recent call last)",
      "\u001b[1;32m<ipython-input-7-ad8f23d70f9d>\u001b[0m in \u001b[0;36m<module>\u001b[1;34m()\u001b[0m\n\u001b[1;32m----> 1\u001b[1;33m \u001b[0mutf8_str\u001b[0m \u001b[1;33m=\u001b[0m \u001b[0ma\u001b[0m\u001b[1;33m.\u001b[0m\u001b[0mencode\u001b[0m\u001b[1;33m(\u001b[0m\u001b[1;34m'utf-8'\u001b[0m\u001b[1;33m)\u001b[0m\u001b[1;33m\u001b[0m\u001b[0m\n\u001b[0m\u001b[0;32m      2\u001b[0m \u001b[0mutf8_str\u001b[0m\u001b[1;33m\u001b[0m\u001b[0m\n",
      "\u001b[1;31mUnicodeDecodeError\u001b[0m: 'ascii' codec can't decode byte 0xed in position 0: ordinal not in range(128)"
     ]
    }
   ],
   "source": [
    "utf8_str = a.encode('utf-8')\n",
    "utf8_str"
   ]
  },
  {
   "cell_type": "code",
   "execution_count": 8,
   "metadata": {
    "collapsed": false
   },
   "outputs": [
    {
     "data": {
      "text/plain": [
       "u'\\ud559\\uad50'"
      ]
     },
     "execution_count": 8,
     "metadata": {},
     "output_type": "execute_result"
    }
   ],
   "source": [
    "unicode_str = utf8_str.decode('utf-8')\n",
    "unicode_str"
   ]
  },
  {
   "cell_type": "code",
   "execution_count": 68,
   "metadata": {
    "collapsed": true
   },
   "outputs": [],
   "source": [
    "speech = '''Hello friends. \n",
    "This is for you. \n",
    "Thank you'''\n",
    "\n",
    "fout = open('./sample/5_speech', 'wt')\n",
    "fout.write(speech)\n",
    "fout.close()"
   ]
  },
  {
   "cell_type": "code",
   "execution_count": 69,
   "metadata": {
    "collapsed": false
   },
   "outputs": [
    {
     "name": "stdout",
     "output_type": "stream",
     "text": [
      "Hello friends. \n",
      "This is for you. \n",
      "Thank you\n",
      "43\n",
      "43\n"
     ]
    }
   ],
   "source": [
    "fout = open('./sample/5_speech', 'r')\n",
    "data = fout.read()\n",
    "fout.close()\n",
    "print data\n",
    "print len(data)\n",
    "print len(speech)"
   ]
  },
  {
   "cell_type": "code",
   "execution_count": 25,
   "metadata": {
    "collapsed": false
   },
   "outputs": [
    {
     "name": "stdout",
     "output_type": "stream",
     "text": [
      "블룸버그 \"운전자 비상상황 대비 의무조항 없어\"…20일 공식 발표(서울=연합뉴스) 김윤구 기자 = 미국 정부가 자율주행차량 시대를 앞두고 이와 관련한 기준을 처음으로 마련했다.버락 오바마 대통령은 가이드라인 발표에 맞춰 기고문을 통해 자율주행차가 미국인들의 생활방식을 바꿀 것이라고 기대했다.오바마 대통령은 19일(현지시간) 피츠버그 지역 신문인 피츠버그 포스트-가제트 기고에서 자신이 재임한 7년반 동안 자율주행차가 \"공상에서 떠오르는 현실이 됐다\"면서 \"우리가 살아가는 방식을 바꿀 잠재력이 있다\"고 강조했다.그는 미국에서 지난해에만 3만5천200명이 도로에서 사고로 숨졌으며 이 가운데 94%는 인간의 실수나 선택에 의한 것이었다면서 \"자율주행차는 매년 수만명의 목숨을 살릴 가능성이 있다\"고 말했다.그는 이어 자율주행차가 직접 운전하기 어려운 노인이나 장애인의 삶을 변화시킬 것이라고 했다. 또 \"도로도 덜 막히고 오염도 줄어들 것\"이라고 예상했다.하지만 그는 자율주행차의 안전성이 확보돼야 할 것이라면서 이를 위해 15가지 항목을 담은 안전 체크 리스트를 만들었다고 설명했다.미국 정부는 제작사들이 자율주행차를 개발할 때 따라야 할 이 가이드라인을 20일 공식 발표할 예정이다.자율주행차를 개발해온 미국 기업들은 각 주가 서로 모순되는 법을 제정하는 사태를 피하려면 연방 정부의 지도가 필요하다고 요구해왔다. 블룸버그는 이번에 마련된 기준에는 인간이 만일의 상황에 대비해야 한다는 조항이 없어져 완전한 자율주행차로 가는 길이 열렸다고 2명의 소식통을 인용해 보도했다.캘리포니아 같은 일부 주 당국은 인간이 필요할 때 개입할 준비가 돼 있어야 한다고 요구하고 있으므로 연방 정부의 이런 조치는 중요하다고 이 통신은 전했다.운전대와 가속·브레이크 페달이 없는 차량에서 인간 운전자를 완전히 배제하려 하는 구글을 비롯해 5년 안에 완전한 자율주행 차량을 내놓겠다고 공언한 우버나 포드 같은 기업들은 이를 환영할 것으로 보인다.정부 가이드라인에 따라 기업들은 자율주행차가 어떻게 작동하는지, 오류가 생겼을 때는 어떤 일이 벌어지는지 등을 공개하도록 요구받는다. 이는 강제 조항은 아니지만, 기업들이 따를 수밖에 없을 것으로 예상된다.테스트 방식이나 사이버 보안, 사생활 보호, 윤리적으로 고려할 점 등도 15가지 항목에 들어 있다. 일부 조항은 즉시 시행되며 나머지는 의견 수렴 절차를 거쳐 적용될 예정이다.백악관은 피츠버그에서 10월 13일에 자율주행차 콘퍼런스를 열기로 했다. 미국 정부는 자율주행차 가이드라인을 매년 개정할 계획이라고 밝혔다.미국은 전통적인 자동차 제작사들과 실리콘밸리 IT 기업들이 상당한 수준의 기술을 개발한 데다 정부도 주요국 가운데 가장 먼저 가이드라인을 만들며 글로벌 자율주행차 경쟁에서 앞서고 있다.하지만 한국은 상당히 뒤처져 있다.국토교통부는 자율주행차 기준 마련을 위해 아직 유럽 등과 논의 중이다. 국내 자동차업계는 미국이나 일본, 독일 등의 라이벌보다 뒤늦게 관련 기술을 개발하고 있다.kimyg@yna.co.kr<저작권자(c) 연합뉴스, 무단 전재-재배포 금지>\n",
      "kimyg @ yna.co.kr\n"
     ]
    },
    {
     "name": "stderr",
     "output_type": "stream",
     "text": [
      "C:\\Users\\alexmoon\\Anaconda2\\lib\\site-packages\\ipykernel\\__main__.py:23: UnicodeWarning: Unicode equal comparison failed to convert both arguments to Unicode - interpreting them as being unequal\n"
     ]
    }
   ],
   "source": [
    "import requests\n",
    "from bs4 import BeautifulSoup\n",
    "\n",
    "def get_news_content(url):\n",
    "    response = requests.get(url)\n",
    "    content = response.text\n",
    "    \n",
    "    soup = BeautifulSoup(content)\n",
    "    \n",
    "    div = soup.find('div', attrs = {'id' : 'kakaoContent'})\n",
    "    \n",
    "    content = ''\n",
    "    for paragraph in div.find_all('p'):\n",
    "        content += paragraph.get_text()\n",
    "        \n",
    "    return content\n",
    "\n",
    "news1 = get_news_content('http://v.media.daum.net/v/20160920150157073')\n",
    "\n",
    "print news1\n",
    "\n",
    "for word in news1.split(' '):\n",
    "    if word =='미국':\n",
    "        print 'exist'\n",
    "        \n",
    "print news1.split('@')[0].split('.')[-1], '@', news1.split('@')[1].split('<')[0]"
   ]
  },
  {
   "cell_type": "code",
   "execution_count": 70,
   "metadata": {
    "collapsed": false
   },
   "outputs": [
    {
     "name": "stdout",
     "output_type": "stream",
     "text": [
      "Hello friends. \n",
      "This is for you. \n",
      "Thank you\n"
     ]
    }
   ],
   "source": [
    "text = ''\n",
    "fin2 = open('./sample/5_speech', 'r')\n",
    "while True:\n",
    "    line = fin2.readline()\n",
    "    if not line:\n",
    "        break\n",
    "    text += line\n",
    "    \n",
    "fin2.close()\n",
    "\n",
    "print text"
   ]
  },
  {
   "cell_type": "code",
   "execution_count": 72,
   "metadata": {
    "collapsed": false
   },
   "outputs": [
    {
     "name": "stdout",
     "output_type": "stream",
     "text": [
      "Hello friends. \n",
      "This is for you. \n",
      "Thank you\n"
     ]
    }
   ],
   "source": [
    "text = ''\n",
    "fin3 = open('./sample/5_speech', 'r')\n",
    "for line in fin3:\n",
    "    text += line\n",
    "    \n",
    "fin3.close()\n",
    "print text"
   ]
  },
  {
   "cell_type": "code",
   "execution_count": 74,
   "metadata": {
    "collapsed": false
   },
   "outputs": [
    {
     "name": "stdout",
     "output_type": "stream",
     "text": [
      "3 ['Hello friends. \\n', 'This is for you. \\n', 'Thank you']\n",
      "Hello friends. \n",
      "\n",
      "This is for you. \n",
      "\n",
      "Thank you\n"
     ]
    }
   ],
   "source": [
    "text = ''\n",
    "fin4 = open('./sample/5_speech', 'r')\n",
    "lines = fin4.readlines()\n",
    "fin4.close()\n",
    "\n",
    "print len(lines), lines\n",
    "for line in lines:\n",
    "    print line"
   ]
  },
  {
   "cell_type": "code",
   "execution_count": 123,
   "metadata": {
    "collapsed": false,
    "scrolled": true
   },
   "outputs": [
    {
     "name": "stdout",
     "output_type": "stream",
     "text": [
      "\u0000\u0001\u0002\u0003\u0004\u0005\u0006\u0007\b\t\n",
      "\u000b",
      "\f",
      "\r",
      "\u000e\u000f\u0010\u0011\u0012\u0013\u0014\u0015\u0016\u0017\u0018\u0019\u001a\u001b\u001c",
      "\u001d",
      "\u001e",
      "\u001f !\"#$%&'()*+,-./0123456789:;<=>?@ABCDEFGHIJKLMNOPQRSTUVWXYZ[\\]^_`abcdefghijklmnopqrstuvwxyz{|}~��������������������������������������������������������������������������������������������������������������������������������\n"
     ]
    }
   ],
   "source": [
    "bytes = bytearray(range(256))\n",
    "print bytes\n",
    "\n",
    "fout = open('./sample/5_bytefile', 'wb')\n",
    "fout.write(bytes)\n",
    "fout.close()"
   ]
  },
  {
   "cell_type": "code",
   "execution_count": 106,
   "metadata": {
    "collapsed": false
   },
   "outputs": [
    {
     "ename": "IOError",
     "evalue": "[Errno 2] No such file or directory: './sample/5_bytefile'",
     "output_type": "error",
     "traceback": [
      "\u001b[1;31m---------------------------------------------------------------------------\u001b[0m",
      "\u001b[1;31mIOError\u001b[0m                                   Traceback (most recent call last)",
      "\u001b[1;32m<ipython-input-106-4d53283584e2>\u001b[0m in \u001b[0;36m<module>\u001b[1;34m()\u001b[0m\n\u001b[1;32m----> 1\u001b[1;33m \u001b[0mfin\u001b[0m \u001b[1;33m=\u001b[0m \u001b[0mopen\u001b[0m\u001b[1;33m(\u001b[0m\u001b[1;34m'./sample/5_bytefile'\u001b[0m\u001b[1;33m,\u001b[0m \u001b[1;34m'rb'\u001b[0m\u001b[1;33m)\u001b[0m\u001b[1;33m\u001b[0m\u001b[0m\n\u001b[0m\u001b[0;32m      2\u001b[0m \u001b[0mcontents\u001b[0m \u001b[1;33m=\u001b[0m \u001b[0mfin\u001b[0m\u001b[1;33m.\u001b[0m\u001b[0mread\u001b[0m\u001b[1;33m(\u001b[0m\u001b[1;33m)\u001b[0m\u001b[1;33m\u001b[0m\u001b[0m\n\u001b[0;32m      3\u001b[0m \u001b[0mfin\u001b[0m\u001b[1;33m.\u001b[0m\u001b[0mclose\u001b[0m\u001b[1;33m(\u001b[0m\u001b[1;33m)\u001b[0m\u001b[1;33m\u001b[0m\u001b[0m\n\u001b[0;32m      4\u001b[0m \u001b[1;32mprint\u001b[0m \u001b[0mcontents\u001b[0m\u001b[1;33m\u001b[0m\u001b[0m\n",
      "\u001b[1;31mIOError\u001b[0m: [Errno 2] No such file or directory: './sample/5_bytefile'"
     ]
    }
   ],
   "source": [
    "fin = open('./sample/5_bytefile', 'rb')\n",
    "contents = fin.read()\n",
    "fin.close()\n",
    "print contents"
   ]
  },
  {
   "cell_type": "code",
   "execution_count": 104,
   "metadata": {
    "collapsed": false
   },
   "outputs": [
    {
     "name": "stdout",
     "output_type": "stream",
     "text": [
      "Hello friends. \n",
      "This is for you. \n",
      "Thank you\n"
     ]
    }
   ],
   "source": [
    "with open('./sample/5_speech', 'r') as fin:\n",
    "    cont = fin.read()\n",
    "    print cont"
   ]
  },
  {
   "cell_type": "code",
   "execution_count": 126,
   "metadata": {
    "collapsed": false
   },
   "outputs": [
    {
     "name": "stdout",
     "output_type": "stream",
     "text": [
      "C:\\Users\\alexmoon\\Documents\\link_to_git\\moonkwoo\\DataScience\\excercise\\Python\n",
      "data\\base\n",
      "./sample 5_bytefile\n",
      "C:\\Users\\alexmoon\\Documents\\link_to_git\\moonkwoo\\DataScience\\excercise\\Python\\sample\\5_bytefile\n",
      "./sample 5_speech\n",
      "C:\\Users\\alexmoon\\Documents\\link_to_git\\moonkwoo\\DataScience\\excercise\\Python\\sample\\5_speech\n",
      "./sample\\5_csv result2.csv\n",
      "C:\\Users\\alexmoon\\Documents\\link_to_git\\moonkwoo\\DataScience\\excercise\\Python\\sample\\result2.csv\n",
      "./sample\\5_csv sample.csv\n",
      "C:\\Users\\alexmoon\\Documents\\link_to_git\\moonkwoo\\DataScience\\excercise\\Python\\sample\\sample.csv\n",
      "./sample\\5_tf_idf tf_idf1.txt\n",
      "C:\\Users\\alexmoon\\Documents\\link_to_git\\moonkwoo\\DataScience\\excercise\\Python\\sample\\tf_idf1.txt\n",
      "./sample\\5_tf_idf tf_idf2.txt\n",
      "C:\\Users\\alexmoon\\Documents\\link_to_git\\moonkwoo\\DataScience\\excercise\\Python\\sample\\tf_idf2.txt\n",
      "./sample\\5_tf_idf tf_idf3.txt\n",
      "C:\\Users\\alexmoon\\Documents\\link_to_git\\moonkwoo\\DataScience\\excercise\\Python\\sample\\tf_idf3.txt\n"
     ]
    }
   ],
   "source": [
    "import os\n",
    "print os.getcwd()\n",
    "print os.path.join('data','base')\n",
    "for root, dirs, files in os.walk('./sample'):\n",
    "    for f in files:\n",
    "        print root, f\n",
    "        print os.path.join(os.getcwd(), 'sample', f)"
   ]
  },
  {
   "cell_type": "code",
   "execution_count": 120,
   "metadata": {
    "collapsed": false
   },
   "outputs": [
    {
     "name": "stdout",
     "output_type": "stream",
     "text": [
      "['5_bytefile', '5_speech', 'result2.csv', 'sample.csv', 'tf_idf1.txt', 'tf_idf2.txt', 'tf_idf3.txt']\n"
     ]
    }
   ],
   "source": [
    "for root, dirs, files in os.walk('./sample'):\n",
    "    print files"
   ]
  },
  {
   "cell_type": "code",
   "execution_count": 144,
   "metadata": {
    "collapsed": false
   },
   "outputs": [
    {
     "name": "stdout",
     "output_type": "stream",
     "text": [
      "['id', 'city', 'population', 'area']\n",
      "['1', 'pangyo', '1000', '230']\n",
      "['2', 'seoul', '2000', '400']\n",
      "['3', 'busan', '5000', '500']\n",
      "['4', 'jeju', '200', '200']\n"
     ]
    }
   ],
   "source": [
    "import csv\n",
    "\n",
    "with open('./sample/5_csv/sample.csv', 'r') as f:\n",
    "    rows = csv.reader(f)\n",
    "    #rows.next()\n",
    "    for r in rows:\n",
    "        print r"
   ]
  },
  {
   "cell_type": "code",
   "execution_count": 142,
   "metadata": {
    "collapsed": false
   },
   "outputs": [
    {
     "name": "stdout",
     "output_type": "stream",
     "text": [
      "['city', 'population']\n",
      "['pangyo', '1000']\n",
      "['seoul', '2000']\n",
      "['busan', '5000']\n",
      "['jeju', '200']\n"
     ]
    }
   ],
   "source": [
    "import csv\n",
    "\n",
    "with open('./sample/5_csv/sample.csv', 'r') as f:\n",
    "    rows = csv.reader(f)\n",
    "    rows.next()\n",
    "    with open('./sample/5_csv/result2.csv', 'w') as fw:\n",
    "        write_csv = csv.writer(fw)\n",
    "        write_csv.writerow(['city', 'population'])\n",
    "        for r in rows:\n",
    "            write_csv.writerow([r[1], r[2]])\n",
    "            \n",
    "with open('./sample/5_csv/result2.csv', 'r') as fr:\n",
    "    rows2 = csv.reader(fr)\n",
    "    for r2 in rows2:\n",
    "        print r2"
   ]
  },
  {
   "cell_type": "code",
   "execution_count": 143,
   "metadata": {
    "collapsed": false
   },
   "outputs": [
    {
     "name": "stdout",
     "output_type": "stream",
     "text": [
      "{'city': 'pangyo', 'area': '230', 'id': '1', 'population': '1000'}\n",
      "{'city': 'seoul', 'area': '400', 'id': '2', 'population': '2000'}\n",
      "{'city': 'busan', 'area': '500', 'id': '3', 'population': '5000'}\n",
      "{'city': 'jeju', 'area': '200', 'id': '4', 'population': '200'}\n"
     ]
    }
   ],
   "source": [
    "import csv\n",
    "\n",
    "with open('./sample/5_csv/sample.csv', 'r') as f:\n",
    "    rows = csv.DictReader(f)\n",
    "    for row in rows:\n",
    "        print row"
   ]
  },
  {
   "cell_type": "code",
   "execution_count": null,
   "metadata": {
    "collapsed": true
   },
   "outputs": [],
   "source": []
  },
  {
   "cell_type": "code",
   "execution_count": null,
   "metadata": {
    "collapsed": true
   },
   "outputs": [],
   "source": []
  }
 ],
 "metadata": {
  "anaconda-cloud": {},
  "kernelspec": {
   "display_name": "Python [Root]",
   "language": "python",
   "name": "Python [Root]"
  },
  "language_info": {
   "codemirror_mode": {
    "name": "ipython",
    "version": 2
   },
   "file_extension": ".py",
   "mimetype": "text/x-python",
   "name": "python",
   "nbconvert_exporter": "python",
   "pygments_lexer": "ipython2",
   "version": "2.7.12"
  }
 },
 "nbformat": 4,
 "nbformat_minor": 0
}
